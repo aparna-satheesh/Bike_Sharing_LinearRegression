{
  "nbformat": 4,
  "nbformat_minor": 0,
  "metadata": {
    "colab": {
      "name": "Biker Assignment_Final.ipynb",
      "provenance": [],
      "collapsed_sections": [
        "trcIkp_bd7Lz"
      ]
    },
    "kernelspec": {
      "name": "python3",
      "display_name": "Python 3"
    },
    "language_info": {
      "name": "python"
    }
  },
  "cells": [
    {
      "cell_type": "markdown",
      "metadata": {
        "id": "trcIkp_bd7Lz"
      },
      "source": [
        "###Biker Assignment"
      ]
    },
    {
      "cell_type": "markdown",
      "metadata": {
        "id": "bhKxB5R5nVdB"
      },
      "source": [
        "###Problem Statement\n"
      ]
    },
    {
      "cell_type": "code",
      "metadata": {
        "id": "pjvjs1wZd3iK",
        "colab": {
          "base_uri": "https://localhost:8080/"
        },
        "outputId": "973996d9-ac0d-4667-d474-64f6bf4a2ccd"
      },
      "source": [
        "# Importing all required packages\n",
        "import numpy as np\n",
        "import pandas as pd\n",
        "import matplotlib.pyplot as plt\n",
        "import seaborn as sns\n",
        "%matplotlib inline\n",
        "from pandas.api.types import CategoricalDtype\n",
        "import sklearn\n",
        "from sklearn.model_selection import train_test_split\n",
        "from sklearn.preprocessing import MinMaxScaler\n",
        "from sklearn.feature_selection import RFE\n",
        "from sklearn.linear_model import LinearRegression\n",
        "import statsmodels.api as sm\n",
        "from statsmodels.stats.outliers_influence import variance_inflation_factor\n",
        "from sklearn.metrics import r2_score"
      ],
      "execution_count": 1,
      "outputs": [
        {
          "output_type": "stream",
          "text": [
            "/usr/local/lib/python3.7/dist-packages/statsmodels/tools/_testing.py:19: FutureWarning: pandas.util.testing is deprecated. Use the functions in the public API at pandas.testing instead.\n",
            "  import pandas.util.testing as tm\n"
          ],
          "name": "stderr"
        }
      ]
    },
    {
      "cell_type": "code",
      "metadata": {
        "id": "ON-0I5j5cW1g"
      },
      "source": [
        "import warnings\n",
        "warnings.filterwarnings('ignore')"
      ],
      "execution_count": 2,
      "outputs": []
    },
    {
      "cell_type": "code",
      "metadata": {
        "colab": {
          "resources": {
            "http://localhost:8080/nbextensions/google.colab/files.js": {
              "data": "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",
              "ok": true,
              "headers": [
                [
                  "content-type",
                  "application/javascript"
                ]
              ],
              "status": 200,
              "status_text": ""
            }
          },
          "base_uri": "https://localhost:8080/",
          "height": 73
        },
        "id": "IVm6niCSn5lF",
        "outputId": "f6648727-b454-4e45-d138-59400e838bc7"
      },
      "source": [
        "from google.colab import files\n",
        "df=files.upload()"
      ],
      "execution_count": 3,
      "outputs": [
        {
          "output_type": "display_data",
          "data": {
            "text/html": [
              "\n",
              "     <input type=\"file\" id=\"files-e641546e-b536-407b-bb27-23bfa850132b\" name=\"files[]\" multiple disabled\n",
              "        style=\"border:none\" />\n",
              "     <output id=\"result-e641546e-b536-407b-bb27-23bfa850132b\">\n",
              "      Upload widget is only available when the cell has been executed in the\n",
              "      current browser session. Please rerun this cell to enable.\n",
              "      </output>\n",
              "      <script src=\"/nbextensions/google.colab/files.js\"></script> "
            ],
            "text/plain": [
              "<IPython.core.display.HTML object>"
            ]
          },
          "metadata": {
            "tags": []
          }
        },
        {
          "output_type": "stream",
          "text": [
            "Saving day.csv to day.csv\n"
          ],
          "name": "stdout"
        }
      ]
    },
    {
      "cell_type": "code",
      "metadata": {
        "id": "EBj1IpwcoAh1"
      },
      "source": [
        "#Importing dataset\n",
        "df=pd.read_csv('day.csv')"
      ],
      "execution_count": 4,
      "outputs": []
    },
    {
      "cell_type": "code",
      "metadata": {
        "colab": {
          "base_uri": "https://localhost:8080/",
          "height": 200
        },
        "id": "w3WLZP9NoyCe",
        "outputId": "36e67ee9-44f0-43a7-9638-a4770e314bb6"
      },
      "source": [
        "df.head()"
      ],
      "execution_count": 5,
      "outputs": [
        {
          "output_type": "execute_result",
          "data": {
            "text/html": [
              "<div>\n",
              "<style scoped>\n",
              "    .dataframe tbody tr th:only-of-type {\n",
              "        vertical-align: middle;\n",
              "    }\n",
              "\n",
              "    .dataframe tbody tr th {\n",
              "        vertical-align: top;\n",
              "    }\n",
              "\n",
              "    .dataframe thead th {\n",
              "        text-align: right;\n",
              "    }\n",
              "</style>\n",
              "<table border=\"1\" class=\"dataframe\">\n",
              "  <thead>\n",
              "    <tr style=\"text-align: right;\">\n",
              "      <th></th>\n",
              "      <th>instant</th>\n",
              "      <th>dteday</th>\n",
              "      <th>season</th>\n",
              "      <th>yr</th>\n",
              "      <th>mnth</th>\n",
              "      <th>holiday</th>\n",
              "      <th>weekday</th>\n",
              "      <th>workingday</th>\n",
              "      <th>weathersit</th>\n",
              "      <th>temp</th>\n",
              "      <th>atemp</th>\n",
              "      <th>hum</th>\n",
              "      <th>windspeed</th>\n",
              "      <th>casual</th>\n",
              "      <th>registered</th>\n",
              "      <th>cnt</th>\n",
              "    </tr>\n",
              "  </thead>\n",
              "  <tbody>\n",
              "    <tr>\n",
              "      <th>0</th>\n",
              "      <td>1</td>\n",
              "      <td>01-01-2018</td>\n",
              "      <td>1</td>\n",
              "      <td>0</td>\n",
              "      <td>1</td>\n",
              "      <td>0</td>\n",
              "      <td>1</td>\n",
              "      <td>1</td>\n",
              "      <td>2</td>\n",
              "      <td>14.110847</td>\n",
              "      <td>18.18125</td>\n",
              "      <td>80.5833</td>\n",
              "      <td>10.749882</td>\n",
              "      <td>331</td>\n",
              "      <td>654</td>\n",
              "      <td>985</td>\n",
              "    </tr>\n",
              "    <tr>\n",
              "      <th>1</th>\n",
              "      <td>2</td>\n",
              "      <td>02-01-2018</td>\n",
              "      <td>1</td>\n",
              "      <td>0</td>\n",
              "      <td>1</td>\n",
              "      <td>0</td>\n",
              "      <td>2</td>\n",
              "      <td>1</td>\n",
              "      <td>2</td>\n",
              "      <td>14.902598</td>\n",
              "      <td>17.68695</td>\n",
              "      <td>69.6087</td>\n",
              "      <td>16.652113</td>\n",
              "      <td>131</td>\n",
              "      <td>670</td>\n",
              "      <td>801</td>\n",
              "    </tr>\n",
              "    <tr>\n",
              "      <th>2</th>\n",
              "      <td>3</td>\n",
              "      <td>03-01-2018</td>\n",
              "      <td>1</td>\n",
              "      <td>0</td>\n",
              "      <td>1</td>\n",
              "      <td>0</td>\n",
              "      <td>3</td>\n",
              "      <td>1</td>\n",
              "      <td>1</td>\n",
              "      <td>8.050924</td>\n",
              "      <td>9.47025</td>\n",
              "      <td>43.7273</td>\n",
              "      <td>16.636703</td>\n",
              "      <td>120</td>\n",
              "      <td>1229</td>\n",
              "      <td>1349</td>\n",
              "    </tr>\n",
              "    <tr>\n",
              "      <th>3</th>\n",
              "      <td>4</td>\n",
              "      <td>04-01-2018</td>\n",
              "      <td>1</td>\n",
              "      <td>0</td>\n",
              "      <td>1</td>\n",
              "      <td>0</td>\n",
              "      <td>4</td>\n",
              "      <td>1</td>\n",
              "      <td>1</td>\n",
              "      <td>8.200000</td>\n",
              "      <td>10.60610</td>\n",
              "      <td>59.0435</td>\n",
              "      <td>10.739832</td>\n",
              "      <td>108</td>\n",
              "      <td>1454</td>\n",
              "      <td>1562</td>\n",
              "    </tr>\n",
              "    <tr>\n",
              "      <th>4</th>\n",
              "      <td>5</td>\n",
              "      <td>05-01-2018</td>\n",
              "      <td>1</td>\n",
              "      <td>0</td>\n",
              "      <td>1</td>\n",
              "      <td>0</td>\n",
              "      <td>5</td>\n",
              "      <td>1</td>\n",
              "      <td>1</td>\n",
              "      <td>9.305237</td>\n",
              "      <td>11.46350</td>\n",
              "      <td>43.6957</td>\n",
              "      <td>12.522300</td>\n",
              "      <td>82</td>\n",
              "      <td>1518</td>\n",
              "      <td>1600</td>\n",
              "    </tr>\n",
              "  </tbody>\n",
              "</table>\n",
              "</div>"
            ],
            "text/plain": [
              "   instant      dteday  season  yr  ...  windspeed  casual  registered   cnt\n",
              "0        1  01-01-2018       1   0  ...  10.749882     331         654   985\n",
              "1        2  02-01-2018       1   0  ...  16.652113     131         670   801\n",
              "2        3  03-01-2018       1   0  ...  16.636703     120        1229  1349\n",
              "3        4  04-01-2018       1   0  ...  10.739832     108        1454  1562\n",
              "4        5  05-01-2018       1   0  ...  12.522300      82        1518  1600\n",
              "\n",
              "[5 rows x 16 columns]"
            ]
          },
          "metadata": {
            "tags": []
          },
          "execution_count": 5
        }
      ]
    },
    {
      "cell_type": "markdown",
      "metadata": {
        "id": "3hKCc-pyXW7C"
      },
      "source": [
        "###Analysing the Dataset"
      ]
    },
    {
      "cell_type": "code",
      "metadata": {
        "colab": {
          "base_uri": "https://localhost:8080/"
        },
        "id": "QCpqRIwAYOqp",
        "outputId": "ff055cc5-12c6-4485-d4ce-99a1b0bb16fb"
      },
      "source": [
        "#Shape of the dataframe\n",
        "df.shape"
      ],
      "execution_count": 6,
      "outputs": [
        {
          "output_type": "execute_result",
          "data": {
            "text/plain": [
              "(730, 16)"
            ]
          },
          "metadata": {
            "tags": []
          },
          "execution_count": 6
        }
      ]
    },
    {
      "cell_type": "code",
      "metadata": {
        "colab": {
          "base_uri": "https://localhost:8080/"
        },
        "id": "jUxymt44cU_K",
        "outputId": "ee433d6f-826b-4afd-82bf-2fc0a2d793be"
      },
      "source": [
        "df.info()"
      ],
      "execution_count": 7,
      "outputs": [
        {
          "output_type": "stream",
          "text": [
            "<class 'pandas.core.frame.DataFrame'>\n",
            "RangeIndex: 730 entries, 0 to 729\n",
            "Data columns (total 16 columns):\n",
            " #   Column      Non-Null Count  Dtype  \n",
            "---  ------      --------------  -----  \n",
            " 0   instant     730 non-null    int64  \n",
            " 1   dteday      730 non-null    object \n",
            " 2   season      730 non-null    int64  \n",
            " 3   yr          730 non-null    int64  \n",
            " 4   mnth        730 non-null    int64  \n",
            " 5   holiday     730 non-null    int64  \n",
            " 6   weekday     730 non-null    int64  \n",
            " 7   workingday  730 non-null    int64  \n",
            " 8   weathersit  730 non-null    int64  \n",
            " 9   temp        730 non-null    float64\n",
            " 10  atemp       730 non-null    float64\n",
            " 11  hum         730 non-null    float64\n",
            " 12  windspeed   730 non-null    float64\n",
            " 13  casual      730 non-null    int64  \n",
            " 14  registered  730 non-null    int64  \n",
            " 15  cnt         730 non-null    int64  \n",
            "dtypes: float64(4), int64(11), object(1)\n",
            "memory usage: 91.4+ KB\n"
          ],
          "name": "stdout"
        }
      ]
    },
    {
      "cell_type": "code",
      "metadata": {
        "colab": {
          "base_uri": "https://localhost:8080/",
          "height": 311
        },
        "id": "pjl8cUiKd0O9",
        "outputId": "beb5af7b-6cf9-4559-d3bb-2d863a0458b3"
      },
      "source": [
        "#Describe the numerical values in the dataframe\n",
        "df.describe()"
      ],
      "execution_count": 8,
      "outputs": [
        {
          "output_type": "execute_result",
          "data": {
            "text/html": [
              "<div>\n",
              "<style scoped>\n",
              "    .dataframe tbody tr th:only-of-type {\n",
              "        vertical-align: middle;\n",
              "    }\n",
              "\n",
              "    .dataframe tbody tr th {\n",
              "        vertical-align: top;\n",
              "    }\n",
              "\n",
              "    .dataframe thead th {\n",
              "        text-align: right;\n",
              "    }\n",
              "</style>\n",
              "<table border=\"1\" class=\"dataframe\">\n",
              "  <thead>\n",
              "    <tr style=\"text-align: right;\">\n",
              "      <th></th>\n",
              "      <th>instant</th>\n",
              "      <th>season</th>\n",
              "      <th>yr</th>\n",
              "      <th>mnth</th>\n",
              "      <th>holiday</th>\n",
              "      <th>weekday</th>\n",
              "      <th>workingday</th>\n",
              "      <th>weathersit</th>\n",
              "      <th>temp</th>\n",
              "      <th>atemp</th>\n",
              "      <th>hum</th>\n",
              "      <th>windspeed</th>\n",
              "      <th>casual</th>\n",
              "      <th>registered</th>\n",
              "      <th>cnt</th>\n",
              "    </tr>\n",
              "  </thead>\n",
              "  <tbody>\n",
              "    <tr>\n",
              "      <th>count</th>\n",
              "      <td>730.000000</td>\n",
              "      <td>730.000000</td>\n",
              "      <td>730.000000</td>\n",
              "      <td>730.000000</td>\n",
              "      <td>730.000000</td>\n",
              "      <td>730.000000</td>\n",
              "      <td>730.000000</td>\n",
              "      <td>730.000000</td>\n",
              "      <td>730.000000</td>\n",
              "      <td>730.000000</td>\n",
              "      <td>730.000000</td>\n",
              "      <td>730.000000</td>\n",
              "      <td>730.000000</td>\n",
              "      <td>730.000000</td>\n",
              "      <td>730.000000</td>\n",
              "    </tr>\n",
              "    <tr>\n",
              "      <th>mean</th>\n",
              "      <td>365.500000</td>\n",
              "      <td>2.498630</td>\n",
              "      <td>0.500000</td>\n",
              "      <td>6.526027</td>\n",
              "      <td>0.028767</td>\n",
              "      <td>2.995890</td>\n",
              "      <td>0.690411</td>\n",
              "      <td>1.394521</td>\n",
              "      <td>20.319259</td>\n",
              "      <td>23.726322</td>\n",
              "      <td>62.765175</td>\n",
              "      <td>12.763620</td>\n",
              "      <td>849.249315</td>\n",
              "      <td>3658.757534</td>\n",
              "      <td>4508.006849</td>\n",
              "    </tr>\n",
              "    <tr>\n",
              "      <th>std</th>\n",
              "      <td>210.877136</td>\n",
              "      <td>1.110184</td>\n",
              "      <td>0.500343</td>\n",
              "      <td>3.450215</td>\n",
              "      <td>0.167266</td>\n",
              "      <td>2.000339</td>\n",
              "      <td>0.462641</td>\n",
              "      <td>0.544807</td>\n",
              "      <td>7.506729</td>\n",
              "      <td>8.150308</td>\n",
              "      <td>14.237589</td>\n",
              "      <td>5.195841</td>\n",
              "      <td>686.479875</td>\n",
              "      <td>1559.758728</td>\n",
              "      <td>1936.011647</td>\n",
              "    </tr>\n",
              "    <tr>\n",
              "      <th>min</th>\n",
              "      <td>1.000000</td>\n",
              "      <td>1.000000</td>\n",
              "      <td>0.000000</td>\n",
              "      <td>1.000000</td>\n",
              "      <td>0.000000</td>\n",
              "      <td>0.000000</td>\n",
              "      <td>0.000000</td>\n",
              "      <td>1.000000</td>\n",
              "      <td>2.424346</td>\n",
              "      <td>3.953480</td>\n",
              "      <td>0.000000</td>\n",
              "      <td>1.500244</td>\n",
              "      <td>2.000000</td>\n",
              "      <td>20.000000</td>\n",
              "      <td>22.000000</td>\n",
              "    </tr>\n",
              "    <tr>\n",
              "      <th>25%</th>\n",
              "      <td>183.250000</td>\n",
              "      <td>2.000000</td>\n",
              "      <td>0.000000</td>\n",
              "      <td>4.000000</td>\n",
              "      <td>0.000000</td>\n",
              "      <td>1.000000</td>\n",
              "      <td>0.000000</td>\n",
              "      <td>1.000000</td>\n",
              "      <td>13.811885</td>\n",
              "      <td>16.889713</td>\n",
              "      <td>52.000000</td>\n",
              "      <td>9.041650</td>\n",
              "      <td>316.250000</td>\n",
              "      <td>2502.250000</td>\n",
              "      <td>3169.750000</td>\n",
              "    </tr>\n",
              "    <tr>\n",
              "      <th>50%</th>\n",
              "      <td>365.500000</td>\n",
              "      <td>3.000000</td>\n",
              "      <td>0.500000</td>\n",
              "      <td>7.000000</td>\n",
              "      <td>0.000000</td>\n",
              "      <td>3.000000</td>\n",
              "      <td>1.000000</td>\n",
              "      <td>1.000000</td>\n",
              "      <td>20.465826</td>\n",
              "      <td>24.368225</td>\n",
              "      <td>62.625000</td>\n",
              "      <td>12.125325</td>\n",
              "      <td>717.000000</td>\n",
              "      <td>3664.500000</td>\n",
              "      <td>4548.500000</td>\n",
              "    </tr>\n",
              "    <tr>\n",
              "      <th>75%</th>\n",
              "      <td>547.750000</td>\n",
              "      <td>3.000000</td>\n",
              "      <td>1.000000</td>\n",
              "      <td>10.000000</td>\n",
              "      <td>0.000000</td>\n",
              "      <td>5.000000</td>\n",
              "      <td>1.000000</td>\n",
              "      <td>2.000000</td>\n",
              "      <td>26.880615</td>\n",
              "      <td>30.445775</td>\n",
              "      <td>72.989575</td>\n",
              "      <td>15.625589</td>\n",
              "      <td>1096.500000</td>\n",
              "      <td>4783.250000</td>\n",
              "      <td>5966.000000</td>\n",
              "    </tr>\n",
              "    <tr>\n",
              "      <th>max</th>\n",
              "      <td>730.000000</td>\n",
              "      <td>4.000000</td>\n",
              "      <td>1.000000</td>\n",
              "      <td>12.000000</td>\n",
              "      <td>1.000000</td>\n",
              "      <td>6.000000</td>\n",
              "      <td>1.000000</td>\n",
              "      <td>3.000000</td>\n",
              "      <td>35.328347</td>\n",
              "      <td>42.044800</td>\n",
              "      <td>97.250000</td>\n",
              "      <td>34.000021</td>\n",
              "      <td>3410.000000</td>\n",
              "      <td>6946.000000</td>\n",
              "      <td>8714.000000</td>\n",
              "    </tr>\n",
              "  </tbody>\n",
              "</table>\n",
              "</div>"
            ],
            "text/plain": [
              "          instant      season  ...   registered          cnt\n",
              "count  730.000000  730.000000  ...   730.000000   730.000000\n",
              "mean   365.500000    2.498630  ...  3658.757534  4508.006849\n",
              "std    210.877136    1.110184  ...  1559.758728  1936.011647\n",
              "min      1.000000    1.000000  ...    20.000000    22.000000\n",
              "25%    183.250000    2.000000  ...  2502.250000  3169.750000\n",
              "50%    365.500000    3.000000  ...  3664.500000  4548.500000\n",
              "75%    547.750000    3.000000  ...  4783.250000  5966.000000\n",
              "max    730.000000    4.000000  ...  6946.000000  8714.000000\n",
              "\n",
              "[8 rows x 15 columns]"
            ]
          },
          "metadata": {
            "tags": []
          },
          "execution_count": 8
        }
      ]
    },
    {
      "cell_type": "code",
      "metadata": {
        "id": "38LLOFrjBTvx"
      },
      "source": [
        "df.drop_duplicates(subset=None, keep='first', inplace=True)"
      ],
      "execution_count": 9,
      "outputs": []
    },
    {
      "cell_type": "code",
      "metadata": {
        "colab": {
          "base_uri": "https://localhost:8080/"
        },
        "id": "bB09NeAbBvGm",
        "outputId": "9302dbd5-f0ac-4908-9d07-1677da14a0ab"
      },
      "source": [
        "df.shape\n",
        "#there are no duplicate values as no values were dropped."
      ],
      "execution_count": 10,
      "outputs": [
        {
          "output_type": "execute_result",
          "data": {
            "text/plain": [
              "(730, 16)"
            ]
          },
          "metadata": {
            "tags": []
          },
          "execution_count": 10
        }
      ]
    },
    {
      "cell_type": "markdown",
      "metadata": {
        "id": "DGa_74qKCOdW"
      },
      "source": [
        "###Cleaning the Dataframe"
      ]
    },
    {
      "cell_type": "code",
      "metadata": {
        "id": "qz9wBT0kCYOX"
      },
      "source": [
        "df1=df.copy()"
      ],
      "execution_count": 11,
      "outputs": []
    },
    {
      "cell_type": "code",
      "metadata": {
        "colab": {
          "base_uri": "https://localhost:8080/",
          "height": 200
        },
        "id": "oLb6IwTbCoKY",
        "outputId": "d62a27b4-b073-4d66-ff68-3ba65c768f15"
      },
      "source": [
        "df1.head()"
      ],
      "execution_count": 12,
      "outputs": [
        {
          "output_type": "execute_result",
          "data": {
            "text/html": [
              "<div>\n",
              "<style scoped>\n",
              "    .dataframe tbody tr th:only-of-type {\n",
              "        vertical-align: middle;\n",
              "    }\n",
              "\n",
              "    .dataframe tbody tr th {\n",
              "        vertical-align: top;\n",
              "    }\n",
              "\n",
              "    .dataframe thead th {\n",
              "        text-align: right;\n",
              "    }\n",
              "</style>\n",
              "<table border=\"1\" class=\"dataframe\">\n",
              "  <thead>\n",
              "    <tr style=\"text-align: right;\">\n",
              "      <th></th>\n",
              "      <th>instant</th>\n",
              "      <th>dteday</th>\n",
              "      <th>season</th>\n",
              "      <th>yr</th>\n",
              "      <th>mnth</th>\n",
              "      <th>holiday</th>\n",
              "      <th>weekday</th>\n",
              "      <th>workingday</th>\n",
              "      <th>weathersit</th>\n",
              "      <th>temp</th>\n",
              "      <th>atemp</th>\n",
              "      <th>hum</th>\n",
              "      <th>windspeed</th>\n",
              "      <th>casual</th>\n",
              "      <th>registered</th>\n",
              "      <th>cnt</th>\n",
              "    </tr>\n",
              "  </thead>\n",
              "  <tbody>\n",
              "    <tr>\n",
              "      <th>0</th>\n",
              "      <td>1</td>\n",
              "      <td>01-01-2018</td>\n",
              "      <td>1</td>\n",
              "      <td>0</td>\n",
              "      <td>1</td>\n",
              "      <td>0</td>\n",
              "      <td>1</td>\n",
              "      <td>1</td>\n",
              "      <td>2</td>\n",
              "      <td>14.110847</td>\n",
              "      <td>18.18125</td>\n",
              "      <td>80.5833</td>\n",
              "      <td>10.749882</td>\n",
              "      <td>331</td>\n",
              "      <td>654</td>\n",
              "      <td>985</td>\n",
              "    </tr>\n",
              "    <tr>\n",
              "      <th>1</th>\n",
              "      <td>2</td>\n",
              "      <td>02-01-2018</td>\n",
              "      <td>1</td>\n",
              "      <td>0</td>\n",
              "      <td>1</td>\n",
              "      <td>0</td>\n",
              "      <td>2</td>\n",
              "      <td>1</td>\n",
              "      <td>2</td>\n",
              "      <td>14.902598</td>\n",
              "      <td>17.68695</td>\n",
              "      <td>69.6087</td>\n",
              "      <td>16.652113</td>\n",
              "      <td>131</td>\n",
              "      <td>670</td>\n",
              "      <td>801</td>\n",
              "    </tr>\n",
              "    <tr>\n",
              "      <th>2</th>\n",
              "      <td>3</td>\n",
              "      <td>03-01-2018</td>\n",
              "      <td>1</td>\n",
              "      <td>0</td>\n",
              "      <td>1</td>\n",
              "      <td>0</td>\n",
              "      <td>3</td>\n",
              "      <td>1</td>\n",
              "      <td>1</td>\n",
              "      <td>8.050924</td>\n",
              "      <td>9.47025</td>\n",
              "      <td>43.7273</td>\n",
              "      <td>16.636703</td>\n",
              "      <td>120</td>\n",
              "      <td>1229</td>\n",
              "      <td>1349</td>\n",
              "    </tr>\n",
              "    <tr>\n",
              "      <th>3</th>\n",
              "      <td>4</td>\n",
              "      <td>04-01-2018</td>\n",
              "      <td>1</td>\n",
              "      <td>0</td>\n",
              "      <td>1</td>\n",
              "      <td>0</td>\n",
              "      <td>4</td>\n",
              "      <td>1</td>\n",
              "      <td>1</td>\n",
              "      <td>8.200000</td>\n",
              "      <td>10.60610</td>\n",
              "      <td>59.0435</td>\n",
              "      <td>10.739832</td>\n",
              "      <td>108</td>\n",
              "      <td>1454</td>\n",
              "      <td>1562</td>\n",
              "    </tr>\n",
              "    <tr>\n",
              "      <th>4</th>\n",
              "      <td>5</td>\n",
              "      <td>05-01-2018</td>\n",
              "      <td>1</td>\n",
              "      <td>0</td>\n",
              "      <td>1</td>\n",
              "      <td>0</td>\n",
              "      <td>5</td>\n",
              "      <td>1</td>\n",
              "      <td>1</td>\n",
              "      <td>9.305237</td>\n",
              "      <td>11.46350</td>\n",
              "      <td>43.6957</td>\n",
              "      <td>12.522300</td>\n",
              "      <td>82</td>\n",
              "      <td>1518</td>\n",
              "      <td>1600</td>\n",
              "    </tr>\n",
              "  </tbody>\n",
              "</table>\n",
              "</div>"
            ],
            "text/plain": [
              "   instant      dteday  season  yr  ...  windspeed  casual  registered   cnt\n",
              "0        1  01-01-2018       1   0  ...  10.749882     331         654   985\n",
              "1        2  02-01-2018       1   0  ...  16.652113     131         670   801\n",
              "2        3  03-01-2018       1   0  ...  16.636703     120        1229  1349\n",
              "3        4  04-01-2018       1   0  ...  10.739832     108        1454  1562\n",
              "4        5  05-01-2018       1   0  ...  12.522300      82        1518  1600\n",
              "\n",
              "[5 rows x 16 columns]"
            ]
          },
          "metadata": {
            "tags": []
          },
          "execution_count": 12
        }
      ]
    },
    {
      "cell_type": "code",
      "metadata": {
        "id": "pc9Su6YXCsdX"
      },
      "source": [
        "#dropping unnecessary columns\n",
        "df1.drop(['instant','dteday','registered','casual'],axis=1,inplace=True)"
      ],
      "execution_count": 13,
      "outputs": []
    },
    {
      "cell_type": "markdown",
      "metadata": {
        "id": "G-lF7p3hDT7P"
      },
      "source": [
        "\n",
        "*   'instant' column is not necessary for the model building, it is just an index\n",
        "*   'dteday' column is not necessary as other columns contain details about the\n",
        "year, month etc\n",
        "*   'casual' and 'registered' can be dropped, as they contribute directly to the variable cnt i.e. is the target variable\n",
        "\n"
      ]
    },
    {
      "cell_type": "code",
      "metadata": {
        "colab": {
          "base_uri": "https://localhost:8080/",
          "height": 200
        },
        "id": "tkjxfUKIDLzB",
        "outputId": "1b88cad7-a1dc-4792-aa12-8a265cf46c5c"
      },
      "source": [
        "df1.head()"
      ],
      "execution_count": 14,
      "outputs": [
        {
          "output_type": "execute_result",
          "data": {
            "text/html": [
              "<div>\n",
              "<style scoped>\n",
              "    .dataframe tbody tr th:only-of-type {\n",
              "        vertical-align: middle;\n",
              "    }\n",
              "\n",
              "    .dataframe tbody tr th {\n",
              "        vertical-align: top;\n",
              "    }\n",
              "\n",
              "    .dataframe thead th {\n",
              "        text-align: right;\n",
              "    }\n",
              "</style>\n",
              "<table border=\"1\" class=\"dataframe\">\n",
              "  <thead>\n",
              "    <tr style=\"text-align: right;\">\n",
              "      <th></th>\n",
              "      <th>season</th>\n",
              "      <th>yr</th>\n",
              "      <th>mnth</th>\n",
              "      <th>holiday</th>\n",
              "      <th>weekday</th>\n",
              "      <th>workingday</th>\n",
              "      <th>weathersit</th>\n",
              "      <th>temp</th>\n",
              "      <th>atemp</th>\n",
              "      <th>hum</th>\n",
              "      <th>windspeed</th>\n",
              "      <th>cnt</th>\n",
              "    </tr>\n",
              "  </thead>\n",
              "  <tbody>\n",
              "    <tr>\n",
              "      <th>0</th>\n",
              "      <td>1</td>\n",
              "      <td>0</td>\n",
              "      <td>1</td>\n",
              "      <td>0</td>\n",
              "      <td>1</td>\n",
              "      <td>1</td>\n",
              "      <td>2</td>\n",
              "      <td>14.110847</td>\n",
              "      <td>18.18125</td>\n",
              "      <td>80.5833</td>\n",
              "      <td>10.749882</td>\n",
              "      <td>985</td>\n",
              "    </tr>\n",
              "    <tr>\n",
              "      <th>1</th>\n",
              "      <td>1</td>\n",
              "      <td>0</td>\n",
              "      <td>1</td>\n",
              "      <td>0</td>\n",
              "      <td>2</td>\n",
              "      <td>1</td>\n",
              "      <td>2</td>\n",
              "      <td>14.902598</td>\n",
              "      <td>17.68695</td>\n",
              "      <td>69.6087</td>\n",
              "      <td>16.652113</td>\n",
              "      <td>801</td>\n",
              "    </tr>\n",
              "    <tr>\n",
              "      <th>2</th>\n",
              "      <td>1</td>\n",
              "      <td>0</td>\n",
              "      <td>1</td>\n",
              "      <td>0</td>\n",
              "      <td>3</td>\n",
              "      <td>1</td>\n",
              "      <td>1</td>\n",
              "      <td>8.050924</td>\n",
              "      <td>9.47025</td>\n",
              "      <td>43.7273</td>\n",
              "      <td>16.636703</td>\n",
              "      <td>1349</td>\n",
              "    </tr>\n",
              "    <tr>\n",
              "      <th>3</th>\n",
              "      <td>1</td>\n",
              "      <td>0</td>\n",
              "      <td>1</td>\n",
              "      <td>0</td>\n",
              "      <td>4</td>\n",
              "      <td>1</td>\n",
              "      <td>1</td>\n",
              "      <td>8.200000</td>\n",
              "      <td>10.60610</td>\n",
              "      <td>59.0435</td>\n",
              "      <td>10.739832</td>\n",
              "      <td>1562</td>\n",
              "    </tr>\n",
              "    <tr>\n",
              "      <th>4</th>\n",
              "      <td>1</td>\n",
              "      <td>0</td>\n",
              "      <td>1</td>\n",
              "      <td>0</td>\n",
              "      <td>5</td>\n",
              "      <td>1</td>\n",
              "      <td>1</td>\n",
              "      <td>9.305237</td>\n",
              "      <td>11.46350</td>\n",
              "      <td>43.6957</td>\n",
              "      <td>12.522300</td>\n",
              "      <td>1600</td>\n",
              "    </tr>\n",
              "  </tbody>\n",
              "</table>\n",
              "</div>"
            ],
            "text/plain": [
              "   season  yr  mnth  holiday  ...     atemp      hum  windspeed   cnt\n",
              "0       1   0     1        0  ...  18.18125  80.5833  10.749882   985\n",
              "1       1   0     1        0  ...  17.68695  69.6087  16.652113   801\n",
              "2       1   0     1        0  ...   9.47025  43.7273  16.636703  1349\n",
              "3       1   0     1        0  ...  10.60610  59.0435  10.739832  1562\n",
              "4       1   0     1        0  ...  11.46350  43.6957  12.522300  1600\n",
              "\n",
              "[5 rows x 12 columns]"
            ]
          },
          "metadata": {
            "tags": []
          },
          "execution_count": 14
        }
      ]
    },
    {
      "cell_type": "code",
      "metadata": {
        "colab": {
          "base_uri": "https://localhost:8080/"
        },
        "id": "4TrG18AoD55B",
        "outputId": "5491aee0-fdcc-46db-8c7a-c8fd93a4f6ee"
      },
      "source": [
        "df1.info()"
      ],
      "execution_count": 15,
      "outputs": [
        {
          "output_type": "stream",
          "text": [
            "<class 'pandas.core.frame.DataFrame'>\n",
            "Int64Index: 730 entries, 0 to 729\n",
            "Data columns (total 12 columns):\n",
            " #   Column      Non-Null Count  Dtype  \n",
            "---  ------      --------------  -----  \n",
            " 0   season      730 non-null    int64  \n",
            " 1   yr          730 non-null    int64  \n",
            " 2   mnth        730 non-null    int64  \n",
            " 3   holiday     730 non-null    int64  \n",
            " 4   weekday     730 non-null    int64  \n",
            " 5   workingday  730 non-null    int64  \n",
            " 6   weathersit  730 non-null    int64  \n",
            " 7   temp        730 non-null    float64\n",
            " 8   atemp       730 non-null    float64\n",
            " 9   hum         730 non-null    float64\n",
            " 10  windspeed   730 non-null    float64\n",
            " 11  cnt         730 non-null    int64  \n",
            "dtypes: float64(4), int64(8)\n",
            "memory usage: 74.1 KB\n"
          ],
          "name": "stdout"
        }
      ]
    },
    {
      "cell_type": "markdown",
      "metadata": {
        "id": "9GlFvdNEENGK"
      },
      "source": [
        "As described in the data dictionary, the columns season, yr, mnth, holiday,working day and weathersit are categorical values. "
      ]
    },
    {
      "cell_type": "code",
      "metadata": {
        "id": "IjOYe1DzE9WE"
      },
      "source": [
        "df1[['season','mnth','weekday','weathersit']]=df1[['season','mnth','weekday','weathersit']].astype('category')"
      ],
      "execution_count": 16,
      "outputs": []
    },
    {
      "cell_type": "code",
      "metadata": {
        "colab": {
          "base_uri": "https://localhost:8080/"
        },
        "id": "a7HFmz4rJFJl",
        "outputId": "83fe7242-e5f8-45b4-9c2a-2347b8890684"
      },
      "source": [
        "df1.info()"
      ],
      "execution_count": 17,
      "outputs": [
        {
          "output_type": "stream",
          "text": [
            "<class 'pandas.core.frame.DataFrame'>\n",
            "Int64Index: 730 entries, 0 to 729\n",
            "Data columns (total 12 columns):\n",
            " #   Column      Non-Null Count  Dtype   \n",
            "---  ------      --------------  -----   \n",
            " 0   season      730 non-null    category\n",
            " 1   yr          730 non-null    int64   \n",
            " 2   mnth        730 non-null    category\n",
            " 3   holiday     730 non-null    int64   \n",
            " 4   weekday     730 non-null    category\n",
            " 5   workingday  730 non-null    int64   \n",
            " 6   weathersit  730 non-null    category\n",
            " 7   temp        730 non-null    float64 \n",
            " 8   atemp       730 non-null    float64 \n",
            " 9   hum         730 non-null    float64 \n",
            " 10  windspeed   730 non-null    float64 \n",
            " 11  cnt         730 non-null    int64   \n",
            "dtypes: category(4), float64(4), int64(4)\n",
            "memory usage: 55.2 KB\n"
          ],
          "name": "stdout"
        }
      ]
    },
    {
      "cell_type": "markdown",
      "metadata": {
        "id": "7V8tNp74obrZ"
      },
      "source": [
        "###Mapping Categorical value to categories"
      ]
    },
    {
      "cell_type": "code",
      "metadata": {
        "id": "jKPgssdkLXKS"
      },
      "source": [
        "df1['season']=df1['season'].map({1:'Spring', 2:'Summer', 3:'Fall', 4:'Winter'})"
      ],
      "execution_count": 18,
      "outputs": []
    },
    {
      "cell_type": "code",
      "metadata": {
        "id": "KR2AmkD0vpk5"
      },
      "source": [
        "df1['mnth']=df1['mnth'].map({1: 'January', 2: 'February', 3: 'March', 4: 'April', 5: 'May', 6: 'June', 7: 'July',8: 'August',9: 'September',10: 'October',11: 'November',12: 'December'})"
      ],
      "execution_count": 19,
      "outputs": []
    },
    {
      "cell_type": "code",
      "metadata": {
        "id": "ExmXYMjHvnOq"
      },
      "source": [
        "df1['weekday']=df1['weekday'].map({0: 'sunday', 1: 'monday', 2: 'tuesday', 3: 'wednesday', 4: 'thursday', 5: 'friday', 6: 'saturday'})"
      ],
      "execution_count": 20,
      "outputs": []
    },
    {
      "cell_type": "code",
      "metadata": {
        "colab": {
          "base_uri": "https://localhost:8080/",
          "height": 200
        },
        "id": "qniPXFOmziqB",
        "outputId": "955cf0bc-6da3-453a-ca11-cd2ec5b8dd49"
      },
      "source": [
        "df1.head()"
      ],
      "execution_count": 21,
      "outputs": [
        {
          "output_type": "execute_result",
          "data": {
            "text/html": [
              "<div>\n",
              "<style scoped>\n",
              "    .dataframe tbody tr th:only-of-type {\n",
              "        vertical-align: middle;\n",
              "    }\n",
              "\n",
              "    .dataframe tbody tr th {\n",
              "        vertical-align: top;\n",
              "    }\n",
              "\n",
              "    .dataframe thead th {\n",
              "        text-align: right;\n",
              "    }\n",
              "</style>\n",
              "<table border=\"1\" class=\"dataframe\">\n",
              "  <thead>\n",
              "    <tr style=\"text-align: right;\">\n",
              "      <th></th>\n",
              "      <th>season</th>\n",
              "      <th>yr</th>\n",
              "      <th>mnth</th>\n",
              "      <th>holiday</th>\n",
              "      <th>weekday</th>\n",
              "      <th>workingday</th>\n",
              "      <th>weathersit</th>\n",
              "      <th>temp</th>\n",
              "      <th>atemp</th>\n",
              "      <th>hum</th>\n",
              "      <th>windspeed</th>\n",
              "      <th>cnt</th>\n",
              "    </tr>\n",
              "  </thead>\n",
              "  <tbody>\n",
              "    <tr>\n",
              "      <th>0</th>\n",
              "      <td>Spring</td>\n",
              "      <td>0</td>\n",
              "      <td>January</td>\n",
              "      <td>0</td>\n",
              "      <td>monday</td>\n",
              "      <td>1</td>\n",
              "      <td>2</td>\n",
              "      <td>14.110847</td>\n",
              "      <td>18.18125</td>\n",
              "      <td>80.5833</td>\n",
              "      <td>10.749882</td>\n",
              "      <td>985</td>\n",
              "    </tr>\n",
              "    <tr>\n",
              "      <th>1</th>\n",
              "      <td>Spring</td>\n",
              "      <td>0</td>\n",
              "      <td>January</td>\n",
              "      <td>0</td>\n",
              "      <td>tuesday</td>\n",
              "      <td>1</td>\n",
              "      <td>2</td>\n",
              "      <td>14.902598</td>\n",
              "      <td>17.68695</td>\n",
              "      <td>69.6087</td>\n",
              "      <td>16.652113</td>\n",
              "      <td>801</td>\n",
              "    </tr>\n",
              "    <tr>\n",
              "      <th>2</th>\n",
              "      <td>Spring</td>\n",
              "      <td>0</td>\n",
              "      <td>January</td>\n",
              "      <td>0</td>\n",
              "      <td>wednesday</td>\n",
              "      <td>1</td>\n",
              "      <td>1</td>\n",
              "      <td>8.050924</td>\n",
              "      <td>9.47025</td>\n",
              "      <td>43.7273</td>\n",
              "      <td>16.636703</td>\n",
              "      <td>1349</td>\n",
              "    </tr>\n",
              "    <tr>\n",
              "      <th>3</th>\n",
              "      <td>Spring</td>\n",
              "      <td>0</td>\n",
              "      <td>January</td>\n",
              "      <td>0</td>\n",
              "      <td>thursday</td>\n",
              "      <td>1</td>\n",
              "      <td>1</td>\n",
              "      <td>8.200000</td>\n",
              "      <td>10.60610</td>\n",
              "      <td>59.0435</td>\n",
              "      <td>10.739832</td>\n",
              "      <td>1562</td>\n",
              "    </tr>\n",
              "    <tr>\n",
              "      <th>4</th>\n",
              "      <td>Spring</td>\n",
              "      <td>0</td>\n",
              "      <td>January</td>\n",
              "      <td>0</td>\n",
              "      <td>friday</td>\n",
              "      <td>1</td>\n",
              "      <td>1</td>\n",
              "      <td>9.305237</td>\n",
              "      <td>11.46350</td>\n",
              "      <td>43.6957</td>\n",
              "      <td>12.522300</td>\n",
              "      <td>1600</td>\n",
              "    </tr>\n",
              "  </tbody>\n",
              "</table>\n",
              "</div>"
            ],
            "text/plain": [
              "   season  yr     mnth  holiday  ...     atemp      hum  windspeed   cnt\n",
              "0  Spring   0  January        0  ...  18.18125  80.5833  10.749882   985\n",
              "1  Spring   0  January        0  ...  17.68695  69.6087  16.652113   801\n",
              "2  Spring   0  January        0  ...   9.47025  43.7273  16.636703  1349\n",
              "3  Spring   0  January        0  ...  10.60610  59.0435  10.739832  1562\n",
              "4  Spring   0  January        0  ...  11.46350  43.6957  12.522300  1600\n",
              "\n",
              "[5 rows x 12 columns]"
            ]
          },
          "metadata": {
            "tags": []
          },
          "execution_count": 21
        }
      ]
    },
    {
      "cell_type": "markdown",
      "metadata": {
        "id": "OGXg6bhg2OtR"
      },
      "source": [
        "###Visualizing the dataset"
      ]
    },
    {
      "cell_type": "code",
      "metadata": {
        "colab": {
          "base_uri": "https://localhost:8080/",
          "height": 903
        },
        "id": "uyK31gYJ2qAk",
        "outputId": "b328fda2-4f49-4b3a-cd2d-8e0520593fea"
      },
      "source": [
        "#visualising numerical data against cnt \n",
        "sns.pairplot(df1[['temp','atemp','hum','windspeed','cnt']],diag_kind='kde')\n",
        "plt.show()"
      ],
      "execution_count": 22,
      "outputs": [
        {
          "output_type": "display_data",
          "data": {
            "image/png": "[encoded data removed]",
            "text/plain": [
              "<Figure size 900x900 with 30 Axes>"
            ]
          },
          "metadata": {
            "tags": [],
            "needs_background": "light"
          }
        }
      ]
    },
    {
      "cell_type": "markdown",
      "metadata": {
        "id": "6I6019_2x_ZI"
      },
      "source": [
        "Inferences\n",
        "\n",
        "*   temp and atemp are highly correlated to each other \n",
        "*   temp and atemp are (positively)correlated to cnt variable \n",
        "*   Either of temp and atemp can be dropped before model building as they are highly correlated\n",
        "\n",
        "\n",
        "\n"
      ]
    },
    {
      "cell_type": "code",
      "metadata": {
        "colab": {
          "base_uri": "https://localhost:8080/",
          "height": 621
        },
        "id": "LqMYJKfa4dOs",
        "outputId": "1cf37380-b252-4bbf-b810-a8b8b183cbaa"
      },
      "source": [
        "#visulaising the different climatic conditions across seassons\n",
        "plt.figure(figsize=[20,10])\n",
        "plt.subplot(2,2,1)\n",
        "sns.boxplot(data=df1,x='season',y='hum')\n",
        "plt.title(\"Humidity in different Seasons\")\n",
        "plt.subplot(2,2,2)\n",
        "sns.boxplot(data=df1,y='windspeed',x='season')\n",
        "plt.title(\"Windspeed in different Seasons\")\n",
        "plt.subplot(2,2,3)\n",
        "sns.boxplot(data=df1,x='season',y='temp')\n",
        "plt.title(\"Temperature in different Seasons\")\n",
        "plt.subplot(2,2,4)\n",
        "sns.boxplot(data=df1,x='season',y='atemp')\n",
        "plt.title(\"Feeling Temperature in different Seasons\")\n",
        "plt.show()"
      ],
      "execution_count": 23,
      "outputs": [
        {
          "output_type": "display_data",
          "data": {
            "image/png": "[encoded data removed]",
            "text/plain": [
              "<Figure size 1440x720 with 4 Axes>"
            ]
          },
          "metadata": {
            "tags": [],
            "needs_background": "light"
          }
        }
      ]
    },
    {
      "cell_type": "markdown",
      "metadata": {
        "id": "F4DBV4sdOf3y"
      },
      "source": [
        "*   There's one data point with humidity as zero\n",
        "(an outlier), which must can be dropped or imputed with mean value of humidity during Spring season.\n",
        "\n",
        "\n"
      ]
    },
    {
      "cell_type": "code",
      "metadata": {
        "id": "0J4hH1UuPkrs"
      },
      "source": [
        "#extracting the mean value of humidity in spring season\n",
        "val=df1.groupby(by=['season']).mean()['hum']['Spring']\n",
        "df1.loc[(df1['season']==\"Spring\")&(df1['hum']==0),'hum']=val"
      ],
      "execution_count": 24,
      "outputs": []
    },
    {
      "cell_type": "code",
      "metadata": {
        "colab": {
          "base_uri": "https://localhost:8080/",
          "height": 48
        },
        "id": "OlVNrW_PSZSg",
        "outputId": "deaa9639-dcc2-4fb9-92db-540ab1266fc3"
      },
      "source": [
        "#checking dataframe for hum==0\n",
        "df1[df1['hum']==0]"
      ],
      "execution_count": 25,
      "outputs": [
        {
          "output_type": "execute_result",
          "data": {
            "text/html": [
              "<div>\n",
              "<style scoped>\n",
              "    .dataframe tbody tr th:only-of-type {\n",
              "        vertical-align: middle;\n",
              "    }\n",
              "\n",
              "    .dataframe tbody tr th {\n",
              "        vertical-align: top;\n",
              "    }\n",
              "\n",
              "    .dataframe thead th {\n",
              "        text-align: right;\n",
              "    }\n",
              "</style>\n",
              "<table border=\"1\" class=\"dataframe\">\n",
              "  <thead>\n",
              "    <tr style=\"text-align: right;\">\n",
              "      <th></th>\n",
              "      <th>season</th>\n",
              "      <th>yr</th>\n",
              "      <th>mnth</th>\n",
              "      <th>holiday</th>\n",
              "      <th>weekday</th>\n",
              "      <th>workingday</th>\n",
              "      <th>weathersit</th>\n",
              "      <th>temp</th>\n",
              "      <th>atemp</th>\n",
              "      <th>hum</th>\n",
              "      <th>windspeed</th>\n",
              "      <th>cnt</th>\n",
              "    </tr>\n",
              "  </thead>\n",
              "  <tbody>\n",
              "  </tbody>\n",
              "</table>\n",
              "</div>"
            ],
            "text/plain": [
              "Empty DataFrame\n",
              "Columns: [season, yr, mnth, holiday, weekday, workingday, weathersit, temp, atemp, hum, windspeed, cnt]\n",
              "Index: []"
            ]
          },
          "metadata": {
            "tags": []
          },
          "execution_count": 25
        }
      ]
    },
    {
      "cell_type": "code",
      "metadata": {
        "colab": {
          "base_uri": "https://localhost:8080/",
          "height": 295
        },
        "id": "OMraeM0TxuTE",
        "outputId": "91d53a30-bf7b-4a83-fa4e-9d621f1d3409"
      },
      "source": [
        "#plotting again to verify the difference\n",
        "sns.boxplot(data=df1,x='season',y='hum')\n",
        "plt.title(\"Humidity in different Seasons\")\n",
        "plt.show()"
      ],
      "execution_count": 26,
      "outputs": [
        {
          "output_type": "display_data",
          "data": {
            "image/png": "[encoded data removed]",
            "text/plain": [
              "<Figure size 432x288 with 1 Axes>"
            ]
          },
          "metadata": {
            "tags": [],
            "needs_background": "light"
          }
        }
      ]
    },
    {
      "cell_type": "markdown",
      "metadata": {
        "id": "ciT7bGyRTk1x"
      },
      "source": [
        "###Visualizing categorical values against target variable"
      ]
    },
    {
      "cell_type": "code",
      "metadata": {
        "colab": {
          "base_uri": "https://localhost:8080/",
          "height": 893
        },
        "id": "-Lf41PEIT0nk",
        "outputId": "7550df28-344a-4408-b84e-447ec53a28fa"
      },
      "source": [
        "plt.figure(figsize=[20,15])\n",
        "plt.subplot(2,3,1)\n",
        "#Month vs Count \n",
        "sns.boxplot(data=df,x='mnth',y='cnt')\n",
        "plt.xticks(rotation=45)\n",
        "plt.title(\"Month vs Count\")\n",
        "plt.subplot(2,3,2)\n",
        "#year vs count\n",
        "sns.boxplot(data=df,x='yr',y='cnt')\n",
        "plt.title(\"Year vs Count\")\n",
        "plt.subplot(2,3,3)\n",
        "#holiday vs count\n",
        "sns.boxplot(data=df,x='holiday',y='cnt')\n",
        "plt.title(\"Holiday vs Count\")\n",
        "plt.subplot(2,3,4)\n",
        "#Workingday vs count\n",
        "sns.boxplot(data=df,x='workingday',y='cnt')\n",
        "plt.title(\"Working day vs Count\")\n",
        "plt.subplot(2,3,5)\n",
        "#Workingday vs count\n",
        "sns.boxplot(data=df,x='weekday',y='cnt')\n",
        "plt.title(\"Week day vs Count\")\n",
        "plt.subplot(2,3,6)\n",
        "#Weathersit vs count\n",
        "sns.boxplot(data=df,x='weathersit',y='cnt')\n",
        "plt.title(\"Weathersit vs count\")\n",
        "plt.show()"
      ],
      "execution_count": 27,
      "outputs": [
        {
          "output_type": "display_data",
          "data": {
            "image/png": "[encoded data removed]",
            "text/plain": [
              "<Figure size 1440x1080 with 6 Axes>"
            ]
          },
          "metadata": {
            "tags": [],
            "needs_background": "light"
          }
        }
      ]
    },
    {
      "cell_type": "code",
      "metadata": {
        "colab": {
          "base_uri": "https://localhost:8080/",
          "height": 350
        },
        "id": "bdgYj--X9-gb",
        "outputId": "a39c4137-2cb3-4063-f9c1-df2db50eec69"
      },
      "source": [
        "#Pointplot describing cnt across the two years ; 2018,2019\n",
        "plt.figure(figsize=[20,5])\n",
        "plt.title(\"variation of cnt in months in years\")\n",
        "sns.pointplot(data=df1,x='mnth',y='cnt',hue='yr',color='Red')\n",
        "#plt.legend([\"2018\",\"2019\"])\n",
        "plt.show()"
      ],
      "execution_count": 28,
      "outputs": [
        {
          "output_type": "display_data",
          "data": {
            "image/png": "[encoded data removed]",
            "text/plain": [
              "<Figure size 1440x360 with 1 Axes>"
            ]
          },
          "metadata": {
            "tags": [],
            "needs_background": "light"
          }
        }
      ]
    },
    {
      "cell_type": "markdown",
      "metadata": {
        "id": "_pSzzgT6z_vS"
      },
      "source": [
        "Inferences\n",
        "\n",
        "*   We can see an increase in the cnt in the year 2019 compared to 2018\n",
        "\n"
      ]
    },
    {
      "cell_type": "markdown",
      "metadata": {
        "id": "I8HbjpV-I-O1"
      },
      "source": [
        "###Correlation Matrix"
      ]
    },
    {
      "cell_type": "code",
      "metadata": {
        "colab": {
          "base_uri": "https://localhost:8080/",
          "height": 614
        },
        "id": "QHbnCmb5JIUj",
        "outputId": "829277c6-e5fd-4b09-c43f-370d6736f520"
      },
      "source": [
        "plt.figure(figsize=[20,10])\n",
        "sns.heatmap(df1.corr(),annot=True,cmap='rocket_r',fmt=\".2f\")"
      ],
      "execution_count": 29,
      "outputs": [
        {
          "output_type": "execute_result",
          "data": {
            "text/plain": [
              "<matplotlib.axes._subplots.AxesSubplot at 0x7f076c25f510>"
            ]
          },
          "metadata": {
            "tags": []
          },
          "execution_count": 29
        },
        {
          "output_type": "display_data",
          "data": {
            "image/png": "[encoded data removed]",
            "text/plain": [
              "<Figure size 1440x720 with 2 Axes>"
            ]
          },
          "metadata": {
            "tags": [],
            "needs_background": "light"
          }
        }
      ]
    },
    {
      "cell_type": "markdown",
      "metadata": {
        "id": "wCxNbO9u2jDS"
      },
      "source": [
        "Inferences\n",
        "\n",
        "\n",
        "*   temp and atemp are highly correlated with each other \n",
        "*   Correlation of temp and atemp with cnt is similar and hence of these can be dropped for model building\n",
        "*   There is a high positive correlation between year and cnt \n",
        "\n",
        "\n",
        "\n"
      ]
    },
    {
      "cell_type": "code",
      "metadata": {
        "id": "q00qOVUu3Ibi"
      },
      "source": [
        "#dropping atemp from the dataframe\n",
        "df1.drop('atemp',axis=1,inplace=True)"
      ],
      "execution_count": 30,
      "outputs": []
    },
    {
      "cell_type": "code",
      "metadata": {
        "colab": {
          "base_uri": "https://localhost:8080/",
          "height": 200
        },
        "id": "Sqb7cp0N3Tho",
        "outputId": "d9b4c4ce-b4b8-4a2a-ca73-40760f854b3d"
      },
      "source": [
        "df1.head()"
      ],
      "execution_count": 31,
      "outputs": [
        {
          "output_type": "execute_result",
          "data": {
            "text/html": [
              "<div>\n",
              "<style scoped>\n",
              "    .dataframe tbody tr th:only-of-type {\n",
              "        vertical-align: middle;\n",
              "    }\n",
              "\n",
              "    .dataframe tbody tr th {\n",
              "        vertical-align: top;\n",
              "    }\n",
              "\n",
              "    .dataframe thead th {\n",
              "        text-align: right;\n",
              "    }\n",
              "</style>\n",
              "<table border=\"1\" class=\"dataframe\">\n",
              "  <thead>\n",
              "    <tr style=\"text-align: right;\">\n",
              "      <th></th>\n",
              "      <th>season</th>\n",
              "      <th>yr</th>\n",
              "      <th>mnth</th>\n",
              "      <th>holiday</th>\n",
              "      <th>weekday</th>\n",
              "      <th>workingday</th>\n",
              "      <th>weathersit</th>\n",
              "      <th>temp</th>\n",
              "      <th>hum</th>\n",
              "      <th>windspeed</th>\n",
              "      <th>cnt</th>\n",
              "    </tr>\n",
              "  </thead>\n",
              "  <tbody>\n",
              "    <tr>\n",
              "      <th>0</th>\n",
              "      <td>Spring</td>\n",
              "      <td>0</td>\n",
              "      <td>January</td>\n",
              "      <td>0</td>\n",
              "      <td>monday</td>\n",
              "      <td>1</td>\n",
              "      <td>2</td>\n",
              "      <td>14.110847</td>\n",
              "      <td>80.5833</td>\n",
              "      <td>10.749882</td>\n",
              "      <td>985</td>\n",
              "    </tr>\n",
              "    <tr>\n",
              "      <th>1</th>\n",
              "      <td>Spring</td>\n",
              "      <td>0</td>\n",
              "      <td>January</td>\n",
              "      <td>0</td>\n",
              "      <td>tuesday</td>\n",
              "      <td>1</td>\n",
              "      <td>2</td>\n",
              "      <td>14.902598</td>\n",
              "      <td>69.6087</td>\n",
              "      <td>16.652113</td>\n",
              "      <td>801</td>\n",
              "    </tr>\n",
              "    <tr>\n",
              "      <th>2</th>\n",
              "      <td>Spring</td>\n",
              "      <td>0</td>\n",
              "      <td>January</td>\n",
              "      <td>0</td>\n",
              "      <td>wednesday</td>\n",
              "      <td>1</td>\n",
              "      <td>1</td>\n",
              "      <td>8.050924</td>\n",
              "      <td>43.7273</td>\n",
              "      <td>16.636703</td>\n",
              "      <td>1349</td>\n",
              "    </tr>\n",
              "    <tr>\n",
              "      <th>3</th>\n",
              "      <td>Spring</td>\n",
              "      <td>0</td>\n",
              "      <td>January</td>\n",
              "      <td>0</td>\n",
              "      <td>thursday</td>\n",
              "      <td>1</td>\n",
              "      <td>1</td>\n",
              "      <td>8.200000</td>\n",
              "      <td>59.0435</td>\n",
              "      <td>10.739832</td>\n",
              "      <td>1562</td>\n",
              "    </tr>\n",
              "    <tr>\n",
              "      <th>4</th>\n",
              "      <td>Spring</td>\n",
              "      <td>0</td>\n",
              "      <td>January</td>\n",
              "      <td>0</td>\n",
              "      <td>friday</td>\n",
              "      <td>1</td>\n",
              "      <td>1</td>\n",
              "      <td>9.305237</td>\n",
              "      <td>43.6957</td>\n",
              "      <td>12.522300</td>\n",
              "      <td>1600</td>\n",
              "    </tr>\n",
              "  </tbody>\n",
              "</table>\n",
              "</div>"
            ],
            "text/plain": [
              "   season  yr     mnth  holiday  ...       temp      hum  windspeed   cnt\n",
              "0  Spring   0  January        0  ...  14.110847  80.5833  10.749882   985\n",
              "1  Spring   0  January        0  ...  14.902598  69.6087  16.652113   801\n",
              "2  Spring   0  January        0  ...   8.050924  43.7273  16.636703  1349\n",
              "3  Spring   0  January        0  ...   8.200000  59.0435  10.739832  1562\n",
              "4  Spring   0  January        0  ...   9.305237  43.6957  12.522300  1600\n",
              "\n",
              "[5 rows x 11 columns]"
            ]
          },
          "metadata": {
            "tags": []
          },
          "execution_count": 31
        }
      ]
    },
    {
      "cell_type": "markdown",
      "metadata": {
        "id": "jUwYh4wq3Ap5"
      },
      "source": [
        "###Creating dummy variables"
      ]
    },
    {
      "cell_type": "code",
      "metadata": {
        "id": "rJ8bq7jJ3yDo"
      },
      "source": [
        "#creating dummy variables\n",
        "df2=pd.get_dummies(df1[['mnth','weathersit','weekday','season']],drop_first=True)"
      ],
      "execution_count": 32,
      "outputs": []
    },
    {
      "cell_type": "code",
      "metadata": {
        "colab": {
          "base_uri": "https://localhost:8080/",
          "height": 220
        },
        "id": "dWwYCR0m4pbU",
        "outputId": "9b0889ee-6c7c-49e6-9c02-f24ee6a63b57"
      },
      "source": [
        "df2.head()"
      ],
      "execution_count": 33,
      "outputs": [
        {
          "output_type": "execute_result",
          "data": {
            "text/html": [
              "<div>\n",
              "<style scoped>\n",
              "    .dataframe tbody tr th:only-of-type {\n",
              "        vertical-align: middle;\n",
              "    }\n",
              "\n",
              "    .dataframe tbody tr th {\n",
              "        vertical-align: top;\n",
              "    }\n",
              "\n",
              "    .dataframe thead th {\n",
              "        text-align: right;\n",
              "    }\n",
              "</style>\n",
              "<table border=\"1\" class=\"dataframe\">\n",
              "  <thead>\n",
              "    <tr style=\"text-align: right;\">\n",
              "      <th></th>\n",
              "      <th>mnth_February</th>\n",
              "      <th>mnth_March</th>\n",
              "      <th>mnth_April</th>\n",
              "      <th>mnth_May</th>\n",
              "      <th>mnth_June</th>\n",
              "      <th>mnth_July</th>\n",
              "      <th>mnth_August</th>\n",
              "      <th>mnth_September</th>\n",
              "      <th>mnth_October</th>\n",
              "      <th>mnth_November</th>\n",
              "      <th>mnth_December</th>\n",
              "      <th>weathersit_2</th>\n",
              "      <th>weathersit_3</th>\n",
              "      <th>weekday_monday</th>\n",
              "      <th>weekday_tuesday</th>\n",
              "      <th>weekday_wednesday</th>\n",
              "      <th>weekday_thursday</th>\n",
              "      <th>weekday_friday</th>\n",
              "      <th>weekday_saturday</th>\n",
              "      <th>season_Summer</th>\n",
              "      <th>season_Fall</th>\n",
              "      <th>season_Winter</th>\n",
              "    </tr>\n",
              "  </thead>\n",
              "  <tbody>\n",
              "    <tr>\n",
              "      <th>0</th>\n",
              "      <td>0</td>\n",
              "      <td>0</td>\n",
              "      <td>0</td>\n",
              "      <td>0</td>\n",
              "      <td>0</td>\n",
              "      <td>0</td>\n",
              "      <td>0</td>\n",
              "      <td>0</td>\n",
              "      <td>0</td>\n",
              "      <td>0</td>\n",
              "      <td>0</td>\n",
              "      <td>1</td>\n",
              "      <td>0</td>\n",
              "      <td>1</td>\n",
              "      <td>0</td>\n",
              "      <td>0</td>\n",
              "      <td>0</td>\n",
              "      <td>0</td>\n",
              "      <td>0</td>\n",
              "      <td>0</td>\n",
              "      <td>0</td>\n",
              "      <td>0</td>\n",
              "    </tr>\n",
              "    <tr>\n",
              "      <th>1</th>\n",
              "      <td>0</td>\n",
              "      <td>0</td>\n",
              "      <td>0</td>\n",
              "      <td>0</td>\n",
              "      <td>0</td>\n",
              "      <td>0</td>\n",
              "      <td>0</td>\n",
              "      <td>0</td>\n",
              "      <td>0</td>\n",
              "      <td>0</td>\n",
              "      <td>0</td>\n",
              "      <td>1</td>\n",
              "      <td>0</td>\n",
              "      <td>0</td>\n",
              "      <td>1</td>\n",
              "      <td>0</td>\n",
              "      <td>0</td>\n",
              "      <td>0</td>\n",
              "      <td>0</td>\n",
              "      <td>0</td>\n",
              "      <td>0</td>\n",
              "      <td>0</td>\n",
              "    </tr>\n",
              "    <tr>\n",
              "      <th>2</th>\n",
              "      <td>0</td>\n",
              "      <td>0</td>\n",
              "      <td>0</td>\n",
              "      <td>0</td>\n",
              "      <td>0</td>\n",
              "      <td>0</td>\n",
              "      <td>0</td>\n",
              "      <td>0</td>\n",
              "      <td>0</td>\n",
              "      <td>0</td>\n",
              "      <td>0</td>\n",
              "      <td>0</td>\n",
              "      <td>0</td>\n",
              "      <td>0</td>\n",
              "      <td>0</td>\n",
              "      <td>1</td>\n",
              "      <td>0</td>\n",
              "      <td>0</td>\n",
              "      <td>0</td>\n",
              "      <td>0</td>\n",
              "      <td>0</td>\n",
              "      <td>0</td>\n",
              "    </tr>\n",
              "    <tr>\n",
              "      <th>3</th>\n",
              "      <td>0</td>\n",
              "      <td>0</td>\n",
              "      <td>0</td>\n",
              "      <td>0</td>\n",
              "      <td>0</td>\n",
              "      <td>0</td>\n",
              "      <td>0</td>\n",
              "      <td>0</td>\n",
              "      <td>0</td>\n",
              "      <td>0</td>\n",
              "      <td>0</td>\n",
              "      <td>0</td>\n",
              "      <td>0</td>\n",
              "      <td>0</td>\n",
              "      <td>0</td>\n",
              "      <td>0</td>\n",
              "      <td>1</td>\n",
              "      <td>0</td>\n",
              "      <td>0</td>\n",
              "      <td>0</td>\n",
              "      <td>0</td>\n",
              "      <td>0</td>\n",
              "    </tr>\n",
              "    <tr>\n",
              "      <th>4</th>\n",
              "      <td>0</td>\n",
              "      <td>0</td>\n",
              "      <td>0</td>\n",
              "      <td>0</td>\n",
              "      <td>0</td>\n",
              "      <td>0</td>\n",
              "      <td>0</td>\n",
              "      <td>0</td>\n",
              "      <td>0</td>\n",
              "      <td>0</td>\n",
              "      <td>0</td>\n",
              "      <td>0</td>\n",
              "      <td>0</td>\n",
              "      <td>0</td>\n",
              "      <td>0</td>\n",
              "      <td>0</td>\n",
              "      <td>0</td>\n",
              "      <td>1</td>\n",
              "      <td>0</td>\n",
              "      <td>0</td>\n",
              "      <td>0</td>\n",
              "      <td>0</td>\n",
              "    </tr>\n",
              "  </tbody>\n",
              "</table>\n",
              "</div>"
            ],
            "text/plain": [
              "   mnth_February  mnth_March  ...  season_Fall  season_Winter\n",
              "0              0           0  ...            0              0\n",
              "1              0           0  ...            0              0\n",
              "2              0           0  ...            0              0\n",
              "3              0           0  ...            0              0\n",
              "4              0           0  ...            0              0\n",
              "\n",
              "[5 rows x 22 columns]"
            ]
          },
          "metadata": {
            "tags": []
          },
          "execution_count": 33
        }
      ]
    },
    {
      "cell_type": "code",
      "metadata": {
        "colab": {
          "base_uri": "https://localhost:8080/",
          "height": 220
        },
        "id": "jNcN4fmO45vu",
        "outputId": "988b756d-5544-4911-ace6-4855fa0be4ef"
      },
      "source": [
        "#concatenating the dummy dataframe with the original dataframe\n",
        "df1=pd.concat([df1,df2],axis=1)\n",
        "df1.head()"
      ],
      "execution_count": 34,
      "outputs": [
        {
          "output_type": "execute_result",
          "data": {
            "text/html": [
              "<div>\n",
              "<style scoped>\n",
              "    .dataframe tbody tr th:only-of-type {\n",
              "        vertical-align: middle;\n",
              "    }\n",
              "\n",
              "    .dataframe tbody tr th {\n",
              "        vertical-align: top;\n",
              "    }\n",
              "\n",
              "    .dataframe thead th {\n",
              "        text-align: right;\n",
              "    }\n",
              "</style>\n",
              "<table border=\"1\" class=\"dataframe\">\n",
              "  <thead>\n",
              "    <tr style=\"text-align: right;\">\n",
              "      <th></th>\n",
              "      <th>season</th>\n",
              "      <th>yr</th>\n",
              "      <th>mnth</th>\n",
              "      <th>holiday</th>\n",
              "      <th>weekday</th>\n",
              "      <th>workingday</th>\n",
              "      <th>weathersit</th>\n",
              "      <th>temp</th>\n",
              "      <th>hum</th>\n",
              "      <th>windspeed</th>\n",
              "      <th>cnt</th>\n",
              "      <th>mnth_February</th>\n",
              "      <th>mnth_March</th>\n",
              "      <th>mnth_April</th>\n",
              "      <th>mnth_May</th>\n",
              "      <th>mnth_June</th>\n",
              "      <th>mnth_July</th>\n",
              "      <th>mnth_August</th>\n",
              "      <th>mnth_September</th>\n",
              "      <th>mnth_October</th>\n",
              "      <th>mnth_November</th>\n",
              "      <th>mnth_December</th>\n",
              "      <th>weathersit_2</th>\n",
              "      <th>weathersit_3</th>\n",
              "      <th>weekday_monday</th>\n",
              "      <th>weekday_tuesday</th>\n",
              "      <th>weekday_wednesday</th>\n",
              "      <th>weekday_thursday</th>\n",
              "      <th>weekday_friday</th>\n",
              "      <th>weekday_saturday</th>\n",
              "      <th>season_Summer</th>\n",
              "      <th>season_Fall</th>\n",
              "      <th>season_Winter</th>\n",
              "    </tr>\n",
              "  </thead>\n",
              "  <tbody>\n",
              "    <tr>\n",
              "      <th>0</th>\n",
              "      <td>Spring</td>\n",
              "      <td>0</td>\n",
              "      <td>January</td>\n",
              "      <td>0</td>\n",
              "      <td>monday</td>\n",
              "      <td>1</td>\n",
              "      <td>2</td>\n",
              "      <td>14.110847</td>\n",
              "      <td>80.5833</td>\n",
              "      <td>10.749882</td>\n",
              "      <td>985</td>\n",
              "      <td>0</td>\n",
              "      <td>0</td>\n",
              "      <td>0</td>\n",
              "      <td>0</td>\n",
              "      <td>0</td>\n",
              "      <td>0</td>\n",
              "      <td>0</td>\n",
              "      <td>0</td>\n",
              "      <td>0</td>\n",
              "      <td>0</td>\n",
              "      <td>0</td>\n",
              "      <td>1</td>\n",
              "      <td>0</td>\n",
              "      <td>1</td>\n",
              "      <td>0</td>\n",
              "      <td>0</td>\n",
              "      <td>0</td>\n",
              "      <td>0</td>\n",
              "      <td>0</td>\n",
              "      <td>0</td>\n",
              "      <td>0</td>\n",
              "      <td>0</td>\n",
              "    </tr>\n",
              "    <tr>\n",
              "      <th>1</th>\n",
              "      <td>Spring</td>\n",
              "      <td>0</td>\n",
              "      <td>January</td>\n",
              "      <td>0</td>\n",
              "      <td>tuesday</td>\n",
              "      <td>1</td>\n",
              "      <td>2</td>\n",
              "      <td>14.902598</td>\n",
              "      <td>69.6087</td>\n",
              "      <td>16.652113</td>\n",
              "      <td>801</td>\n",
              "      <td>0</td>\n",
              "      <td>0</td>\n",
              "      <td>0</td>\n",
              "      <td>0</td>\n",
              "      <td>0</td>\n",
              "      <td>0</td>\n",
              "      <td>0</td>\n",
              "      <td>0</td>\n",
              "      <td>0</td>\n",
              "      <td>0</td>\n",
              "      <td>0</td>\n",
              "      <td>1</td>\n",
              "      <td>0</td>\n",
              "      <td>0</td>\n",
              "      <td>1</td>\n",
              "      <td>0</td>\n",
              "      <td>0</td>\n",
              "      <td>0</td>\n",
              "      <td>0</td>\n",
              "      <td>0</td>\n",
              "      <td>0</td>\n",
              "      <td>0</td>\n",
              "    </tr>\n",
              "    <tr>\n",
              "      <th>2</th>\n",
              "      <td>Spring</td>\n",
              "      <td>0</td>\n",
              "      <td>January</td>\n",
              "      <td>0</td>\n",
              "      <td>wednesday</td>\n",
              "      <td>1</td>\n",
              "      <td>1</td>\n",
              "      <td>8.050924</td>\n",
              "      <td>43.7273</td>\n",
              "      <td>16.636703</td>\n",
              "      <td>1349</td>\n",
              "      <td>0</td>\n",
              "      <td>0</td>\n",
              "      <td>0</td>\n",
              "      <td>0</td>\n",
              "      <td>0</td>\n",
              "      <td>0</td>\n",
              "      <td>0</td>\n",
              "      <td>0</td>\n",
              "      <td>0</td>\n",
              "      <td>0</td>\n",
              "      <td>0</td>\n",
              "      <td>0</td>\n",
              "      <td>0</td>\n",
              "      <td>0</td>\n",
              "      <td>0</td>\n",
              "      <td>1</td>\n",
              "      <td>0</td>\n",
              "      <td>0</td>\n",
              "      <td>0</td>\n",
              "      <td>0</td>\n",
              "      <td>0</td>\n",
              "      <td>0</td>\n",
              "    </tr>\n",
              "    <tr>\n",
              "      <th>3</th>\n",
              "      <td>Spring</td>\n",
              "      <td>0</td>\n",
              "      <td>January</td>\n",
              "      <td>0</td>\n",
              "      <td>thursday</td>\n",
              "      <td>1</td>\n",
              "      <td>1</td>\n",
              "      <td>8.200000</td>\n",
              "      <td>59.0435</td>\n",
              "      <td>10.739832</td>\n",
              "      <td>1562</td>\n",
              "      <td>0</td>\n",
              "      <td>0</td>\n",
              "      <td>0</td>\n",
              "      <td>0</td>\n",
              "      <td>0</td>\n",
              "      <td>0</td>\n",
              "      <td>0</td>\n",
              "      <td>0</td>\n",
              "      <td>0</td>\n",
              "      <td>0</td>\n",
              "      <td>0</td>\n",
              "      <td>0</td>\n",
              "      <td>0</td>\n",
              "      <td>0</td>\n",
              "      <td>0</td>\n",
              "      <td>0</td>\n",
              "      <td>1</td>\n",
              "      <td>0</td>\n",
              "      <td>0</td>\n",
              "      <td>0</td>\n",
              "      <td>0</td>\n",
              "      <td>0</td>\n",
              "    </tr>\n",
              "    <tr>\n",
              "      <th>4</th>\n",
              "      <td>Spring</td>\n",
              "      <td>0</td>\n",
              "      <td>January</td>\n",
              "      <td>0</td>\n",
              "      <td>friday</td>\n",
              "      <td>1</td>\n",
              "      <td>1</td>\n",
              "      <td>9.305237</td>\n",
              "      <td>43.6957</td>\n",
              "      <td>12.522300</td>\n",
              "      <td>1600</td>\n",
              "      <td>0</td>\n",
              "      <td>0</td>\n",
              "      <td>0</td>\n",
              "      <td>0</td>\n",
              "      <td>0</td>\n",
              "      <td>0</td>\n",
              "      <td>0</td>\n",
              "      <td>0</td>\n",
              "      <td>0</td>\n",
              "      <td>0</td>\n",
              "      <td>0</td>\n",
              "      <td>0</td>\n",
              "      <td>0</td>\n",
              "      <td>0</td>\n",
              "      <td>0</td>\n",
              "      <td>0</td>\n",
              "      <td>0</td>\n",
              "      <td>1</td>\n",
              "      <td>0</td>\n",
              "      <td>0</td>\n",
              "      <td>0</td>\n",
              "      <td>0</td>\n",
              "    </tr>\n",
              "  </tbody>\n",
              "</table>\n",
              "</div>"
            ],
            "text/plain": [
              "   season  yr     mnth  ...  season_Summer season_Fall  season_Winter\n",
              "0  Spring   0  January  ...              0           0              0\n",
              "1  Spring   0  January  ...              0           0              0\n",
              "2  Spring   0  January  ...              0           0              0\n",
              "3  Spring   0  January  ...              0           0              0\n",
              "4  Spring   0  January  ...              0           0              0\n",
              "\n",
              "[5 rows x 33 columns]"
            ]
          },
          "metadata": {
            "tags": []
          },
          "execution_count": 34
        }
      ]
    },
    {
      "cell_type": "code",
      "metadata": {
        "id": "OErxMyDM5aCW"
      },
      "source": [
        "#drop the categorical data for which dummy variabkes where created\n",
        "df1.drop(['mnth','weathersit','weekday','season'],axis=1,inplace=True)"
      ],
      "execution_count": 35,
      "outputs": []
    },
    {
      "cell_type": "code",
      "metadata": {
        "colab": {
          "base_uri": "https://localhost:8080/",
          "height": 220
        },
        "id": "n3NKaQoQ5suE",
        "outputId": "5a66817e-9ca4-45e8-b911-5aafd17c4dd3"
      },
      "source": [
        "df1.head()"
      ],
      "execution_count": 36,
      "outputs": [
        {
          "output_type": "execute_result",
          "data": {
            "text/html": [
              "<div>\n",
              "<style scoped>\n",
              "    .dataframe tbody tr th:only-of-type {\n",
              "        vertical-align: middle;\n",
              "    }\n",
              "\n",
              "    .dataframe tbody tr th {\n",
              "        vertical-align: top;\n",
              "    }\n",
              "\n",
              "    .dataframe thead th {\n",
              "        text-align: right;\n",
              "    }\n",
              "</style>\n",
              "<table border=\"1\" class=\"dataframe\">\n",
              "  <thead>\n",
              "    <tr style=\"text-align: right;\">\n",
              "      <th></th>\n",
              "      <th>yr</th>\n",
              "      <th>holiday</th>\n",
              "      <th>workingday</th>\n",
              "      <th>temp</th>\n",
              "      <th>hum</th>\n",
              "      <th>windspeed</th>\n",
              "      <th>cnt</th>\n",
              "      <th>mnth_February</th>\n",
              "      <th>mnth_March</th>\n",
              "      <th>mnth_April</th>\n",
              "      <th>mnth_May</th>\n",
              "      <th>mnth_June</th>\n",
              "      <th>mnth_July</th>\n",
              "      <th>mnth_August</th>\n",
              "      <th>mnth_September</th>\n",
              "      <th>mnth_October</th>\n",
              "      <th>mnth_November</th>\n",
              "      <th>mnth_December</th>\n",
              "      <th>weathersit_2</th>\n",
              "      <th>weathersit_3</th>\n",
              "      <th>weekday_monday</th>\n",
              "      <th>weekday_tuesday</th>\n",
              "      <th>weekday_wednesday</th>\n",
              "      <th>weekday_thursday</th>\n",
              "      <th>weekday_friday</th>\n",
              "      <th>weekday_saturday</th>\n",
              "      <th>season_Summer</th>\n",
              "      <th>season_Fall</th>\n",
              "      <th>season_Winter</th>\n",
              "    </tr>\n",
              "  </thead>\n",
              "  <tbody>\n",
              "    <tr>\n",
              "      <th>0</th>\n",
              "      <td>0</td>\n",
              "      <td>0</td>\n",
              "      <td>1</td>\n",
              "      <td>14.110847</td>\n",
              "      <td>80.5833</td>\n",
              "      <td>10.749882</td>\n",
              "      <td>985</td>\n",
              "      <td>0</td>\n",
              "      <td>0</td>\n",
              "      <td>0</td>\n",
              "      <td>0</td>\n",
              "      <td>0</td>\n",
              "      <td>0</td>\n",
              "      <td>0</td>\n",
              "      <td>0</td>\n",
              "      <td>0</td>\n",
              "      <td>0</td>\n",
              "      <td>0</td>\n",
              "      <td>1</td>\n",
              "      <td>0</td>\n",
              "      <td>1</td>\n",
              "      <td>0</td>\n",
              "      <td>0</td>\n",
              "      <td>0</td>\n",
              "      <td>0</td>\n",
              "      <td>0</td>\n",
              "      <td>0</td>\n",
              "      <td>0</td>\n",
              "      <td>0</td>\n",
              "    </tr>\n",
              "    <tr>\n",
              "      <th>1</th>\n",
              "      <td>0</td>\n",
              "      <td>0</td>\n",
              "      <td>1</td>\n",
              "      <td>14.902598</td>\n",
              "      <td>69.6087</td>\n",
              "      <td>16.652113</td>\n",
              "      <td>801</td>\n",
              "      <td>0</td>\n",
              "      <td>0</td>\n",
              "      <td>0</td>\n",
              "      <td>0</td>\n",
              "      <td>0</td>\n",
              "      <td>0</td>\n",
              "      <td>0</td>\n",
              "      <td>0</td>\n",
              "      <td>0</td>\n",
              "      <td>0</td>\n",
              "      <td>0</td>\n",
              "      <td>1</td>\n",
              "      <td>0</td>\n",
              "      <td>0</td>\n",
              "      <td>1</td>\n",
              "      <td>0</td>\n",
              "      <td>0</td>\n",
              "      <td>0</td>\n",
              "      <td>0</td>\n",
              "      <td>0</td>\n",
              "      <td>0</td>\n",
              "      <td>0</td>\n",
              "    </tr>\n",
              "    <tr>\n",
              "      <th>2</th>\n",
              "      <td>0</td>\n",
              "      <td>0</td>\n",
              "      <td>1</td>\n",
              "      <td>8.050924</td>\n",
              "      <td>43.7273</td>\n",
              "      <td>16.636703</td>\n",
              "      <td>1349</td>\n",
              "      <td>0</td>\n",
              "      <td>0</td>\n",
              "      <td>0</td>\n",
              "      <td>0</td>\n",
              "      <td>0</td>\n",
              "      <td>0</td>\n",
              "      <td>0</td>\n",
              "      <td>0</td>\n",
              "      <td>0</td>\n",
              "      <td>0</td>\n",
              "      <td>0</td>\n",
              "      <td>0</td>\n",
              "      <td>0</td>\n",
              "      <td>0</td>\n",
              "      <td>0</td>\n",
              "      <td>1</td>\n",
              "      <td>0</td>\n",
              "      <td>0</td>\n",
              "      <td>0</td>\n",
              "      <td>0</td>\n",
              "      <td>0</td>\n",
              "      <td>0</td>\n",
              "    </tr>\n",
              "    <tr>\n",
              "      <th>3</th>\n",
              "      <td>0</td>\n",
              "      <td>0</td>\n",
              "      <td>1</td>\n",
              "      <td>8.200000</td>\n",
              "      <td>59.0435</td>\n",
              "      <td>10.739832</td>\n",
              "      <td>1562</td>\n",
              "      <td>0</td>\n",
              "      <td>0</td>\n",
              "      <td>0</td>\n",
              "      <td>0</td>\n",
              "      <td>0</td>\n",
              "      <td>0</td>\n",
              "      <td>0</td>\n",
              "      <td>0</td>\n",
              "      <td>0</td>\n",
              "      <td>0</td>\n",
              "      <td>0</td>\n",
              "      <td>0</td>\n",
              "      <td>0</td>\n",
              "      <td>0</td>\n",
              "      <td>0</td>\n",
              "      <td>0</td>\n",
              "      <td>1</td>\n",
              "      <td>0</td>\n",
              "      <td>0</td>\n",
              "      <td>0</td>\n",
              "      <td>0</td>\n",
              "      <td>0</td>\n",
              "    </tr>\n",
              "    <tr>\n",
              "      <th>4</th>\n",
              "      <td>0</td>\n",
              "      <td>0</td>\n",
              "      <td>1</td>\n",
              "      <td>9.305237</td>\n",
              "      <td>43.6957</td>\n",
              "      <td>12.522300</td>\n",
              "      <td>1600</td>\n",
              "      <td>0</td>\n",
              "      <td>0</td>\n",
              "      <td>0</td>\n",
              "      <td>0</td>\n",
              "      <td>0</td>\n",
              "      <td>0</td>\n",
              "      <td>0</td>\n",
              "      <td>0</td>\n",
              "      <td>0</td>\n",
              "      <td>0</td>\n",
              "      <td>0</td>\n",
              "      <td>0</td>\n",
              "      <td>0</td>\n",
              "      <td>0</td>\n",
              "      <td>0</td>\n",
              "      <td>0</td>\n",
              "      <td>0</td>\n",
              "      <td>1</td>\n",
              "      <td>0</td>\n",
              "      <td>0</td>\n",
              "      <td>0</td>\n",
              "      <td>0</td>\n",
              "    </tr>\n",
              "  </tbody>\n",
              "</table>\n",
              "</div>"
            ],
            "text/plain": [
              "   yr  holiday  workingday  ...  season_Summer  season_Fall  season_Winter\n",
              "0   0        0           1  ...              0            0              0\n",
              "1   0        0           1  ...              0            0              0\n",
              "2   0        0           1  ...              0            0              0\n",
              "3   0        0           1  ...              0            0              0\n",
              "4   0        0           1  ...              0            0              0\n",
              "\n",
              "[5 rows x 29 columns]"
            ]
          },
          "metadata": {
            "tags": []
          },
          "execution_count": 36
        }
      ]
    },
    {
      "cell_type": "code",
      "metadata": {
        "colab": {
          "base_uri": "https://localhost:8080/"
        },
        "id": "rw4whKwE52S1",
        "outputId": "1a1aebff-88ac-4aee-a57c-c56b65f3f582"
      },
      "source": [
        "df1.info()"
      ],
      "execution_count": 37,
      "outputs": [
        {
          "output_type": "stream",
          "text": [
            "<class 'pandas.core.frame.DataFrame'>\n",
            "Int64Index: 730 entries, 0 to 729\n",
            "Data columns (total 29 columns):\n",
            " #   Column             Non-Null Count  Dtype  \n",
            "---  ------             --------------  -----  \n",
            " 0   yr                 730 non-null    int64  \n",
            " 1   holiday            730 non-null    int64  \n",
            " 2   workingday         730 non-null    int64  \n",
            " 3   temp               730 non-null    float64\n",
            " 4   hum                730 non-null    float64\n",
            " 5   windspeed          730 non-null    float64\n",
            " 6   cnt                730 non-null    int64  \n",
            " 7   mnth_February      730 non-null    uint8  \n",
            " 8   mnth_March         730 non-null    uint8  \n",
            " 9   mnth_April         730 non-null    uint8  \n",
            " 10  mnth_May           730 non-null    uint8  \n",
            " 11  mnth_June          730 non-null    uint8  \n",
            " 12  mnth_July          730 non-null    uint8  \n",
            " 13  mnth_August        730 non-null    uint8  \n",
            " 14  mnth_September     730 non-null    uint8  \n",
            " 15  mnth_October       730 non-null    uint8  \n",
            " 16  mnth_November      730 non-null    uint8  \n",
            " 17  mnth_December      730 non-null    uint8  \n",
            " 18  weathersit_2       730 non-null    uint8  \n",
            " 19  weathersit_3       730 non-null    uint8  \n",
            " 20  weekday_monday     730 non-null    uint8  \n",
            " 21  weekday_tuesday    730 non-null    uint8  \n",
            " 22  weekday_wednesday  730 non-null    uint8  \n",
            " 23  weekday_thursday   730 non-null    uint8  \n",
            " 24  weekday_friday     730 non-null    uint8  \n",
            " 25  weekday_saturday   730 non-null    uint8  \n",
            " 26  season_Summer      730 non-null    uint8  \n",
            " 27  season_Fall        730 non-null    uint8  \n",
            " 28  season_Winter      730 non-null    uint8  \n",
            "dtypes: float64(3), int64(4), uint8(22)\n",
            "memory usage: 81.3 KB\n"
          ],
          "name": "stdout"
        }
      ]
    },
    {
      "cell_type": "code",
      "metadata": {
        "colab": {
          "base_uri": "https://localhost:8080/"
        },
        "id": "FrXO_7p-6NDO",
        "outputId": "82253cd9-8621-4996-b652-796c6f107b35"
      },
      "source": [
        "df1.shape"
      ],
      "execution_count": 38,
      "outputs": [
        {
          "output_type": "execute_result",
          "data": {
            "text/plain": [
              "(730, 29)"
            ]
          },
          "metadata": {
            "tags": []
          },
          "execution_count": 38
        }
      ]
    },
    {
      "cell_type": "markdown",
      "metadata": {
        "id": "nP6na0aw6JKn"
      },
      "source": [
        "###Splitting train and test data"
      ]
    },
    {
      "cell_type": "code",
      "metadata": {
        "id": "MuEx0Fza6kkW"
      },
      "source": [
        "#splitting the dataset, 70-30 train test split\n",
        "df_train,df_test=train_test_split(df1,train_size=0.7,random_state=222)"
      ],
      "execution_count": 39,
      "outputs": []
    },
    {
      "cell_type": "code",
      "metadata": {
        "colab": {
          "base_uri": "https://localhost:8080/"
        },
        "id": "vlEHHDMl7ULg",
        "outputId": "7664d95d-2939-404b-a10e-50bb056e3704"
      },
      "source": [
        "df_train.shape"
      ],
      "execution_count": 40,
      "outputs": [
        {
          "output_type": "execute_result",
          "data": {
            "text/plain": [
              "(510, 29)"
            ]
          },
          "metadata": {
            "tags": []
          },
          "execution_count": 40
        }
      ]
    },
    {
      "cell_type": "code",
      "metadata": {
        "colab": {
          "base_uri": "https://localhost:8080/"
        },
        "id": "2q5pgSiK7oad",
        "outputId": "1aa39bd2-b547-4b67-d6bd-ccd5e1bb91ca"
      },
      "source": [
        "df_test.shape"
      ],
      "execution_count": 41,
      "outputs": [
        {
          "output_type": "execute_result",
          "data": {
            "text/plain": [
              "(220, 29)"
            ]
          },
          "metadata": {
            "tags": []
          },
          "execution_count": 41
        }
      ]
    },
    {
      "cell_type": "markdown",
      "metadata": {
        "id": "gj_bgtBw74hA"
      },
      "source": [
        "###Scaling the train dataset"
      ]
    },
    {
      "cell_type": "code",
      "metadata": {
        "id": "c8I22wnL778R"
      },
      "source": [
        "#scaling values in the train dataset\n",
        "sc_X=MinMaxScaler()\n",
        "scale=['temp','hum','windspeed','cnt']\n",
        "df_train[scale]=sc_X.fit_transform(df_train[scale])"
      ],
      "execution_count": 42,
      "outputs": []
    },
    {
      "cell_type": "code",
      "metadata": {
        "colab": {
          "base_uri": "https://localhost:8080/",
          "height": 220
        },
        "id": "hQB7b0Fm9MwN",
        "outputId": "6e023d7a-68d0-4a5b-9884-fe8f435719f0"
      },
      "source": [
        "#check the train dataset after scaling\n",
        "df_train.head()"
      ],
      "execution_count": 43,
      "outputs": [
        {
          "output_type": "execute_result",
          "data": {
            "text/html": [
              "<div>\n",
              "<style scoped>\n",
              "    .dataframe tbody tr th:only-of-type {\n",
              "        vertical-align: middle;\n",
              "    }\n",
              "\n",
              "    .dataframe tbody tr th {\n",
              "        vertical-align: top;\n",
              "    }\n",
              "\n",
              "    .dataframe thead th {\n",
              "        text-align: right;\n",
              "    }\n",
              "</style>\n",
              "<table border=\"1\" class=\"dataframe\">\n",
              "  <thead>\n",
              "    <tr style=\"text-align: right;\">\n",
              "      <th></th>\n",
              "      <th>yr</th>\n",
              "      <th>holiday</th>\n",
              "      <th>workingday</th>\n",
              "      <th>temp</th>\n",
              "      <th>hum</th>\n",
              "      <th>windspeed</th>\n",
              "      <th>cnt</th>\n",
              "      <th>mnth_February</th>\n",
              "      <th>mnth_March</th>\n",
              "      <th>mnth_April</th>\n",
              "      <th>mnth_May</th>\n",
              "      <th>mnth_June</th>\n",
              "      <th>mnth_July</th>\n",
              "      <th>mnth_August</th>\n",
              "      <th>mnth_September</th>\n",
              "      <th>mnth_October</th>\n",
              "      <th>mnth_November</th>\n",
              "      <th>mnth_December</th>\n",
              "      <th>weathersit_2</th>\n",
              "      <th>weathersit_3</th>\n",
              "      <th>weekday_monday</th>\n",
              "      <th>weekday_tuesday</th>\n",
              "      <th>weekday_wednesday</th>\n",
              "      <th>weekday_thursday</th>\n",
              "      <th>weekday_friday</th>\n",
              "      <th>weekday_saturday</th>\n",
              "      <th>season_Summer</th>\n",
              "      <th>season_Fall</th>\n",
              "      <th>season_Winter</th>\n",
              "    </tr>\n",
              "  </thead>\n",
              "  <tbody>\n",
              "    <tr>\n",
              "      <th>653</th>\n",
              "      <td>1</td>\n",
              "      <td>0</td>\n",
              "      <td>1</td>\n",
              "      <td>0.485936</td>\n",
              "      <td>0.405502</td>\n",
              "      <td>0.350441</td>\n",
              "      <td>0.864243</td>\n",
              "      <td>0</td>\n",
              "      <td>0</td>\n",
              "      <td>0</td>\n",
              "      <td>0</td>\n",
              "      <td>0</td>\n",
              "      <td>0</td>\n",
              "      <td>0</td>\n",
              "      <td>0</td>\n",
              "      <td>1</td>\n",
              "      <td>0</td>\n",
              "      <td>0</td>\n",
              "      <td>0</td>\n",
              "      <td>0</td>\n",
              "      <td>0</td>\n",
              "      <td>0</td>\n",
              "      <td>1</td>\n",
              "      <td>0</td>\n",
              "      <td>0</td>\n",
              "      <td>0</td>\n",
              "      <td>0</td>\n",
              "      <td>0</td>\n",
              "      <td>1</td>\n",
              "    </tr>\n",
              "    <tr>\n",
              "      <th>499</th>\n",
              "      <td>1</td>\n",
              "      <td>0</td>\n",
              "      <td>1</td>\n",
              "      <td>0.673265</td>\n",
              "      <td>0.744617</td>\n",
              "      <td>0.263207</td>\n",
              "      <td>0.585941</td>\n",
              "      <td>0</td>\n",
              "      <td>0</td>\n",
              "      <td>0</td>\n",
              "      <td>1</td>\n",
              "      <td>0</td>\n",
              "      <td>0</td>\n",
              "      <td>0</td>\n",
              "      <td>0</td>\n",
              "      <td>0</td>\n",
              "      <td>0</td>\n",
              "      <td>0</td>\n",
              "      <td>1</td>\n",
              "      <td>0</td>\n",
              "      <td>0</td>\n",
              "      <td>0</td>\n",
              "      <td>1</td>\n",
              "      <td>0</td>\n",
              "      <td>0</td>\n",
              "      <td>0</td>\n",
              "      <td>1</td>\n",
              "      <td>0</td>\n",
              "      <td>0</td>\n",
              "    </tr>\n",
              "    <tr>\n",
              "      <th>408</th>\n",
              "      <td>1</td>\n",
              "      <td>0</td>\n",
              "      <td>1</td>\n",
              "      <td>0.164646</td>\n",
              "      <td>0.194378</td>\n",
              "      <td>0.313027</td>\n",
              "      <td>0.391164</td>\n",
              "      <td>1</td>\n",
              "      <td>0</td>\n",
              "      <td>0</td>\n",
              "      <td>0</td>\n",
              "      <td>0</td>\n",
              "      <td>0</td>\n",
              "      <td>0</td>\n",
              "      <td>0</td>\n",
              "      <td>0</td>\n",
              "      <td>0</td>\n",
              "      <td>0</td>\n",
              "      <td>0</td>\n",
              "      <td>0</td>\n",
              "      <td>0</td>\n",
              "      <td>0</td>\n",
              "      <td>1</td>\n",
              "      <td>0</td>\n",
              "      <td>0</td>\n",
              "      <td>0</td>\n",
              "      <td>0</td>\n",
              "      <td>0</td>\n",
              "      <td>0</td>\n",
              "    </tr>\n",
              "    <tr>\n",
              "      <th>640</th>\n",
              "      <td>1</td>\n",
              "      <td>0</td>\n",
              "      <td>1</td>\n",
              "      <td>0.733166</td>\n",
              "      <td>0.743421</td>\n",
              "      <td>0.060717</td>\n",
              "      <td>0.868615</td>\n",
              "      <td>0</td>\n",
              "      <td>0</td>\n",
              "      <td>0</td>\n",
              "      <td>0</td>\n",
              "      <td>0</td>\n",
              "      <td>0</td>\n",
              "      <td>0</td>\n",
              "      <td>0</td>\n",
              "      <td>1</td>\n",
              "      <td>0</td>\n",
              "      <td>0</td>\n",
              "      <td>1</td>\n",
              "      <td>0</td>\n",
              "      <td>0</td>\n",
              "      <td>0</td>\n",
              "      <td>0</td>\n",
              "      <td>1</td>\n",
              "      <td>0</td>\n",
              "      <td>0</td>\n",
              "      <td>0</td>\n",
              "      <td>0</td>\n",
              "      <td>1</td>\n",
              "    </tr>\n",
              "    <tr>\n",
              "      <th>222</th>\n",
              "      <td>0</td>\n",
              "      <td>0</td>\n",
              "      <td>0</td>\n",
              "      <td>0.811582</td>\n",
              "      <td>0.212321</td>\n",
              "      <td>0.306798</td>\n",
              "      <td>0.548780</td>\n",
              "      <td>0</td>\n",
              "      <td>0</td>\n",
              "      <td>0</td>\n",
              "      <td>0</td>\n",
              "      <td>0</td>\n",
              "      <td>0</td>\n",
              "      <td>1</td>\n",
              "      <td>0</td>\n",
              "      <td>0</td>\n",
              "      <td>0</td>\n",
              "      <td>0</td>\n",
              "      <td>0</td>\n",
              "      <td>0</td>\n",
              "      <td>0</td>\n",
              "      <td>0</td>\n",
              "      <td>0</td>\n",
              "      <td>0</td>\n",
              "      <td>0</td>\n",
              "      <td>1</td>\n",
              "      <td>0</td>\n",
              "      <td>1</td>\n",
              "      <td>0</td>\n",
              "    </tr>\n",
              "  </tbody>\n",
              "</table>\n",
              "</div>"
            ],
            "text/plain": [
              "     yr  holiday  workingday  ...  season_Summer  season_Fall  season_Winter\n",
              "653   1        0           1  ...              0            0              1\n",
              "499   1        0           1  ...              1            0              0\n",
              "408   1        0           1  ...              0            0              0\n",
              "640   1        0           1  ...              0            0              1\n",
              "222   0        0           0  ...              0            1              0\n",
              "\n",
              "[5 rows x 29 columns]"
            ]
          },
          "metadata": {
            "tags": []
          },
          "execution_count": 43
        }
      ]
    },
    {
      "cell_type": "code",
      "metadata": {
        "colab": {
          "base_uri": "https://localhost:8080/",
          "height": 311
        },
        "id": "PxJzt4ux-CWs",
        "outputId": "3ff707d1-5da4-4de2-dddb-635a5aca9f42"
      },
      "source": [
        "df_train.describe()"
      ],
      "execution_count": 44,
      "outputs": [
        {
          "output_type": "execute_result",
          "data": {
            "text/html": [
              "<div>\n",
              "<style scoped>\n",
              "    .dataframe tbody tr th:only-of-type {\n",
              "        vertical-align: middle;\n",
              "    }\n",
              "\n",
              "    .dataframe tbody tr th {\n",
              "        vertical-align: top;\n",
              "    }\n",
              "\n",
              "    .dataframe thead th {\n",
              "        text-align: right;\n",
              "    }\n",
              "</style>\n",
              "<table border=\"1\" class=\"dataframe\">\n",
              "  <thead>\n",
              "    <tr style=\"text-align: right;\">\n",
              "      <th></th>\n",
              "      <th>yr</th>\n",
              "      <th>holiday</th>\n",
              "      <th>workingday</th>\n",
              "      <th>temp</th>\n",
              "      <th>hum</th>\n",
              "      <th>windspeed</th>\n",
              "      <th>cnt</th>\n",
              "      <th>mnth_February</th>\n",
              "      <th>mnth_March</th>\n",
              "      <th>mnth_April</th>\n",
              "      <th>mnth_May</th>\n",
              "      <th>mnth_June</th>\n",
              "      <th>mnth_July</th>\n",
              "      <th>mnth_August</th>\n",
              "      <th>mnth_September</th>\n",
              "      <th>mnth_October</th>\n",
              "      <th>mnth_November</th>\n",
              "      <th>mnth_December</th>\n",
              "      <th>weathersit_2</th>\n",
              "      <th>weathersit_3</th>\n",
              "      <th>weekday_monday</th>\n",
              "      <th>weekday_tuesday</th>\n",
              "      <th>weekday_wednesday</th>\n",
              "      <th>weekday_thursday</th>\n",
              "      <th>weekday_friday</th>\n",
              "      <th>weekday_saturday</th>\n",
              "      <th>season_Summer</th>\n",
              "      <th>season_Fall</th>\n",
              "      <th>season_Winter</th>\n",
              "    </tr>\n",
              "  </thead>\n",
              "  <tbody>\n",
              "    <tr>\n",
              "      <th>count</th>\n",
              "      <td>510.000000</td>\n",
              "      <td>510.000000</td>\n",
              "      <td>510.000000</td>\n",
              "      <td>510.000000</td>\n",
              "      <td>510.000000</td>\n",
              "      <td>510.000000</td>\n",
              "      <td>510.000000</td>\n",
              "      <td>510.000000</td>\n",
              "      <td>510.000000</td>\n",
              "      <td>510.000000</td>\n",
              "      <td>510.000000</td>\n",
              "      <td>510.000000</td>\n",
              "      <td>510.000000</td>\n",
              "      <td>510.000000</td>\n",
              "      <td>510.000000</td>\n",
              "      <td>510.000000</td>\n",
              "      <td>510.000000</td>\n",
              "      <td>510.000000</td>\n",
              "      <td>510.000000</td>\n",
              "      <td>510.000000</td>\n",
              "      <td>510.000000</td>\n",
              "      <td>510.000000</td>\n",
              "      <td>510.000000</td>\n",
              "      <td>510.000000</td>\n",
              "      <td>510.000000</td>\n",
              "      <td>510.000000</td>\n",
              "      <td>510.000000</td>\n",
              "      <td>510.000000</td>\n",
              "      <td>510.000000</td>\n",
              "    </tr>\n",
              "    <tr>\n",
              "      <th>mean</th>\n",
              "      <td>0.501961</td>\n",
              "      <td>0.023529</td>\n",
              "      <td>0.713725</td>\n",
              "      <td>0.529489</td>\n",
              "      <td>0.505085</td>\n",
              "      <td>0.373391</td>\n",
              "      <td>0.517816</td>\n",
              "      <td>0.082353</td>\n",
              "      <td>0.076471</td>\n",
              "      <td>0.082353</td>\n",
              "      <td>0.086275</td>\n",
              "      <td>0.080392</td>\n",
              "      <td>0.096078</td>\n",
              "      <td>0.092157</td>\n",
              "      <td>0.088235</td>\n",
              "      <td>0.076471</td>\n",
              "      <td>0.074510</td>\n",
              "      <td>0.082353</td>\n",
              "      <td>0.335294</td>\n",
              "      <td>0.029412</td>\n",
              "      <td>0.166667</td>\n",
              "      <td>0.141176</td>\n",
              "      <td>0.145098</td>\n",
              "      <td>0.131373</td>\n",
              "      <td>0.150980</td>\n",
              "      <td>0.135294</td>\n",
              "      <td>0.252941</td>\n",
              "      <td>0.272549</td>\n",
              "      <td>0.233333</td>\n",
              "    </tr>\n",
              "    <tr>\n",
              "      <th>std</th>\n",
              "      <td>0.500487</td>\n",
              "      <td>0.151726</td>\n",
              "      <td>0.452463</td>\n",
              "      <td>0.240035</td>\n",
              "      <td>0.204961</td>\n",
              "      <td>0.190576</td>\n",
              "      <td>0.222145</td>\n",
              "      <td>0.275172</td>\n",
              "      <td>0.266010</td>\n",
              "      <td>0.275172</td>\n",
              "      <td>0.281045</td>\n",
              "      <td>0.272166</td>\n",
              "      <td>0.294988</td>\n",
              "      <td>0.289531</td>\n",
              "      <td>0.283915</td>\n",
              "      <td>0.266010</td>\n",
              "      <td>0.262857</td>\n",
              "      <td>0.275172</td>\n",
              "      <td>0.472557</td>\n",
              "      <td>0.169124</td>\n",
              "      <td>0.373044</td>\n",
              "      <td>0.348545</td>\n",
              "      <td>0.352545</td>\n",
              "      <td>0.338139</td>\n",
              "      <td>0.358381</td>\n",
              "      <td>0.342373</td>\n",
              "      <td>0.435124</td>\n",
              "      <td>0.445708</td>\n",
              "      <td>0.423368</td>\n",
              "    </tr>\n",
              "    <tr>\n",
              "      <th>min</th>\n",
              "      <td>0.000000</td>\n",
              "      <td>0.000000</td>\n",
              "      <td>0.000000</td>\n",
              "      <td>0.000000</td>\n",
              "      <td>0.000000</td>\n",
              "      <td>0.000000</td>\n",
              "      <td>0.000000</td>\n",
              "      <td>0.000000</td>\n",
              "      <td>0.000000</td>\n",
              "      <td>0.000000</td>\n",
              "      <td>0.000000</td>\n",
              "      <td>0.000000</td>\n",
              "      <td>0.000000</td>\n",
              "      <td>0.000000</td>\n",
              "      <td>0.000000</td>\n",
              "      <td>0.000000</td>\n",
              "      <td>0.000000</td>\n",
              "      <td>0.000000</td>\n",
              "      <td>0.000000</td>\n",
              "      <td>0.000000</td>\n",
              "      <td>0.000000</td>\n",
              "      <td>0.000000</td>\n",
              "      <td>0.000000</td>\n",
              "      <td>0.000000</td>\n",
              "      <td>0.000000</td>\n",
              "      <td>0.000000</td>\n",
              "      <td>0.000000</td>\n",
              "      <td>0.000000</td>\n",
              "      <td>0.000000</td>\n",
              "    </tr>\n",
              "    <tr>\n",
              "      <th>25%</th>\n",
              "      <td>0.000000</td>\n",
              "      <td>0.000000</td>\n",
              "      <td>0.000000</td>\n",
              "      <td>0.318757</td>\n",
              "      <td>0.344797</td>\n",
              "      <td>0.236721</td>\n",
              "      <td>0.366371</td>\n",
              "      <td>0.000000</td>\n",
              "      <td>0.000000</td>\n",
              "      <td>0.000000</td>\n",
              "      <td>0.000000</td>\n",
              "      <td>0.000000</td>\n",
              "      <td>0.000000</td>\n",
              "      <td>0.000000</td>\n",
              "      <td>0.000000</td>\n",
              "      <td>0.000000</td>\n",
              "      <td>0.000000</td>\n",
              "      <td>0.000000</td>\n",
              "      <td>0.000000</td>\n",
              "      <td>0.000000</td>\n",
              "      <td>0.000000</td>\n",
              "      <td>0.000000</td>\n",
              "      <td>0.000000</td>\n",
              "      <td>0.000000</td>\n",
              "      <td>0.000000</td>\n",
              "      <td>0.000000</td>\n",
              "      <td>0.000000</td>\n",
              "      <td>0.000000</td>\n",
              "      <td>0.000000</td>\n",
              "    </tr>\n",
              "    <tr>\n",
              "      <th>50%</th>\n",
              "      <td>1.000000</td>\n",
              "      <td>0.000000</td>\n",
              "      <td>1.000000</td>\n",
              "      <td>0.545838</td>\n",
              "      <td>0.496411</td>\n",
              "      <td>0.358226</td>\n",
              "      <td>0.516107</td>\n",
              "      <td>0.000000</td>\n",
              "      <td>0.000000</td>\n",
              "      <td>0.000000</td>\n",
              "      <td>0.000000</td>\n",
              "      <td>0.000000</td>\n",
              "      <td>0.000000</td>\n",
              "      <td>0.000000</td>\n",
              "      <td>0.000000</td>\n",
              "      <td>0.000000</td>\n",
              "      <td>0.000000</td>\n",
              "      <td>0.000000</td>\n",
              "      <td>0.000000</td>\n",
              "      <td>0.000000</td>\n",
              "      <td>0.000000</td>\n",
              "      <td>0.000000</td>\n",
              "      <td>0.000000</td>\n",
              "      <td>0.000000</td>\n",
              "      <td>0.000000</td>\n",
              "      <td>0.000000</td>\n",
              "      <td>0.000000</td>\n",
              "      <td>0.000000</td>\n",
              "      <td>0.000000</td>\n",
              "    </tr>\n",
              "    <tr>\n",
              "      <th>75%</th>\n",
              "      <td>1.000000</td>\n",
              "      <td>0.000000</td>\n",
              "      <td>1.000000</td>\n",
              "      <td>0.732894</td>\n",
              "      <td>0.657297</td>\n",
              "      <td>0.478167</td>\n",
              "      <td>0.692648</td>\n",
              "      <td>0.000000</td>\n",
              "      <td>0.000000</td>\n",
              "      <td>0.000000</td>\n",
              "      <td>0.000000</td>\n",
              "      <td>0.000000</td>\n",
              "      <td>0.000000</td>\n",
              "      <td>0.000000</td>\n",
              "      <td>0.000000</td>\n",
              "      <td>0.000000</td>\n",
              "      <td>0.000000</td>\n",
              "      <td>0.000000</td>\n",
              "      <td>1.000000</td>\n",
              "      <td>0.000000</td>\n",
              "      <td>0.000000</td>\n",
              "      <td>0.000000</td>\n",
              "      <td>0.000000</td>\n",
              "      <td>0.000000</td>\n",
              "      <td>0.000000</td>\n",
              "      <td>0.000000</td>\n",
              "      <td>1.000000</td>\n",
              "      <td>1.000000</td>\n",
              "      <td>0.000000</td>\n",
              "    </tr>\n",
              "    <tr>\n",
              "      <th>max</th>\n",
              "      <td>1.000000</td>\n",
              "      <td>1.000000</td>\n",
              "      <td>1.000000</td>\n",
              "      <td>1.000000</td>\n",
              "      <td>1.000000</td>\n",
              "      <td>1.000000</td>\n",
              "      <td>1.000000</td>\n",
              "      <td>1.000000</td>\n",
              "      <td>1.000000</td>\n",
              "      <td>1.000000</td>\n",
              "      <td>1.000000</td>\n",
              "      <td>1.000000</td>\n",
              "      <td>1.000000</td>\n",
              "      <td>1.000000</td>\n",
              "      <td>1.000000</td>\n",
              "      <td>1.000000</td>\n",
              "      <td>1.000000</td>\n",
              "      <td>1.000000</td>\n",
              "      <td>1.000000</td>\n",
              "      <td>1.000000</td>\n",
              "      <td>1.000000</td>\n",
              "      <td>1.000000</td>\n",
              "      <td>1.000000</td>\n",
              "      <td>1.000000</td>\n",
              "      <td>1.000000</td>\n",
              "      <td>1.000000</td>\n",
              "      <td>1.000000</td>\n",
              "      <td>1.000000</td>\n",
              "      <td>1.000000</td>\n",
              "    </tr>\n",
              "  </tbody>\n",
              "</table>\n",
              "</div>"
            ],
            "text/plain": [
              "               yr     holiday  ...  season_Fall  season_Winter\n",
              "count  510.000000  510.000000  ...   510.000000     510.000000\n",
              "mean     0.501961    0.023529  ...     0.272549       0.233333\n",
              "std      0.500487    0.151726  ...     0.445708       0.423368\n",
              "min      0.000000    0.000000  ...     0.000000       0.000000\n",
              "25%      0.000000    0.000000  ...     0.000000       0.000000\n",
              "50%      1.000000    0.000000  ...     0.000000       0.000000\n",
              "75%      1.000000    0.000000  ...     1.000000       0.000000\n",
              "max      1.000000    1.000000  ...     1.000000       1.000000\n",
              "\n",
              "[8 rows x 29 columns]"
            ]
          },
          "metadata": {
            "tags": []
          },
          "execution_count": 44
        }
      ]
    },
    {
      "cell_type": "code",
      "metadata": {
        "colab": {
          "base_uri": "https://localhost:8080/"
        },
        "id": "kA8hJhQA_H-0",
        "outputId": "ce4ca72c-db19-4ada-b75e-d2a30ced4ca3"
      },
      "source": [
        "#dividing the target variable from the train set\n",
        "y_train= df_train.pop('cnt')\n",
        "y_train.head()"
      ],
      "execution_count": 45,
      "outputs": [
        {
          "output_type": "execute_result",
          "data": {
            "text/plain": [
              "653    0.864243\n",
              "499    0.585941\n",
              "408    0.391164\n",
              "640    0.868615\n",
              "222    0.548780\n",
              "Name: cnt, dtype: float64"
            ]
          },
          "metadata": {
            "tags": []
          },
          "execution_count": 45
        }
      ]
    },
    {
      "cell_type": "code",
      "metadata": {
        "colab": {
          "base_uri": "https://localhost:8080/",
          "height": 220
        },
        "id": "tmGX1uAsBMYd",
        "outputId": "4e35738e-728c-4d84-b712-1954e8c02dd5"
      },
      "source": [
        "X_train=df_train\n",
        "X_train.head()"
      ],
      "execution_count": 46,
      "outputs": [
        {
          "output_type": "execute_result",
          "data": {
            "text/html": [
              "<div>\n",
              "<style scoped>\n",
              "    .dataframe tbody tr th:only-of-type {\n",
              "        vertical-align: middle;\n",
              "    }\n",
              "\n",
              "    .dataframe tbody tr th {\n",
              "        vertical-align: top;\n",
              "    }\n",
              "\n",
              "    .dataframe thead th {\n",
              "        text-align: right;\n",
              "    }\n",
              "</style>\n",
              "<table border=\"1\" class=\"dataframe\">\n",
              "  <thead>\n",
              "    <tr style=\"text-align: right;\">\n",
              "      <th></th>\n",
              "      <th>yr</th>\n",
              "      <th>holiday</th>\n",
              "      <th>workingday</th>\n",
              "      <th>temp</th>\n",
              "      <th>hum</th>\n",
              "      <th>windspeed</th>\n",
              "      <th>mnth_February</th>\n",
              "      <th>mnth_March</th>\n",
              "      <th>mnth_April</th>\n",
              "      <th>mnth_May</th>\n",
              "      <th>mnth_June</th>\n",
              "      <th>mnth_July</th>\n",
              "      <th>mnth_August</th>\n",
              "      <th>mnth_September</th>\n",
              "      <th>mnth_October</th>\n",
              "      <th>mnth_November</th>\n",
              "      <th>mnth_December</th>\n",
              "      <th>weathersit_2</th>\n",
              "      <th>weathersit_3</th>\n",
              "      <th>weekday_monday</th>\n",
              "      <th>weekday_tuesday</th>\n",
              "      <th>weekday_wednesday</th>\n",
              "      <th>weekday_thursday</th>\n",
              "      <th>weekday_friday</th>\n",
              "      <th>weekday_saturday</th>\n",
              "      <th>season_Summer</th>\n",
              "      <th>season_Fall</th>\n",
              "      <th>season_Winter</th>\n",
              "    </tr>\n",
              "  </thead>\n",
              "  <tbody>\n",
              "    <tr>\n",
              "      <th>653</th>\n",
              "      <td>1</td>\n",
              "      <td>0</td>\n",
              "      <td>1</td>\n",
              "      <td>0.485936</td>\n",
              "      <td>0.405502</td>\n",
              "      <td>0.350441</td>\n",
              "      <td>0</td>\n",
              "      <td>0</td>\n",
              "      <td>0</td>\n",
              "      <td>0</td>\n",
              "      <td>0</td>\n",
              "      <td>0</td>\n",
              "      <td>0</td>\n",
              "      <td>0</td>\n",
              "      <td>1</td>\n",
              "      <td>0</td>\n",
              "      <td>0</td>\n",
              "      <td>0</td>\n",
              "      <td>0</td>\n",
              "      <td>0</td>\n",
              "      <td>0</td>\n",
              "      <td>1</td>\n",
              "      <td>0</td>\n",
              "      <td>0</td>\n",
              "      <td>0</td>\n",
              "      <td>0</td>\n",
              "      <td>0</td>\n",
              "      <td>1</td>\n",
              "    </tr>\n",
              "    <tr>\n",
              "      <th>499</th>\n",
              "      <td>1</td>\n",
              "      <td>0</td>\n",
              "      <td>1</td>\n",
              "      <td>0.673265</td>\n",
              "      <td>0.744617</td>\n",
              "      <td>0.263207</td>\n",
              "      <td>0</td>\n",
              "      <td>0</td>\n",
              "      <td>0</td>\n",
              "      <td>1</td>\n",
              "      <td>0</td>\n",
              "      <td>0</td>\n",
              "      <td>0</td>\n",
              "      <td>0</td>\n",
              "      <td>0</td>\n",
              "      <td>0</td>\n",
              "      <td>0</td>\n",
              "      <td>1</td>\n",
              "      <td>0</td>\n",
              "      <td>0</td>\n",
              "      <td>0</td>\n",
              "      <td>1</td>\n",
              "      <td>0</td>\n",
              "      <td>0</td>\n",
              "      <td>0</td>\n",
              "      <td>1</td>\n",
              "      <td>0</td>\n",
              "      <td>0</td>\n",
              "    </tr>\n",
              "    <tr>\n",
              "      <th>408</th>\n",
              "      <td>1</td>\n",
              "      <td>0</td>\n",
              "      <td>1</td>\n",
              "      <td>0.164646</td>\n",
              "      <td>0.194378</td>\n",
              "      <td>0.313027</td>\n",
              "      <td>1</td>\n",
              "      <td>0</td>\n",
              "      <td>0</td>\n",
              "      <td>0</td>\n",
              "      <td>0</td>\n",
              "      <td>0</td>\n",
              "      <td>0</td>\n",
              "      <td>0</td>\n",
              "      <td>0</td>\n",
              "      <td>0</td>\n",
              "      <td>0</td>\n",
              "      <td>0</td>\n",
              "      <td>0</td>\n",
              "      <td>0</td>\n",
              "      <td>0</td>\n",
              "      <td>1</td>\n",
              "      <td>0</td>\n",
              "      <td>0</td>\n",
              "      <td>0</td>\n",
              "      <td>0</td>\n",
              "      <td>0</td>\n",
              "      <td>0</td>\n",
              "    </tr>\n",
              "    <tr>\n",
              "      <th>640</th>\n",
              "      <td>1</td>\n",
              "      <td>0</td>\n",
              "      <td>1</td>\n",
              "      <td>0.733166</td>\n",
              "      <td>0.743421</td>\n",
              "      <td>0.060717</td>\n",
              "      <td>0</td>\n",
              "      <td>0</td>\n",
              "      <td>0</td>\n",
              "      <td>0</td>\n",
              "      <td>0</td>\n",
              "      <td>0</td>\n",
              "      <td>0</td>\n",
              "      <td>0</td>\n",
              "      <td>1</td>\n",
              "      <td>0</td>\n",
              "      <td>0</td>\n",
              "      <td>1</td>\n",
              "      <td>0</td>\n",
              "      <td>0</td>\n",
              "      <td>0</td>\n",
              "      <td>0</td>\n",
              "      <td>1</td>\n",
              "      <td>0</td>\n",
              "      <td>0</td>\n",
              "      <td>0</td>\n",
              "      <td>0</td>\n",
              "      <td>1</td>\n",
              "    </tr>\n",
              "    <tr>\n",
              "      <th>222</th>\n",
              "      <td>0</td>\n",
              "      <td>0</td>\n",
              "      <td>0</td>\n",
              "      <td>0.811582</td>\n",
              "      <td>0.212321</td>\n",
              "      <td>0.306798</td>\n",
              "      <td>0</td>\n",
              "      <td>0</td>\n",
              "      <td>0</td>\n",
              "      <td>0</td>\n",
              "      <td>0</td>\n",
              "      <td>0</td>\n",
              "      <td>1</td>\n",
              "      <td>0</td>\n",
              "      <td>0</td>\n",
              "      <td>0</td>\n",
              "      <td>0</td>\n",
              "      <td>0</td>\n",
              "      <td>0</td>\n",
              "      <td>0</td>\n",
              "      <td>0</td>\n",
              "      <td>0</td>\n",
              "      <td>0</td>\n",
              "      <td>0</td>\n",
              "      <td>1</td>\n",
              "      <td>0</td>\n",
              "      <td>1</td>\n",
              "      <td>0</td>\n",
              "    </tr>\n",
              "  </tbody>\n",
              "</table>\n",
              "</div>"
            ],
            "text/plain": [
              "     yr  holiday  workingday  ...  season_Summer  season_Fall  season_Winter\n",
              "653   1        0           1  ...              0            0              1\n",
              "499   1        0           1  ...              1            0              0\n",
              "408   1        0           1  ...              0            0              0\n",
              "640   1        0           1  ...              0            0              1\n",
              "222   0        0           0  ...              0            1              0\n",
              "\n",
              "[5 rows x 28 columns]"
            ]
          },
          "metadata": {
            "tags": []
          },
          "execution_count": 46
        }
      ]
    },
    {
      "cell_type": "markdown",
      "metadata": {
        "id": "NI5jxExVBaAX"
      },
      "source": [
        "### Applying RFE"
      ]
    },
    {
      "cell_type": "code",
      "metadata": {
        "colab": {
          "base_uri": "https://localhost:8080/"
        },
        "id": "h3Jy4WOZBqj7",
        "outputId": "f60c19c0-a7af-487c-9f7a-9a8ace9bcba3"
      },
      "source": [
        "lm=LinearRegression()\n",
        "lm.fit(X_train,y_train)"
      ],
      "execution_count": 47,
      "outputs": [
        {
          "output_type": "execute_result",
          "data": {
            "text/plain": [
              "LinearRegression(copy_X=True, fit_intercept=True, n_jobs=None, normalize=False)"
            ]
          },
          "metadata": {
            "tags": []
          },
          "execution_count": 47
        }
      ]
    },
    {
      "cell_type": "code",
      "metadata": {
        "id": "XTCdtv4xB2Sz"
      },
      "source": [
        "#Using RFE to select 15 significant features\n",
        "rfe=RFE(lm,15)\n",
        "rfe=rfe.fit(X_train,y_train)"
      ],
      "execution_count": 48,
      "outputs": []
    },
    {
      "cell_type": "code",
      "metadata": {
        "colab": {
          "base_uri": "https://localhost:8080/",
          "height": 898
        },
        "id": "31O3-J3UCO-w",
        "outputId": "47c59af1-e0ef-4a7a-eb2a-4b377f36a54f"
      },
      "source": [
        "#Inspect the features selected by RFE \n",
        "rfe15=pd.DataFrame()\n",
        "rfe15['Features']=X_train.columns\n",
        "rfe15['Feature Selected'] = rfe.support_\n",
        "rfe15['Rank']=rfe.ranking_\n",
        "rfe15.sort_values(by='Rank')"
      ],
      "execution_count": 49,
      "outputs": [
        {
          "output_type": "execute_result",
          "data": {
            "text/html": [
              "<div>\n",
              "<style scoped>\n",
              "    .dataframe tbody tr th:only-of-type {\n",
              "        vertical-align: middle;\n",
              "    }\n",
              "\n",
              "    .dataframe tbody tr th {\n",
              "        vertical-align: top;\n",
              "    }\n",
              "\n",
              "    .dataframe thead th {\n",
              "        text-align: right;\n",
              "    }\n",
              "</style>\n",
              "<table border=\"1\" class=\"dataframe\">\n",
              "  <thead>\n",
              "    <tr style=\"text-align: right;\">\n",
              "      <th></th>\n",
              "      <th>Features</th>\n",
              "      <th>Feature Selected</th>\n",
              "      <th>Rank</th>\n",
              "    </tr>\n",
              "  </thead>\n",
              "  <tbody>\n",
              "    <tr>\n",
              "      <th>0</th>\n",
              "      <td>yr</td>\n",
              "      <td>True</td>\n",
              "      <td>1</td>\n",
              "    </tr>\n",
              "    <tr>\n",
              "      <th>25</th>\n",
              "      <td>season_Summer</td>\n",
              "      <td>True</td>\n",
              "      <td>1</td>\n",
              "    </tr>\n",
              "    <tr>\n",
              "      <th>23</th>\n",
              "      <td>weekday_friday</td>\n",
              "      <td>True</td>\n",
              "      <td>1</td>\n",
              "    </tr>\n",
              "    <tr>\n",
              "      <th>22</th>\n",
              "      <td>weekday_thursday</td>\n",
              "      <td>True</td>\n",
              "      <td>1</td>\n",
              "    </tr>\n",
              "    <tr>\n",
              "      <th>21</th>\n",
              "      <td>weekday_wednesday</td>\n",
              "      <td>True</td>\n",
              "      <td>1</td>\n",
              "    </tr>\n",
              "    <tr>\n",
              "      <th>20</th>\n",
              "      <td>weekday_tuesday</td>\n",
              "      <td>True</td>\n",
              "      <td>1</td>\n",
              "    </tr>\n",
              "    <tr>\n",
              "      <th>19</th>\n",
              "      <td>weekday_monday</td>\n",
              "      <td>True</td>\n",
              "      <td>1</td>\n",
              "    </tr>\n",
              "    <tr>\n",
              "      <th>18</th>\n",
              "      <td>weathersit_3</td>\n",
              "      <td>True</td>\n",
              "      <td>1</td>\n",
              "    </tr>\n",
              "    <tr>\n",
              "      <th>26</th>\n",
              "      <td>season_Fall</td>\n",
              "      <td>True</td>\n",
              "      <td>1</td>\n",
              "    </tr>\n",
              "    <tr>\n",
              "      <th>13</th>\n",
              "      <td>mnth_September</td>\n",
              "      <td>True</td>\n",
              "      <td>1</td>\n",
              "    </tr>\n",
              "    <tr>\n",
              "      <th>27</th>\n",
              "      <td>season_Winter</td>\n",
              "      <td>True</td>\n",
              "      <td>1</td>\n",
              "    </tr>\n",
              "    <tr>\n",
              "      <th>2</th>\n",
              "      <td>workingday</td>\n",
              "      <td>True</td>\n",
              "      <td>1</td>\n",
              "    </tr>\n",
              "    <tr>\n",
              "      <th>3</th>\n",
              "      <td>temp</td>\n",
              "      <td>True</td>\n",
              "      <td>1</td>\n",
              "    </tr>\n",
              "    <tr>\n",
              "      <th>4</th>\n",
              "      <td>hum</td>\n",
              "      <td>True</td>\n",
              "      <td>1</td>\n",
              "    </tr>\n",
              "    <tr>\n",
              "      <th>5</th>\n",
              "      <td>windspeed</td>\n",
              "      <td>True</td>\n",
              "      <td>1</td>\n",
              "    </tr>\n",
              "    <tr>\n",
              "      <th>17</th>\n",
              "      <td>weathersit_2</td>\n",
              "      <td>False</td>\n",
              "      <td>2</td>\n",
              "    </tr>\n",
              "    <tr>\n",
              "      <th>12</th>\n",
              "      <td>mnth_August</td>\n",
              "      <td>False</td>\n",
              "      <td>3</td>\n",
              "    </tr>\n",
              "    <tr>\n",
              "      <th>14</th>\n",
              "      <td>mnth_October</td>\n",
              "      <td>False</td>\n",
              "      <td>4</td>\n",
              "    </tr>\n",
              "    <tr>\n",
              "      <th>9</th>\n",
              "      <td>mnth_May</td>\n",
              "      <td>False</td>\n",
              "      <td>5</td>\n",
              "    </tr>\n",
              "    <tr>\n",
              "      <th>10</th>\n",
              "      <td>mnth_June</td>\n",
              "      <td>False</td>\n",
              "      <td>6</td>\n",
              "    </tr>\n",
              "    <tr>\n",
              "      <th>8</th>\n",
              "      <td>mnth_April</td>\n",
              "      <td>False</td>\n",
              "      <td>7</td>\n",
              "    </tr>\n",
              "    <tr>\n",
              "      <th>7</th>\n",
              "      <td>mnth_March</td>\n",
              "      <td>False</td>\n",
              "      <td>8</td>\n",
              "    </tr>\n",
              "    <tr>\n",
              "      <th>6</th>\n",
              "      <td>mnth_February</td>\n",
              "      <td>False</td>\n",
              "      <td>9</td>\n",
              "    </tr>\n",
              "    <tr>\n",
              "      <th>16</th>\n",
              "      <td>mnth_December</td>\n",
              "      <td>False</td>\n",
              "      <td>10</td>\n",
              "    </tr>\n",
              "    <tr>\n",
              "      <th>15</th>\n",
              "      <td>mnth_November</td>\n",
              "      <td>False</td>\n",
              "      <td>11</td>\n",
              "    </tr>\n",
              "    <tr>\n",
              "      <th>11</th>\n",
              "      <td>mnth_July</td>\n",
              "      <td>False</td>\n",
              "      <td>12</td>\n",
              "    </tr>\n",
              "    <tr>\n",
              "      <th>1</th>\n",
              "      <td>holiday</td>\n",
              "      <td>False</td>\n",
              "      <td>13</td>\n",
              "    </tr>\n",
              "    <tr>\n",
              "      <th>24</th>\n",
              "      <td>weekday_saturday</td>\n",
              "      <td>False</td>\n",
              "      <td>14</td>\n",
              "    </tr>\n",
              "  </tbody>\n",
              "</table>\n",
              "</div>"
            ],
            "text/plain": [
              "             Features  Feature Selected  Rank\n",
              "0                  yr              True     1\n",
              "25      season_Summer              True     1\n",
              "23     weekday_friday              True     1\n",
              "22   weekday_thursday              True     1\n",
              "21  weekday_wednesday              True     1\n",
              "20    weekday_tuesday              True     1\n",
              "19     weekday_monday              True     1\n",
              "18       weathersit_3              True     1\n",
              "26        season_Fall              True     1\n",
              "13     mnth_September              True     1\n",
              "27      season_Winter              True     1\n",
              "2          workingday              True     1\n",
              "3                temp              True     1\n",
              "4                 hum              True     1\n",
              "5           windspeed              True     1\n",
              "17       weathersit_2             False     2\n",
              "12        mnth_August             False     3\n",
              "14       mnth_October             False     4\n",
              "9            mnth_May             False     5\n",
              "10          mnth_June             False     6\n",
              "8          mnth_April             False     7\n",
              "7          mnth_March             False     8\n",
              "6       mnth_February             False     9\n",
              "16      mnth_December             False    10\n",
              "15      mnth_November             False    11\n",
              "11          mnth_July             False    12\n",
              "1             holiday             False    13\n",
              "24   weekday_saturday             False    14"
            ]
          },
          "metadata": {
            "tags": []
          },
          "execution_count": 49
        }
      ]
    },
    {
      "cell_type": "markdown",
      "metadata": {
        "id": "2jS7G7W0G-eB"
      },
      "source": [
        "'yr','season_Summer','weathersit_3','mnth_October','season_Fall','mnth_June','mnth_May','mnth_April','mnth_September','season_Winter','windspeed','holiday','hum','temp',mnth_March"
      ]
    },
    {
      "cell_type": "code",
      "metadata": {
        "id": "ih-zf7xEDk3v"
      },
      "source": [
        "#Reducing datset to include columns selected by RFE\n",
        "X_rfe=X_train[['yr','season_Summer','weathersit_3','mnth_October','season_Fall','mnth_June','mnth_May','mnth_April','mnth_September','season_Winter','windspeed','holiday','hum','temp','mnth_March']]"
      ],
      "execution_count": 50,
      "outputs": []
    },
    {
      "cell_type": "code",
      "metadata": {
        "colab": {
          "base_uri": "https://localhost:8080/"
        },
        "id": "_45ktwziH5XM",
        "outputId": "8fff4f85-3570-4796-feb7-edccf27ea4ba"
      },
      "source": [
        "X_rfe.shape"
      ],
      "execution_count": 51,
      "outputs": [
        {
          "output_type": "execute_result",
          "data": {
            "text/plain": [
              "(510, 15)"
            ]
          },
          "metadata": {
            "tags": []
          },
          "execution_count": 51
        }
      ]
    },
    {
      "cell_type": "markdown",
      "metadata": {
        "id": "12AZ6IEhIIBf"
      },
      "source": [
        "###Model Building\n"
      ]
    },
    {
      "cell_type": "markdown",
      "metadata": {
        "id": "vaWoVPSgIVOe"
      },
      "source": [
        "####Model 1"
      ]
    },
    {
      "cell_type": "code",
      "metadata": {
        "colab": {
          "base_uri": "https://localhost:8080/",
          "height": 707
        },
        "id": "6ruP4vZeIUlS",
        "outputId": "2b575c84-684c-44de-aa62-a2f4b3d08dd4"
      },
      "source": [
        "#We have to add constant explicitly in stats model\n",
        "X_rfe_cnst=sm.add_constant(X_rfe)\n",
        "lm1=sm.OLS(y_train,X_rfe_cnst).fit()\n",
        "# Checking the summary\n",
        "lm1.summary()"
      ],
      "execution_count": 52,
      "outputs": [
        {
          "output_type": "execute_result",
          "data": {
            "text/html": [
              "<table class=\"simpletable\">\n",
              "<caption>OLS Regression Results</caption>\n",
              "<tr>\n",
              "  <th>Dep. Variable:</th>           <td>cnt</td>       <th>  R-squared:         </th> <td>   0.821</td> \n",
              "</tr>\n",
              "<tr>\n",
              "  <th>Model:</th>                   <td>OLS</td>       <th>  Adj. R-squared:    </th> <td>   0.816</td> \n",
              "</tr>\n",
              "<tr>\n",
              "  <th>Method:</th>             <td>Least Squares</td>  <th>  F-statistic:       </th> <td>   151.4</td> \n",
              "</tr>\n",
              "<tr>\n",
              "  <th>Date:</th>             <td>Wed, 14 Jul 2021</td> <th>  Prob (F-statistic):</th> <td>1.04e-173</td>\n",
              "</tr>\n",
              "<tr>\n",
              "  <th>Time:</th>                 <td>16:56:23</td>     <th>  Log-Likelihood:    </th> <td>  483.28</td> \n",
              "</tr>\n",
              "<tr>\n",
              "  <th>No. Observations:</th>      <td>   510</td>      <th>  AIC:               </th> <td>  -934.6</td> \n",
              "</tr>\n",
              "<tr>\n",
              "  <th>Df Residuals:</th>          <td>   494</td>      <th>  BIC:               </th> <td>  -866.8</td> \n",
              "</tr>\n",
              "<tr>\n",
              "  <th>Df Model:</th>              <td>    15</td>      <th>                     </th>     <td> </td>    \n",
              "</tr>\n",
              "<tr>\n",
              "  <th>Covariance Type:</th>      <td>nonrobust</td>    <th>                     </th>     <td> </td>    \n",
              "</tr>\n",
              "</table>\n",
              "<table class=\"simpletable\">\n",
              "<tr>\n",
              "         <td></td>           <th>coef</th>     <th>std err</th>      <th>t</th>      <th>P>|t|</th>  <th>[0.025</th>    <th>0.975]</th>  \n",
              "</tr>\n",
              "<tr>\n",
              "  <th>const</th>          <td>    0.2419</td> <td>    0.021</td> <td>   11.764</td> <td> 0.000</td> <td>    0.201</td> <td>    0.282</td>\n",
              "</tr>\n",
              "<tr>\n",
              "  <th>yr</th>             <td>    0.2302</td> <td>    0.009</td> <td>   26.722</td> <td> 0.000</td> <td>    0.213</td> <td>    0.247</td>\n",
              "</tr>\n",
              "<tr>\n",
              "  <th>season_Summer</th>  <td>    0.0753</td> <td>    0.025</td> <td>    2.987</td> <td> 0.003</td> <td>    0.026</td> <td>    0.125</td>\n",
              "</tr>\n",
              "<tr>\n",
              "  <th>weathersit_3</th>   <td>   -0.1639</td> <td>    0.027</td> <td>   -6.091</td> <td> 0.000</td> <td>   -0.217</td> <td>   -0.111</td>\n",
              "</tr>\n",
              "<tr>\n",
              "  <th>mnth_October</th>   <td>    0.0410</td> <td>    0.020</td> <td>    2.097</td> <td> 0.036</td> <td>    0.003</td> <td>    0.079</td>\n",
              "</tr>\n",
              "<tr>\n",
              "  <th>season_Fall</th>    <td>    0.0884</td> <td>    0.023</td> <td>    3.897</td> <td> 0.000</td> <td>    0.044</td> <td>    0.133</td>\n",
              "</tr>\n",
              "<tr>\n",
              "  <th>mnth_June</th>      <td>    0.0527</td> <td>    0.025</td> <td>    2.096</td> <td> 0.037</td> <td>    0.003</td> <td>    0.102</td>\n",
              "</tr>\n",
              "<tr>\n",
              "  <th>mnth_May</th>       <td>    0.0833</td> <td>    0.029</td> <td>    2.855</td> <td> 0.004</td> <td>    0.026</td> <td>    0.141</td>\n",
              "</tr>\n",
              "<tr>\n",
              "  <th>mnth_April</th>     <td>    0.0562</td> <td>    0.029</td> <td>    1.956</td> <td> 0.051</td> <td>   -0.000</td> <td>    0.113</td>\n",
              "</tr>\n",
              "<tr>\n",
              "  <th>mnth_September</th> <td>    0.1095</td> <td>    0.016</td> <td>    6.702</td> <td> 0.000</td> <td>    0.077</td> <td>    0.142</td>\n",
              "</tr>\n",
              "<tr>\n",
              "  <th>season_Winter</th>  <td>    0.1545</td> <td>    0.015</td> <td>    9.987</td> <td> 0.000</td> <td>    0.124</td> <td>    0.185</td>\n",
              "</tr>\n",
              "<tr>\n",
              "  <th>windspeed</th>      <td>   -0.1696</td> <td>    0.024</td> <td>   -7.029</td> <td> 0.000</td> <td>   -0.217</td> <td>   -0.122</td>\n",
              "</tr>\n",
              "<tr>\n",
              "  <th>holiday</th>        <td>   -0.0845</td> <td>    0.028</td> <td>   -3.011</td> <td> 0.003</td> <td>   -0.140</td> <td>   -0.029</td>\n",
              "</tr>\n",
              "<tr>\n",
              "  <th>hum</th>            <td>   -0.2108</td> <td>    0.024</td> <td>   -8.797</td> <td> 0.000</td> <td>   -0.258</td> <td>   -0.164</td>\n",
              "</tr>\n",
              "<tr>\n",
              "  <th>temp</th>           <td>    0.4266</td> <td>    0.036</td> <td>   11.861</td> <td> 0.000</td> <td>    0.356</td> <td>    0.497</td>\n",
              "</tr>\n",
              "<tr>\n",
              "  <th>mnth_March</th>     <td>    0.0404</td> <td>    0.019</td> <td>    2.111</td> <td> 0.035</td> <td>    0.003</td> <td>    0.078</td>\n",
              "</tr>\n",
              "</table>\n",
              "<table class=\"simpletable\">\n",
              "<tr>\n",
              "  <th>Omnibus:</th>       <td>83.898</td> <th>  Durbin-Watson:     </th> <td>   2.090</td>\n",
              "</tr>\n",
              "<tr>\n",
              "  <th>Prob(Omnibus):</th> <td> 0.000</td> <th>  Jarque-Bera (JB):  </th> <td> 173.714</td>\n",
              "</tr>\n",
              "<tr>\n",
              "  <th>Skew:</th>          <td>-0.903</td> <th>  Prob(JB):          </th> <td>1.90e-38</td>\n",
              "</tr>\n",
              "<tr>\n",
              "  <th>Kurtosis:</th>      <td> 5.216</td> <th>  Cond. No.          </th> <td>    17.4</td>\n",
              "</tr>\n",
              "</table><br/><br/>Warnings:<br/>[1] Standard Errors assume that the covariance matrix of the errors is correctly specified."
            ],
            "text/plain": [
              "<class 'statsmodels.iolib.summary.Summary'>\n",
              "\"\"\"\n",
              "                            OLS Regression Results                            \n",
              "==============================================================================\n",
              "Dep. Variable:                    cnt   R-squared:                       0.821\n",
              "Model:                            OLS   Adj. R-squared:                  0.816\n",
              "Method:                 Least Squares   F-statistic:                     151.4\n",
              "Date:                Wed, 14 Jul 2021   Prob (F-statistic):          1.04e-173\n",
              "Time:                        16:56:23   Log-Likelihood:                 483.28\n",
              "No. Observations:                 510   AIC:                            -934.6\n",
              "Df Residuals:                     494   BIC:                            -866.8\n",
              "Df Model:                          15                                         \n",
              "Covariance Type:            nonrobust                                         \n",
              "==================================================================================\n",
              "                     coef    std err          t      P>|t|      [0.025      0.975]\n",
              "----------------------------------------------------------------------------------\n",
              "const              0.2419      0.021     11.764      0.000       0.201       0.282\n",
              "yr                 0.2302      0.009     26.722      0.000       0.213       0.247\n",
              "season_Summer      0.0753      0.025      2.987      0.003       0.026       0.125\n",
              "weathersit_3      -0.1639      0.027     -6.091      0.000      -0.217      -0.111\n",
              "mnth_October       0.0410      0.020      2.097      0.036       0.003       0.079\n",
              "season_Fall        0.0884      0.023      3.897      0.000       0.044       0.133\n",
              "mnth_June          0.0527      0.025      2.096      0.037       0.003       0.102\n",
              "mnth_May           0.0833      0.029      2.855      0.004       0.026       0.141\n",
              "mnth_April         0.0562      0.029      1.956      0.051      -0.000       0.113\n",
              "mnth_September     0.1095      0.016      6.702      0.000       0.077       0.142\n",
              "season_Winter      0.1545      0.015      9.987      0.000       0.124       0.185\n",
              "windspeed         -0.1696      0.024     -7.029      0.000      -0.217      -0.122\n",
              "holiday           -0.0845      0.028     -3.011      0.003      -0.140      -0.029\n",
              "hum               -0.2108      0.024     -8.797      0.000      -0.258      -0.164\n",
              "temp               0.4266      0.036     11.861      0.000       0.356       0.497\n",
              "mnth_March         0.0404      0.019      2.111      0.035       0.003       0.078\n",
              "==============================================================================\n",
              "Omnibus:                       83.898   Durbin-Watson:                   2.090\n",
              "Prob(Omnibus):                  0.000   Jarque-Bera (JB):              173.714\n",
              "Skew:                          -0.903   Prob(JB):                     1.90e-38\n",
              "Kurtosis:                       5.216   Cond. No.                         17.4\n",
              "==============================================================================\n",
              "\n",
              "Warnings:\n",
              "[1] Standard Errors assume that the covariance matrix of the errors is correctly specified.\n",
              "\"\"\""
            ]
          },
          "metadata": {
            "tags": []
          },
          "execution_count": 52
        }
      ]
    },
    {
      "cell_type": "code",
      "metadata": {
        "colab": {
          "base_uri": "https://localhost:8080/",
          "height": 504
        },
        "id": "cimmcdcyJG8y",
        "outputId": "a678c4e3-e2d0-46e3-f13a-a89eee239dd0"
      },
      "source": [
        "#VIF Calculation lm1\n",
        "vifdf=pd.DataFrame()\n",
        "vifdf['features']=X_rfe.columns\n",
        "vifdf['vif']=[variance_inflation_factor(X_rfe.values,i) for i in range(X_rfe.shape[1])]\n",
        "vifdf['vif']=round(vifdf['vif'])\n",
        "vifdf.sort_values(by='vif',ascending=False)"
      ],
      "execution_count": 53,
      "outputs": [
        {
          "output_type": "execute_result",
          "data": {
            "text/html": [
              "<div>\n",
              "<style scoped>\n",
              "    .dataframe tbody tr th:only-of-type {\n",
              "        vertical-align: middle;\n",
              "    }\n",
              "\n",
              "    .dataframe tbody tr th {\n",
              "        vertical-align: top;\n",
              "    }\n",
              "\n",
              "    .dataframe thead th {\n",
              "        text-align: right;\n",
              "    }\n",
              "</style>\n",
              "<table border=\"1\" class=\"dataframe\">\n",
              "  <thead>\n",
              "    <tr style=\"text-align: right;\">\n",
              "      <th></th>\n",
              "      <th>features</th>\n",
              "      <th>vif</th>\n",
              "    </tr>\n",
              "  </thead>\n",
              "  <tbody>\n",
              "    <tr>\n",
              "      <th>13</th>\n",
              "      <td>temp</td>\n",
              "      <td>21.0</td>\n",
              "    </tr>\n",
              "    <tr>\n",
              "      <th>1</th>\n",
              "      <td>season_Summer</td>\n",
              "      <td>9.0</td>\n",
              "    </tr>\n",
              "    <tr>\n",
              "      <th>4</th>\n",
              "      <td>season_Fall</td>\n",
              "      <td>8.0</td>\n",
              "    </tr>\n",
              "    <tr>\n",
              "      <th>12</th>\n",
              "      <td>hum</td>\n",
              "      <td>7.0</td>\n",
              "    </tr>\n",
              "    <tr>\n",
              "      <th>6</th>\n",
              "      <td>mnth_May</td>\n",
              "      <td>4.0</td>\n",
              "    </tr>\n",
              "    <tr>\n",
              "      <th>7</th>\n",
              "      <td>mnth_April</td>\n",
              "      <td>4.0</td>\n",
              "    </tr>\n",
              "    <tr>\n",
              "      <th>10</th>\n",
              "      <td>windspeed</td>\n",
              "      <td>4.0</td>\n",
              "    </tr>\n",
              "    <tr>\n",
              "      <th>5</th>\n",
              "      <td>mnth_June</td>\n",
              "      <td>3.0</td>\n",
              "    </tr>\n",
              "    <tr>\n",
              "      <th>9</th>\n",
              "      <td>season_Winter</td>\n",
              "      <td>3.0</td>\n",
              "    </tr>\n",
              "    <tr>\n",
              "      <th>0</th>\n",
              "      <td>yr</td>\n",
              "      <td>2.0</td>\n",
              "    </tr>\n",
              "    <tr>\n",
              "      <th>3</th>\n",
              "      <td>mnth_October</td>\n",
              "      <td>2.0</td>\n",
              "    </tr>\n",
              "    <tr>\n",
              "      <th>14</th>\n",
              "      <td>mnth_March</td>\n",
              "      <td>2.0</td>\n",
              "    </tr>\n",
              "    <tr>\n",
              "      <th>2</th>\n",
              "      <td>weathersit_3</td>\n",
              "      <td>1.0</td>\n",
              "    </tr>\n",
              "    <tr>\n",
              "      <th>8</th>\n",
              "      <td>mnth_September</td>\n",
              "      <td>1.0</td>\n",
              "    </tr>\n",
              "    <tr>\n",
              "      <th>11</th>\n",
              "      <td>holiday</td>\n",
              "      <td>1.0</td>\n",
              "    </tr>\n",
              "  </tbody>\n",
              "</table>\n",
              "</div>"
            ],
            "text/plain": [
              "          features   vif\n",
              "13            temp  21.0\n",
              "1    season_Summer   9.0\n",
              "4      season_Fall   8.0\n",
              "12             hum   7.0\n",
              "6         mnth_May   4.0\n",
              "7       mnth_April   4.0\n",
              "10       windspeed   4.0\n",
              "5        mnth_June   3.0\n",
              "9    season_Winter   3.0\n",
              "0               yr   2.0\n",
              "3     mnth_October   2.0\n",
              "14      mnth_March   2.0\n",
              "2     weathersit_3   1.0\n",
              "8   mnth_September   1.0\n",
              "11         holiday   1.0"
            ]
          },
          "metadata": {
            "tags": []
          },
          "execution_count": 53
        }
      ]
    },
    {
      "cell_type": "markdown",
      "metadata": {
        "id": "mN-KA2p6JkFN"
      },
      "source": [
        "Inferences from Model 1\n",
        "\n",
        "*   VIF value of temp is 21 which is >5 and thus needs to be dropped.\n",
        "\n"
      ]
    },
    {
      "cell_type": "code",
      "metadata": {
        "id": "ZRJPRM9GJzG1"
      },
      "source": [
        "#drop temp from the dataframe\n",
        "X_rfe.drop('temp',axis=1,inplace=True)"
      ],
      "execution_count": 54,
      "outputs": []
    },
    {
      "cell_type": "code",
      "metadata": {
        "colab": {
          "base_uri": "https://localhost:8080/"
        },
        "id": "caLLUQBbLIPe",
        "outputId": "6e0bcd3f-d3b9-4a76-cac4-ac0f8d410600"
      },
      "source": [
        "X_rfe.columns"
      ],
      "execution_count": 55,
      "outputs": [
        {
          "output_type": "execute_result",
          "data": {
            "text/plain": [
              "Index(['yr', 'season_Summer', 'weathersit_3', 'mnth_October', 'season_Fall',\n",
              "       'mnth_June', 'mnth_May', 'mnth_April', 'mnth_September',\n",
              "       'season_Winter', 'windspeed', 'holiday', 'hum', 'mnth_March'],\n",
              "      dtype='object')"
            ]
          },
          "metadata": {
            "tags": []
          },
          "execution_count": 55
        }
      ]
    },
    {
      "cell_type": "markdown",
      "metadata": {
        "id": "afcLJh-kKBg3"
      },
      "source": [
        "####Model 2"
      ]
    },
    {
      "cell_type": "code",
      "metadata": {
        "colab": {
          "base_uri": "https://localhost:8080/",
          "height": 687
        },
        "id": "kNEngxWaKEI5",
        "outputId": "0ddc0b09-cb35-4176-a195-66f8dac93891"
      },
      "source": [
        "#Building model 2\n",
        "X_rfe_cnst=sm.add_constant(X_rfe)\n",
        "lm2=sm.OLS(y_train,X_rfe_cnst).fit()\n",
        "lm2.summary()"
      ],
      "execution_count": 56,
      "outputs": [
        {
          "output_type": "execute_result",
          "data": {
            "text/html": [
              "<table class=\"simpletable\">\n",
              "<caption>OLS Regression Results</caption>\n",
              "<tr>\n",
              "  <th>Dep. Variable:</th>           <td>cnt</td>       <th>  R-squared:         </th> <td>   0.770</td> \n",
              "</tr>\n",
              "<tr>\n",
              "  <th>Model:</th>                   <td>OLS</td>       <th>  Adj. R-squared:    </th> <td>   0.764</td> \n",
              "</tr>\n",
              "<tr>\n",
              "  <th>Method:</th>             <td>Least Squares</td>  <th>  F-statistic:       </th> <td>   118.7</td> \n",
              "</tr>\n",
              "<tr>\n",
              "  <th>Date:</th>             <td>Wed, 14 Jul 2021</td> <th>  Prob (F-statistic):</th> <td>4.71e-148</td>\n",
              "</tr>\n",
              "<tr>\n",
              "  <th>Time:</th>                 <td>16:56:23</td>     <th>  Log-Likelihood:    </th> <td>  419.38</td> \n",
              "</tr>\n",
              "<tr>\n",
              "  <th>No. Observations:</th>      <td>   510</td>      <th>  AIC:               </th> <td>  -808.8</td> \n",
              "</tr>\n",
              "<tr>\n",
              "  <th>Df Residuals:</th>          <td>   495</td>      <th>  BIC:               </th> <td>  -745.3</td> \n",
              "</tr>\n",
              "<tr>\n",
              "  <th>Df Model:</th>              <td>    14</td>      <th>                     </th>     <td> </td>    \n",
              "</tr>\n",
              "<tr>\n",
              "  <th>Covariance Type:</th>      <td>nonrobust</td>    <th>                     </th>     <td> </td>    \n",
              "</tr>\n",
              "</table>\n",
              "<table class=\"simpletable\">\n",
              "<tr>\n",
              "         <td></td>           <th>coef</th>     <th>std err</th>      <th>t</th>      <th>P>|t|</th>  <th>[0.025</th>    <th>0.975]</th>  \n",
              "</tr>\n",
              "<tr>\n",
              "  <th>const</th>          <td>    0.3303</td> <td>    0.022</td> <td>   15.227</td> <td> 0.000</td> <td>    0.288</td> <td>    0.373</td>\n",
              "</tr>\n",
              "<tr>\n",
              "  <th>yr</th>             <td>    0.2432</td> <td>    0.010</td> <td>   25.126</td> <td> 0.000</td> <td>    0.224</td> <td>    0.262</td>\n",
              "</tr>\n",
              "<tr>\n",
              "  <th>season_Summer</th>  <td>    0.1509</td> <td>    0.028</td> <td>    5.468</td> <td> 0.000</td> <td>    0.097</td> <td>    0.205</td>\n",
              "</tr>\n",
              "<tr>\n",
              "  <th>weathersit_3</th>   <td>   -0.1878</td> <td>    0.030</td> <td>   -6.180</td> <td> 0.000</td> <td>   -0.247</td> <td>   -0.128</td>\n",
              "</tr>\n",
              "<tr>\n",
              "  <th>mnth_October</th>   <td>    0.0957</td> <td>    0.021</td> <td>    4.453</td> <td> 0.000</td> <td>    0.053</td> <td>    0.138</td>\n",
              "</tr>\n",
              "<tr>\n",
              "  <th>season_Fall</th>    <td>    0.3073</td> <td>    0.015</td> <td>   20.612</td> <td> 0.000</td> <td>    0.278</td> <td>    0.337</td>\n",
              "</tr>\n",
              "<tr>\n",
              "  <th>mnth_June</th>      <td>    0.1492</td> <td>    0.027</td> <td>    5.538</td> <td> 0.000</td> <td>    0.096</td> <td>    0.202</td>\n",
              "</tr>\n",
              "<tr>\n",
              "  <th>mnth_May</th>       <td>    0.1653</td> <td>    0.032</td> <td>    5.154</td> <td> 0.000</td> <td>    0.102</td> <td>    0.228</td>\n",
              "</tr>\n",
              "<tr>\n",
              "  <th>mnth_April</th>     <td>    0.0781</td> <td>    0.032</td> <td>    2.406</td> <td> 0.016</td> <td>    0.014</td> <td>    0.142</td>\n",
              "</tr>\n",
              "<tr>\n",
              "  <th>mnth_September</th> <td>    0.1061</td> <td>    0.019</td> <td>    5.733</td> <td> 0.000</td> <td>    0.070</td> <td>    0.142</td>\n",
              "</tr>\n",
              "<tr>\n",
              "  <th>season_Winter</th>  <td>    0.2073</td> <td>    0.017</td> <td>   12.357</td> <td> 0.000</td> <td>    0.174</td> <td>    0.240</td>\n",
              "</tr>\n",
              "<tr>\n",
              "  <th>windspeed</th>      <td>   -0.1799</td> <td>    0.027</td> <td>   -6.589</td> <td> 0.000</td> <td>   -0.234</td> <td>   -0.126</td>\n",
              "</tr>\n",
              "<tr>\n",
              "  <th>holiday</th>        <td>   -0.0721</td> <td>    0.032</td> <td>   -2.270</td> <td> 0.024</td> <td>   -0.134</td> <td>   -0.010</td>\n",
              "</tr>\n",
              "<tr>\n",
              "  <th>hum</th>            <td>   -0.1664</td> <td>    0.027</td> <td>   -6.210</td> <td> 0.000</td> <td>   -0.219</td> <td>   -0.114</td>\n",
              "</tr>\n",
              "<tr>\n",
              "  <th>mnth_March</th>     <td>    0.0552</td> <td>    0.022</td> <td>    2.553</td> <td> 0.011</td> <td>    0.013</td> <td>    0.098</td>\n",
              "</tr>\n",
              "</table>\n",
              "<table class=\"simpletable\">\n",
              "<tr>\n",
              "  <th>Omnibus:</th>       <td>67.405</td> <th>  Durbin-Watson:     </th> <td>   2.008</td>\n",
              "</tr>\n",
              "<tr>\n",
              "  <th>Prob(Omnibus):</th> <td> 0.000</td> <th>  Jarque-Bera (JB):  </th> <td> 150.053</td>\n",
              "</tr>\n",
              "<tr>\n",
              "  <th>Skew:</th>          <td>-0.716</td> <th>  Prob(JB):          </th> <td>2.61e-33</td>\n",
              "</tr>\n",
              "<tr>\n",
              "  <th>Kurtosis:</th>      <td> 5.238</td> <th>  Cond. No.          </th> <td>    15.8</td>\n",
              "</tr>\n",
              "</table><br/><br/>Warnings:<br/>[1] Standard Errors assume that the covariance matrix of the errors is correctly specified."
            ],
            "text/plain": [
              "<class 'statsmodels.iolib.summary.Summary'>\n",
              "\"\"\"\n",
              "                            OLS Regression Results                            \n",
              "==============================================================================\n",
              "Dep. Variable:                    cnt   R-squared:                       0.770\n",
              "Model:                            OLS   Adj. R-squared:                  0.764\n",
              "Method:                 Least Squares   F-statistic:                     118.7\n",
              "Date:                Wed, 14 Jul 2021   Prob (F-statistic):          4.71e-148\n",
              "Time:                        16:56:23   Log-Likelihood:                 419.38\n",
              "No. Observations:                 510   AIC:                            -808.8\n",
              "Df Residuals:                     495   BIC:                            -745.3\n",
              "Df Model:                          14                                         \n",
              "Covariance Type:            nonrobust                                         \n",
              "==================================================================================\n",
              "                     coef    std err          t      P>|t|      [0.025      0.975]\n",
              "----------------------------------------------------------------------------------\n",
              "const              0.3303      0.022     15.227      0.000       0.288       0.373\n",
              "yr                 0.2432      0.010     25.126      0.000       0.224       0.262\n",
              "season_Summer      0.1509      0.028      5.468      0.000       0.097       0.205\n",
              "weathersit_3      -0.1878      0.030     -6.180      0.000      -0.247      -0.128\n",
              "mnth_October       0.0957      0.021      4.453      0.000       0.053       0.138\n",
              "season_Fall        0.3073      0.015     20.612      0.000       0.278       0.337\n",
              "mnth_June          0.1492      0.027      5.538      0.000       0.096       0.202\n",
              "mnth_May           0.1653      0.032      5.154      0.000       0.102       0.228\n",
              "mnth_April         0.0781      0.032      2.406      0.016       0.014       0.142\n",
              "mnth_September     0.1061      0.019      5.733      0.000       0.070       0.142\n",
              "season_Winter      0.2073      0.017     12.357      0.000       0.174       0.240\n",
              "windspeed         -0.1799      0.027     -6.589      0.000      -0.234      -0.126\n",
              "holiday           -0.0721      0.032     -2.270      0.024      -0.134      -0.010\n",
              "hum               -0.1664      0.027     -6.210      0.000      -0.219      -0.114\n",
              "mnth_March         0.0552      0.022      2.553      0.011       0.013       0.098\n",
              "==============================================================================\n",
              "Omnibus:                       67.405   Durbin-Watson:                   2.008\n",
              "Prob(Omnibus):                  0.000   Jarque-Bera (JB):              150.053\n",
              "Skew:                          -0.716   Prob(JB):                     2.61e-33\n",
              "Kurtosis:                       5.238   Cond. No.                         15.8\n",
              "==============================================================================\n",
              "\n",
              "Warnings:\n",
              "[1] Standard Errors assume that the covariance matrix of the errors is correctly specified.\n",
              "\"\"\""
            ]
          },
          "metadata": {
            "tags": []
          },
          "execution_count": 56
        }
      ]
    },
    {
      "cell_type": "code",
      "metadata": {
        "colab": {
          "base_uri": "https://localhost:8080/",
          "height": 473
        },
        "id": "Zj8KrC7hK4Pl",
        "outputId": "2091d140-5c83-4511-d02a-5ebd8951bdf8"
      },
      "source": [
        "#VIF Calculation lm2\n",
        "vifdf=pd.DataFrame()\n",
        "vifdf['features']=X_rfe.columns\n",
        "vifdf['vif']=[variance_inflation_factor(X_rfe.values,i) for i in range(X_rfe.shape[1])]\n",
        "vifdf['vif']=round(vifdf['vif'])\n",
        "vifdf.sort_values(by='vif',ascending=False)"
      ],
      "execution_count": 57,
      "outputs": [
        {
          "output_type": "execute_result",
          "data": {
            "text/html": [
              "<div>\n",
              "<style scoped>\n",
              "    .dataframe tbody tr th:only-of-type {\n",
              "        vertical-align: middle;\n",
              "    }\n",
              "\n",
              "    .dataframe tbody tr th {\n",
              "        vertical-align: top;\n",
              "    }\n",
              "\n",
              "    .dataframe thead th {\n",
              "        text-align: right;\n",
              "    }\n",
              "</style>\n",
              "<table border=\"1\" class=\"dataframe\">\n",
              "  <thead>\n",
              "    <tr style=\"text-align: right;\">\n",
              "      <th></th>\n",
              "      <th>features</th>\n",
              "      <th>vif</th>\n",
              "    </tr>\n",
              "  </thead>\n",
              "  <tbody>\n",
              "    <tr>\n",
              "      <th>1</th>\n",
              "      <td>season_Summer</td>\n",
              "      <td>8.0</td>\n",
              "    </tr>\n",
              "    <tr>\n",
              "      <th>12</th>\n",
              "      <td>hum</td>\n",
              "      <td>5.0</td>\n",
              "    </tr>\n",
              "    <tr>\n",
              "      <th>6</th>\n",
              "      <td>mnth_May</td>\n",
              "      <td>4.0</td>\n",
              "    </tr>\n",
              "    <tr>\n",
              "      <th>7</th>\n",
              "      <td>mnth_April</td>\n",
              "      <td>4.0</td>\n",
              "    </tr>\n",
              "    <tr>\n",
              "      <th>5</th>\n",
              "      <td>mnth_June</td>\n",
              "      <td>3.0</td>\n",
              "    </tr>\n",
              "    <tr>\n",
              "      <th>9</th>\n",
              "      <td>season_Winter</td>\n",
              "      <td>3.0</td>\n",
              "    </tr>\n",
              "    <tr>\n",
              "      <th>10</th>\n",
              "      <td>windspeed</td>\n",
              "      <td>3.0</td>\n",
              "    </tr>\n",
              "    <tr>\n",
              "      <th>0</th>\n",
              "      <td>yr</td>\n",
              "      <td>2.0</td>\n",
              "    </tr>\n",
              "    <tr>\n",
              "      <th>3</th>\n",
              "      <td>mnth_October</td>\n",
              "      <td>2.0</td>\n",
              "    </tr>\n",
              "    <tr>\n",
              "      <th>4</th>\n",
              "      <td>season_Fall</td>\n",
              "      <td>2.0</td>\n",
              "    </tr>\n",
              "    <tr>\n",
              "      <th>13</th>\n",
              "      <td>mnth_March</td>\n",
              "      <td>2.0</td>\n",
              "    </tr>\n",
              "    <tr>\n",
              "      <th>2</th>\n",
              "      <td>weathersit_3</td>\n",
              "      <td>1.0</td>\n",
              "    </tr>\n",
              "    <tr>\n",
              "      <th>8</th>\n",
              "      <td>mnth_September</td>\n",
              "      <td>1.0</td>\n",
              "    </tr>\n",
              "    <tr>\n",
              "      <th>11</th>\n",
              "      <td>holiday</td>\n",
              "      <td>1.0</td>\n",
              "    </tr>\n",
              "  </tbody>\n",
              "</table>\n",
              "</div>"
            ],
            "text/plain": [
              "          features  vif\n",
              "1    season_Summer  8.0\n",
              "12             hum  5.0\n",
              "6         mnth_May  4.0\n",
              "7       mnth_April  4.0\n",
              "5        mnth_June  3.0\n",
              "9    season_Winter  3.0\n",
              "10       windspeed  3.0\n",
              "0               yr  2.0\n",
              "3     mnth_October  2.0\n",
              "4      season_Fall  2.0\n",
              "13      mnth_March  2.0\n",
              "2     weathersit_3  1.0\n",
              "8   mnth_September  1.0\n",
              "11         holiday  1.0"
            ]
          },
          "metadata": {
            "tags": []
          },
          "execution_count": 57
        }
      ]
    },
    {
      "cell_type": "markdown",
      "metadata": {
        "id": "HfapPXFNLbRU"
      },
      "source": [
        "Inferences from Model 2\n",
        "\n",
        "\n",
        "*  season_Summer has the highest VIF value 8.0(>5) hence it can dropped.\n",
        "\n"
      ]
    },
    {
      "cell_type": "code",
      "metadata": {
        "colab": {
          "base_uri": "https://localhost:8080/"
        },
        "id": "ktOxg7YFLsRn",
        "outputId": "1b708261-fa51-417f-a383-5d2a694c6752"
      },
      "source": [
        "#drop season_Summer \n",
        "X_rfe.drop('season_Summer',axis=1,inplace=True)\n",
        "X_rfe.columns"
      ],
      "execution_count": 58,
      "outputs": [
        {
          "output_type": "execute_result",
          "data": {
            "text/plain": [
              "Index(['yr', 'weathersit_3', 'mnth_October', 'season_Fall', 'mnth_June',\n",
              "       'mnth_May', 'mnth_April', 'mnth_September', 'season_Winter',\n",
              "       'windspeed', 'holiday', 'hum', 'mnth_March'],\n",
              "      dtype='object')"
            ]
          },
          "metadata": {
            "tags": []
          },
          "execution_count": 58
        }
      ]
    },
    {
      "cell_type": "markdown",
      "metadata": {
        "id": "cM98bLiFL9OT"
      },
      "source": [
        "####Model 3"
      ]
    },
    {
      "cell_type": "code",
      "metadata": {
        "colab": {
          "base_uri": "https://localhost:8080/",
          "height": 667
        },
        "id": "_RVc0SMxMBfW",
        "outputId": "7ce8e8c5-2531-4a41-a400-3a69f71c7f35"
      },
      "source": [
        "#Building Model 3\n",
        "X_rfe_cnst=sm.add_constant(X_rfe)\n",
        "lm3=sm.OLS(y_train,X_rfe_cnst).fit()\n",
        "lm3.summary()"
      ],
      "execution_count": 59,
      "outputs": [
        {
          "output_type": "execute_result",
          "data": {
            "text/html": [
              "<table class=\"simpletable\">\n",
              "<caption>OLS Regression Results</caption>\n",
              "<tr>\n",
              "  <th>Dep. Variable:</th>           <td>cnt</td>       <th>  R-squared:         </th> <td>   0.757</td> \n",
              "</tr>\n",
              "<tr>\n",
              "  <th>Model:</th>                   <td>OLS</td>       <th>  Adj. R-squared:    </th> <td>   0.750</td> \n",
              "</tr>\n",
              "<tr>\n",
              "  <th>Method:</th>             <td>Least Squares</td>  <th>  F-statistic:       </th> <td>   118.6</td> \n",
              "</tr>\n",
              "<tr>\n",
              "  <th>Date:</th>             <td>Wed, 14 Jul 2021</td> <th>  Prob (F-statistic):</th> <td>7.66e-143</td>\n",
              "</tr>\n",
              "<tr>\n",
              "  <th>Time:</th>                 <td>16:56:23</td>     <th>  Log-Likelihood:    </th> <td>  404.43</td> \n",
              "</tr>\n",
              "<tr>\n",
              "  <th>No. Observations:</th>      <td>   510</td>      <th>  AIC:               </th> <td>  -780.9</td> \n",
              "</tr>\n",
              "<tr>\n",
              "  <th>Df Residuals:</th>          <td>   496</td>      <th>  BIC:               </th> <td>  -721.6</td> \n",
              "</tr>\n",
              "<tr>\n",
              "  <th>Df Model:</th>              <td>    13</td>      <th>                     </th>     <td> </td>    \n",
              "</tr>\n",
              "<tr>\n",
              "  <th>Covariance Type:</th>      <td>nonrobust</td>    <th>                     </th>     <td> </td>    \n",
              "</tr>\n",
              "</table>\n",
              "<table class=\"simpletable\">\n",
              "<tr>\n",
              "         <td></td>           <th>coef</th>     <th>std err</th>      <th>t</th>      <th>P>|t|</th>  <th>[0.025</th>    <th>0.975]</th>  \n",
              "</tr>\n",
              "<tr>\n",
              "  <th>const</th>          <td>    0.3417</td> <td>    0.022</td> <td>   15.384</td> <td> 0.000</td> <td>    0.298</td> <td>    0.385</td>\n",
              "</tr>\n",
              "<tr>\n",
              "  <th>yr</th>             <td>    0.2417</td> <td>    0.010</td> <td>   24.285</td> <td> 0.000</td> <td>    0.222</td> <td>    0.261</td>\n",
              "</tr>\n",
              "<tr>\n",
              "  <th>weathersit_3</th>   <td>   -0.1869</td> <td>    0.031</td> <td>   -5.981</td> <td> 0.000</td> <td>   -0.248</td> <td>   -0.125</td>\n",
              "</tr>\n",
              "<tr>\n",
              "  <th>mnth_October</th>   <td>    0.0959</td> <td>    0.022</td> <td>    4.339</td> <td> 0.000</td> <td>    0.052</td> <td>    0.139</td>\n",
              "</tr>\n",
              "<tr>\n",
              "  <th>season_Fall</th>    <td>    0.2848</td> <td>    0.015</td> <td>   19.320</td> <td> 0.000</td> <td>    0.256</td> <td>    0.314</td>\n",
              "</tr>\n",
              "<tr>\n",
              "  <th>mnth_June</th>      <td>    0.2539</td> <td>    0.019</td> <td>   13.044</td> <td> 0.000</td> <td>    0.216</td> <td>    0.292</td>\n",
              "</tr>\n",
              "<tr>\n",
              "  <th>mnth_May</th>       <td>    0.3026</td> <td>    0.021</td> <td>   14.733</td> <td> 0.000</td> <td>    0.262</td> <td>    0.343</td>\n",
              "</tr>\n",
              "<tr>\n",
              "  <th>mnth_April</th>     <td>    0.2188</td> <td>    0.020</td> <td>   10.737</td> <td> 0.000</td> <td>    0.179</td> <td>    0.259</td>\n",
              "</tr>\n",
              "<tr>\n",
              "  <th>mnth_September</th> <td>    0.1119</td> <td>    0.019</td> <td>    5.889</td> <td> 0.000</td> <td>    0.075</td> <td>    0.149</td>\n",
              "</tr>\n",
              "<tr>\n",
              "  <th>season_Winter</th>  <td>    0.1928</td> <td>    0.017</td> <td>   11.316</td> <td> 0.000</td> <td>    0.159</td> <td>    0.226</td>\n",
              "</tr>\n",
              "<tr>\n",
              "  <th>windspeed</th>      <td>   -0.1925</td> <td>    0.028</td> <td>   -6.878</td> <td> 0.000</td> <td>   -0.247</td> <td>   -0.137</td>\n",
              "</tr>\n",
              "<tr>\n",
              "  <th>holiday</th>        <td>   -0.0737</td> <td>    0.033</td> <td>   -2.256</td> <td> 0.024</td> <td>   -0.138</td> <td>   -0.010</td>\n",
              "</tr>\n",
              "<tr>\n",
              "  <th>hum</th>            <td>   -0.1540</td> <td>    0.027</td> <td>   -5.606</td> <td> 0.000</td> <td>   -0.208</td> <td>   -0.100</td>\n",
              "</tr>\n",
              "<tr>\n",
              "  <th>mnth_March</th>     <td>    0.0953</td> <td>    0.021</td> <td>    4.551</td> <td> 0.000</td> <td>    0.054</td> <td>    0.136</td>\n",
              "</tr>\n",
              "</table>\n",
              "<table class=\"simpletable\">\n",
              "<tr>\n",
              "  <th>Omnibus:</th>       <td>60.398</td> <th>  Durbin-Watson:     </th> <td>   2.046</td>\n",
              "</tr>\n",
              "<tr>\n",
              "  <th>Prob(Omnibus):</th> <td> 0.000</td> <th>  Jarque-Bera (JB):  </th> <td> 107.767</td>\n",
              "</tr>\n",
              "<tr>\n",
              "  <th>Skew:</th>          <td>-0.724</td> <th>  Prob(JB):          </th> <td>3.97e-24</td>\n",
              "</tr>\n",
              "<tr>\n",
              "  <th>Kurtosis:</th>      <td> 4.724</td> <th>  Cond. No.          </th> <td>    11.0</td>\n",
              "</tr>\n",
              "</table><br/><br/>Warnings:<br/>[1] Standard Errors assume that the covariance matrix of the errors is correctly specified."
            ],
            "text/plain": [
              "<class 'statsmodels.iolib.summary.Summary'>\n",
              "\"\"\"\n",
              "                            OLS Regression Results                            \n",
              "==============================================================================\n",
              "Dep. Variable:                    cnt   R-squared:                       0.757\n",
              "Model:                            OLS   Adj. R-squared:                  0.750\n",
              "Method:                 Least Squares   F-statistic:                     118.6\n",
              "Date:                Wed, 14 Jul 2021   Prob (F-statistic):          7.66e-143\n",
              "Time:                        16:56:23   Log-Likelihood:                 404.43\n",
              "No. Observations:                 510   AIC:                            -780.9\n",
              "Df Residuals:                     496   BIC:                            -721.6\n",
              "Df Model:                          13                                         \n",
              "Covariance Type:            nonrobust                                         \n",
              "==================================================================================\n",
              "                     coef    std err          t      P>|t|      [0.025      0.975]\n",
              "----------------------------------------------------------------------------------\n",
              "const              0.3417      0.022     15.384      0.000       0.298       0.385\n",
              "yr                 0.2417      0.010     24.285      0.000       0.222       0.261\n",
              "weathersit_3      -0.1869      0.031     -5.981      0.000      -0.248      -0.125\n",
              "mnth_October       0.0959      0.022      4.339      0.000       0.052       0.139\n",
              "season_Fall        0.2848      0.015     19.320      0.000       0.256       0.314\n",
              "mnth_June          0.2539      0.019     13.044      0.000       0.216       0.292\n",
              "mnth_May           0.3026      0.021     14.733      0.000       0.262       0.343\n",
              "mnth_April         0.2188      0.020     10.737      0.000       0.179       0.259\n",
              "mnth_September     0.1119      0.019      5.889      0.000       0.075       0.149\n",
              "season_Winter      0.1928      0.017     11.316      0.000       0.159       0.226\n",
              "windspeed         -0.1925      0.028     -6.878      0.000      -0.247      -0.137\n",
              "holiday           -0.0737      0.033     -2.256      0.024      -0.138      -0.010\n",
              "hum               -0.1540      0.027     -5.606      0.000      -0.208      -0.100\n",
              "mnth_March         0.0953      0.021      4.551      0.000       0.054       0.136\n",
              "==============================================================================\n",
              "Omnibus:                       60.398   Durbin-Watson:                   2.046\n",
              "Prob(Omnibus):                  0.000   Jarque-Bera (JB):              107.767\n",
              "Skew:                          -0.724   Prob(JB):                     3.97e-24\n",
              "Kurtosis:                       4.724   Cond. No.                         11.0\n",
              "==============================================================================\n",
              "\n",
              "Warnings:\n",
              "[1] Standard Errors assume that the covariance matrix of the errors is correctly specified.\n",
              "\"\"\""
            ]
          },
          "metadata": {
            "tags": []
          },
          "execution_count": 59
        }
      ]
    },
    {
      "cell_type": "code",
      "metadata": {
        "colab": {
          "base_uri": "https://localhost:8080/",
          "height": 443
        },
        "id": "3UfkeAocMVRC",
        "outputId": "8f17049e-6318-4a06-dc68-1030a5fcd0a5"
      },
      "source": [
        "#VIF Calculation lm3\n",
        "vifdf=pd.DataFrame()\n",
        "vifdf['features']=X_rfe.columns\n",
        "vifdf['vif']=[variance_inflation_factor(X_rfe.values,i) for i in range(X_rfe.shape[1])]\n",
        "vifdf['vif']=round(vifdf['vif'])\n",
        "vifdf.sort_values(by='vif',ascending=False)"
      ],
      "execution_count": 60,
      "outputs": [
        {
          "output_type": "execute_result",
          "data": {
            "text/html": [
              "<div>\n",
              "<style scoped>\n",
              "    .dataframe tbody tr th:only-of-type {\n",
              "        vertical-align: middle;\n",
              "    }\n",
              "\n",
              "    .dataframe tbody tr th {\n",
              "        vertical-align: top;\n",
              "    }\n",
              "\n",
              "    .dataframe thead th {\n",
              "        text-align: right;\n",
              "    }\n",
              "</style>\n",
              "<table border=\"1\" class=\"dataframe\">\n",
              "  <thead>\n",
              "    <tr style=\"text-align: right;\">\n",
              "      <th></th>\n",
              "      <th>features</th>\n",
              "      <th>vif</th>\n",
              "    </tr>\n",
              "  </thead>\n",
              "  <tbody>\n",
              "    <tr>\n",
              "      <th>11</th>\n",
              "      <td>hum</td>\n",
              "      <td>5.0</td>\n",
              "    </tr>\n",
              "    <tr>\n",
              "      <th>9</th>\n",
              "      <td>windspeed</td>\n",
              "      <td>3.0</td>\n",
              "    </tr>\n",
              "    <tr>\n",
              "      <th>0</th>\n",
              "      <td>yr</td>\n",
              "      <td>2.0</td>\n",
              "    </tr>\n",
              "    <tr>\n",
              "      <th>2</th>\n",
              "      <td>mnth_October</td>\n",
              "      <td>2.0</td>\n",
              "    </tr>\n",
              "    <tr>\n",
              "      <th>3</th>\n",
              "      <td>season_Fall</td>\n",
              "      <td>2.0</td>\n",
              "    </tr>\n",
              "    <tr>\n",
              "      <th>8</th>\n",
              "      <td>season_Winter</td>\n",
              "      <td>2.0</td>\n",
              "    </tr>\n",
              "    <tr>\n",
              "      <th>1</th>\n",
              "      <td>weathersit_3</td>\n",
              "      <td>1.0</td>\n",
              "    </tr>\n",
              "    <tr>\n",
              "      <th>4</th>\n",
              "      <td>mnth_June</td>\n",
              "      <td>1.0</td>\n",
              "    </tr>\n",
              "    <tr>\n",
              "      <th>5</th>\n",
              "      <td>mnth_May</td>\n",
              "      <td>1.0</td>\n",
              "    </tr>\n",
              "    <tr>\n",
              "      <th>6</th>\n",
              "      <td>mnth_April</td>\n",
              "      <td>1.0</td>\n",
              "    </tr>\n",
              "    <tr>\n",
              "      <th>7</th>\n",
              "      <td>mnth_September</td>\n",
              "      <td>1.0</td>\n",
              "    </tr>\n",
              "    <tr>\n",
              "      <th>10</th>\n",
              "      <td>holiday</td>\n",
              "      <td>1.0</td>\n",
              "    </tr>\n",
              "    <tr>\n",
              "      <th>12</th>\n",
              "      <td>mnth_March</td>\n",
              "      <td>1.0</td>\n",
              "    </tr>\n",
              "  </tbody>\n",
              "</table>\n",
              "</div>"
            ],
            "text/plain": [
              "          features  vif\n",
              "11             hum  5.0\n",
              "9        windspeed  3.0\n",
              "0               yr  2.0\n",
              "2     mnth_October  2.0\n",
              "3      season_Fall  2.0\n",
              "8    season_Winter  2.0\n",
              "1     weathersit_3  1.0\n",
              "4        mnth_June  1.0\n",
              "5         mnth_May  1.0\n",
              "6       mnth_April  1.0\n",
              "7   mnth_September  1.0\n",
              "10         holiday  1.0\n",
              "12      mnth_March  1.0"
            ]
          },
          "metadata": {
            "tags": []
          },
          "execution_count": 60
        }
      ]
    },
    {
      "cell_type": "markdown",
      "metadata": {
        "id": "V4t1uZ4GPM6o"
      },
      "source": [
        "Inferences from Model 3\n",
        "\n",
        "*   As humidity has a high VIF value, it can be dropped.\n",
        "\n",
        "\n"
      ]
    },
    {
      "cell_type": "code",
      "metadata": {
        "colab": {
          "base_uri": "https://localhost:8080/"
        },
        "id": "qvWxvY_GPb6K",
        "outputId": "6111ed90-e565-40fe-ab20-b128c693085e"
      },
      "source": [
        "#drop hum from the dataset\n",
        "X_rfe.drop('hum',axis=1,inplace=True)\n",
        "X_rfe.columns"
      ],
      "execution_count": 61,
      "outputs": [
        {
          "output_type": "execute_result",
          "data": {
            "text/plain": [
              "Index(['yr', 'weathersit_3', 'mnth_October', 'season_Fall', 'mnth_June',\n",
              "       'mnth_May', 'mnth_April', 'mnth_September', 'season_Winter',\n",
              "       'windspeed', 'holiday', 'mnth_March'],\n",
              "      dtype='object')"
            ]
          },
          "metadata": {
            "tags": []
          },
          "execution_count": 61
        }
      ]
    },
    {
      "cell_type": "markdown",
      "metadata": {
        "id": "045IvtgeSqf8"
      },
      "source": [
        "####Model 4"
      ]
    },
    {
      "cell_type": "code",
      "metadata": {
        "colab": {
          "base_uri": "https://localhost:8080/",
          "height": 647
        },
        "id": "mbu2OyTpSuGE",
        "outputId": "e6ca77da-9471-485a-be04-fad3a66117d3"
      },
      "source": [
        "X_rfe_cnst=sm.add_constant(X_rfe)\n",
        "lm4=sm.OLS(y_train,X_rfe_cnst).fit()\n",
        "lm4.summary()"
      ],
      "execution_count": 62,
      "outputs": [
        {
          "output_type": "execute_result",
          "data": {
            "text/html": [
              "<table class=\"simpletable\">\n",
              "<caption>OLS Regression Results</caption>\n",
              "<tr>\n",
              "  <th>Dep. Variable:</th>           <td>cnt</td>       <th>  R-squared:         </th> <td>   0.741</td> \n",
              "</tr>\n",
              "<tr>\n",
              "  <th>Model:</th>                   <td>OLS</td>       <th>  Adj. R-squared:    </th> <td>   0.735</td> \n",
              "</tr>\n",
              "<tr>\n",
              "  <th>Method:</th>             <td>Least Squares</td>  <th>  F-statistic:       </th> <td>   118.6</td> \n",
              "</tr>\n",
              "<tr>\n",
              "  <th>Date:</th>             <td>Wed, 14 Jul 2021</td> <th>  Prob (F-statistic):</th> <td>2.54e-137</td>\n",
              "</tr>\n",
              "<tr>\n",
              "  <th>Time:</th>                 <td>16:56:24</td>     <th>  Log-Likelihood:    </th> <td>  388.77</td> \n",
              "</tr>\n",
              "<tr>\n",
              "  <th>No. Observations:</th>      <td>   510</td>      <th>  AIC:               </th> <td>  -751.5</td> \n",
              "</tr>\n",
              "<tr>\n",
              "  <th>Df Residuals:</th>          <td>   497</td>      <th>  BIC:               </th> <td>  -696.5</td> \n",
              "</tr>\n",
              "<tr>\n",
              "  <th>Df Model:</th>              <td>    12</td>      <th>                     </th>     <td> </td>    \n",
              "</tr>\n",
              "<tr>\n",
              "  <th>Covariance Type:</th>      <td>nonrobust</td>    <th>                     </th>     <td> </td>    \n",
              "</tr>\n",
              "</table>\n",
              "<table class=\"simpletable\">\n",
              "<tr>\n",
              "         <td></td>           <th>coef</th>     <th>std err</th>      <th>t</th>      <th>P>|t|</th>  <th>[0.025</th>    <th>0.975]</th>  \n",
              "</tr>\n",
              "<tr>\n",
              "  <th>const</th>          <td>    0.2577</td> <td>    0.017</td> <td>   15.255</td> <td> 0.000</td> <td>    0.225</td> <td>    0.291</td>\n",
              "</tr>\n",
              "<tr>\n",
              "  <th>yr</th>             <td>    0.2487</td> <td>    0.010</td> <td>   24.448</td> <td> 0.000</td> <td>    0.229</td> <td>    0.269</td>\n",
              "</tr>\n",
              "<tr>\n",
              "  <th>weathersit_3</th>   <td>   -0.2411</td> <td>    0.031</td> <td>   -7.873</td> <td> 0.000</td> <td>   -0.301</td> <td>   -0.181</td>\n",
              "</tr>\n",
              "<tr>\n",
              "  <th>mnth_October</th>   <td>    0.0832</td> <td>    0.023</td> <td>    3.673</td> <td> 0.000</td> <td>    0.039</td> <td>    0.128</td>\n",
              "</tr>\n",
              "<tr>\n",
              "  <th>season_Fall</th>    <td>    0.2804</td> <td>    0.015</td> <td>   18.492</td> <td> 0.000</td> <td>    0.251</td> <td>    0.310</td>\n",
              "</tr>\n",
              "<tr>\n",
              "  <th>mnth_June</th>      <td>    0.2540</td> <td>    0.020</td> <td>   12.663</td> <td> 0.000</td> <td>    0.215</td> <td>    0.293</td>\n",
              "</tr>\n",
              "<tr>\n",
              "  <th>mnth_May</th>       <td>    0.2782</td> <td>    0.021</td> <td>   13.455</td> <td> 0.000</td> <td>    0.238</td> <td>    0.319</td>\n",
              "</tr>\n",
              "<tr>\n",
              "  <th>mnth_April</th>     <td>    0.2137</td> <td>    0.021</td> <td>   10.188</td> <td> 0.000</td> <td>    0.172</td> <td>    0.255</td>\n",
              "</tr>\n",
              "<tr>\n",
              "  <th>mnth_September</th> <td>    0.0941</td> <td>    0.019</td> <td>    4.877</td> <td> 0.000</td> <td>    0.056</td> <td>    0.132</td>\n",
              "</tr>\n",
              "<tr>\n",
              "  <th>season_Winter</th>  <td>    0.1843</td> <td>    0.017</td> <td>   10.541</td> <td> 0.000</td> <td>    0.150</td> <td>    0.219</td>\n",
              "</tr>\n",
              "<tr>\n",
              "  <th>windspeed</th>      <td>   -0.1589</td> <td>    0.028</td> <td>   -5.644</td> <td> 0.000</td> <td>   -0.214</td> <td>   -0.104</td>\n",
              "</tr>\n",
              "<tr>\n",
              "  <th>holiday</th>        <td>   -0.0721</td> <td>    0.034</td> <td>   -2.143</td> <td> 0.033</td> <td>   -0.138</td> <td>   -0.006</td>\n",
              "</tr>\n",
              "<tr>\n",
              "  <th>mnth_March</th>     <td>    0.0951</td> <td>    0.022</td> <td>    4.412</td> <td> 0.000</td> <td>    0.053</td> <td>    0.137</td>\n",
              "</tr>\n",
              "</table>\n",
              "<table class=\"simpletable\">\n",
              "<tr>\n",
              "  <th>Omnibus:</th>       <td>69.284</td> <th>  Durbin-Watson:     </th> <td>   2.046</td>\n",
              "</tr>\n",
              "<tr>\n",
              "  <th>Prob(Omnibus):</th> <td> 0.000</td> <th>  Jarque-Bera (JB):  </th> <td> 122.750</td>\n",
              "</tr>\n",
              "<tr>\n",
              "  <th>Skew:</th>          <td>-0.818</td> <th>  Prob(JB):          </th> <td>2.21e-27</td>\n",
              "</tr>\n",
              "<tr>\n",
              "  <th>Kurtosis:</th>      <td> 4.760</td> <th>  Cond. No.          </th> <td>    8.72</td>\n",
              "</tr>\n",
              "</table><br/><br/>Warnings:<br/>[1] Standard Errors assume that the covariance matrix of the errors is correctly specified."
            ],
            "text/plain": [
              "<class 'statsmodels.iolib.summary.Summary'>\n",
              "\"\"\"\n",
              "                            OLS Regression Results                            \n",
              "==============================================================================\n",
              "Dep. Variable:                    cnt   R-squared:                       0.741\n",
              "Model:                            OLS   Adj. R-squared:                  0.735\n",
              "Method:                 Least Squares   F-statistic:                     118.6\n",
              "Date:                Wed, 14 Jul 2021   Prob (F-statistic):          2.54e-137\n",
              "Time:                        16:56:24   Log-Likelihood:                 388.77\n",
              "No. Observations:                 510   AIC:                            -751.5\n",
              "Df Residuals:                     497   BIC:                            -696.5\n",
              "Df Model:                          12                                         \n",
              "Covariance Type:            nonrobust                                         \n",
              "==================================================================================\n",
              "                     coef    std err          t      P>|t|      [0.025      0.975]\n",
              "----------------------------------------------------------------------------------\n",
              "const              0.2577      0.017     15.255      0.000       0.225       0.291\n",
              "yr                 0.2487      0.010     24.448      0.000       0.229       0.269\n",
              "weathersit_3      -0.2411      0.031     -7.873      0.000      -0.301      -0.181\n",
              "mnth_October       0.0832      0.023      3.673      0.000       0.039       0.128\n",
              "season_Fall        0.2804      0.015     18.492      0.000       0.251       0.310\n",
              "mnth_June          0.2540      0.020     12.663      0.000       0.215       0.293\n",
              "mnth_May           0.2782      0.021     13.455      0.000       0.238       0.319\n",
              "mnth_April         0.2137      0.021     10.188      0.000       0.172       0.255\n",
              "mnth_September     0.0941      0.019      4.877      0.000       0.056       0.132\n",
              "season_Winter      0.1843      0.017     10.541      0.000       0.150       0.219\n",
              "windspeed         -0.1589      0.028     -5.644      0.000      -0.214      -0.104\n",
              "holiday           -0.0721      0.034     -2.143      0.033      -0.138      -0.006\n",
              "mnth_March         0.0951      0.022      4.412      0.000       0.053       0.137\n",
              "==============================================================================\n",
              "Omnibus:                       69.284   Durbin-Watson:                   2.046\n",
              "Prob(Omnibus):                  0.000   Jarque-Bera (JB):              122.750\n",
              "Skew:                          -0.818   Prob(JB):                     2.21e-27\n",
              "Kurtosis:                       4.760   Cond. No.                         8.72\n",
              "==============================================================================\n",
              "\n",
              "Warnings:\n",
              "[1] Standard Errors assume that the covariance matrix of the errors is correctly specified.\n",
              "\"\"\""
            ]
          },
          "metadata": {
            "tags": []
          },
          "execution_count": 62
        }
      ]
    },
    {
      "cell_type": "code",
      "metadata": {
        "colab": {
          "base_uri": "https://localhost:8080/",
          "height": 412
        },
        "id": "E1qhr3NZS_iQ",
        "outputId": "ec77a19e-baa7-4758-e7f7-2375e044b329"
      },
      "source": [
        "vifdf=pd.DataFrame()\n",
        "vifdf['features']=X_rfe.columns\n",
        "vifdf['vif']=[variance_inflation_factor(X_rfe.values,i) for i in range(X_rfe.shape[1])]\n",
        "vifdf['vif']=round(vifdf['vif'])\n",
        "vifdf.sort_values(by='vif',ascending=False)"
      ],
      "execution_count": 63,
      "outputs": [
        {
          "output_type": "execute_result",
          "data": {
            "text/html": [
              "<div>\n",
              "<style scoped>\n",
              "    .dataframe tbody tr th:only-of-type {\n",
              "        vertical-align: middle;\n",
              "    }\n",
              "\n",
              "    .dataframe tbody tr th {\n",
              "        vertical-align: top;\n",
              "    }\n",
              "\n",
              "    .dataframe thead th {\n",
              "        text-align: right;\n",
              "    }\n",
              "</style>\n",
              "<table border=\"1\" class=\"dataframe\">\n",
              "  <thead>\n",
              "    <tr style=\"text-align: right;\">\n",
              "      <th></th>\n",
              "      <th>features</th>\n",
              "      <th>vif</th>\n",
              "    </tr>\n",
              "  </thead>\n",
              "  <tbody>\n",
              "    <tr>\n",
              "      <th>9</th>\n",
              "      <td>windspeed</td>\n",
              "      <td>3.0</td>\n",
              "    </tr>\n",
              "    <tr>\n",
              "      <th>0</th>\n",
              "      <td>yr</td>\n",
              "      <td>2.0</td>\n",
              "    </tr>\n",
              "    <tr>\n",
              "      <th>2</th>\n",
              "      <td>mnth_October</td>\n",
              "      <td>2.0</td>\n",
              "    </tr>\n",
              "    <tr>\n",
              "      <th>3</th>\n",
              "      <td>season_Fall</td>\n",
              "      <td>2.0</td>\n",
              "    </tr>\n",
              "    <tr>\n",
              "      <th>8</th>\n",
              "      <td>season_Winter</td>\n",
              "      <td>2.0</td>\n",
              "    </tr>\n",
              "    <tr>\n",
              "      <th>1</th>\n",
              "      <td>weathersit_3</td>\n",
              "      <td>1.0</td>\n",
              "    </tr>\n",
              "    <tr>\n",
              "      <th>4</th>\n",
              "      <td>mnth_June</td>\n",
              "      <td>1.0</td>\n",
              "    </tr>\n",
              "    <tr>\n",
              "      <th>5</th>\n",
              "      <td>mnth_May</td>\n",
              "      <td>1.0</td>\n",
              "    </tr>\n",
              "    <tr>\n",
              "      <th>6</th>\n",
              "      <td>mnth_April</td>\n",
              "      <td>1.0</td>\n",
              "    </tr>\n",
              "    <tr>\n",
              "      <th>7</th>\n",
              "      <td>mnth_September</td>\n",
              "      <td>1.0</td>\n",
              "    </tr>\n",
              "    <tr>\n",
              "      <th>10</th>\n",
              "      <td>holiday</td>\n",
              "      <td>1.0</td>\n",
              "    </tr>\n",
              "    <tr>\n",
              "      <th>11</th>\n",
              "      <td>mnth_March</td>\n",
              "      <td>1.0</td>\n",
              "    </tr>\n",
              "  </tbody>\n",
              "</table>\n",
              "</div>"
            ],
            "text/plain": [
              "          features  vif\n",
              "9        windspeed  3.0\n",
              "0               yr  2.0\n",
              "2     mnth_October  2.0\n",
              "3      season_Fall  2.0\n",
              "8    season_Winter  2.0\n",
              "1     weathersit_3  1.0\n",
              "4        mnth_June  1.0\n",
              "5         mnth_May  1.0\n",
              "6       mnth_April  1.0\n",
              "7   mnth_September  1.0\n",
              "10         holiday  1.0\n",
              "11      mnth_March  1.0"
            ]
          },
          "metadata": {
            "tags": []
          },
          "execution_count": 63
        }
      ]
    },
    {
      "cell_type": "markdown",
      "metadata": {
        "id": "3sZDkqNpuDY0"
      },
      "source": [
        "windspeed\t\n",
        "yr\n",
        "mnth_October\n",
        "season_Fall\n",
        "season_Winter\n",
        "weathersit_3\n",
        "mnth_June\n",
        "mnth_May\n",
        "mnth_April\n",
        "mnth_September\n",
        "holiday\n",
        "mnth_March"
      ]
    },
    {
      "cell_type": "markdown",
      "metadata": {
        "id": "U07zWkMZUQY0"
      },
      "source": [
        "Inferences from Model 4\n",
        "\n",
        "\n",
        "*   All VIF values are under 5.0\n",
        "*   Since all p-values are less than 0.05 we can check continue to check if the model is fitting appropriately.\n",
        "\n"
      ]
    },
    {
      "cell_type": "markdown",
      "metadata": {
        "id": "dWbsvzt2U1c1"
      },
      "source": [
        "###Residual Analysis"
      ]
    },
    {
      "cell_type": "code",
      "metadata": {
        "colab": {
          "base_uri": "https://localhost:8080/"
        },
        "id": "ixaPIOC7U60Q",
        "outputId": "61753aa3-76e7-4d49-a79d-ea62c72a0428"
      },
      "source": [
        "#Sorting the coefficients of the final model\n",
        "lm4.params.sort_values(ascending=False)"
      ],
      "execution_count": 64,
      "outputs": [
        {
          "output_type": "execute_result",
          "data": {
            "text/plain": [
              "season_Fall       0.280445\n",
              "mnth_May          0.278234\n",
              "const             0.257727\n",
              "mnth_June         0.253952\n",
              "yr                0.248678\n",
              "mnth_April        0.213689\n",
              "season_Winter     0.184287\n",
              "mnth_March        0.095133\n",
              "mnth_September    0.094121\n",
              "mnth_October      0.083221\n",
              "holiday          -0.072124\n",
              "windspeed        -0.158944\n",
              "weathersit_3     -0.241051\n",
              "dtype: float64"
            ]
          },
          "metadata": {
            "tags": []
          },
          "execution_count": 64
        }
      ]
    },
    {
      "cell_type": "code",
      "metadata": {
        "id": "_mkAvVnyVU2D"
      },
      "source": [
        "#Calculating residual from predicted value\n",
        "y_train_pred = lm4.predict(X_rfe_cnst)\n",
        "res=y_train-y_train_pred"
      ],
      "execution_count": 65,
      "outputs": []
    },
    {
      "cell_type": "code",
      "metadata": {
        "colab": {
          "base_uri": "https://localhost:8080/",
          "height": 295
        },
        "id": "kSTuuOwZWK-j",
        "outputId": "ba73634e-c355-408b-a824-67953985d407"
      },
      "source": [
        "#plotting the residual to \n",
        "plt.title(\"Error Distribution-Residual Analysis\")\n",
        "sns.distplot(res)\n",
        "plt.xlabel(\"Residual\")\n",
        "plt.ylabel(\"\")\n",
        "plt.show()"
      ],
      "execution_count": 66,
      "outputs": [
        {
          "output_type": "display_data",
          "data": {
            "image/png": "[encoded data removed]",
            "text/plain": [
              "<Figure size 432x288 with 1 Axes>"
            ]
          },
          "metadata": {
            "tags": [],
            "needs_background": "light"
          }
        }
      ]
    },
    {
      "cell_type": "markdown",
      "metadata": {
        "id": "vG9iR3urW8lT"
      },
      "source": [
        "It can be seen that, the error is normally distributed around zero, it has modeled the assumption of Error Normal Distribution."
      ]
    },
    {
      "cell_type": "code",
      "metadata": {
        "colab": {
          "base_uri": "https://localhost:8080/",
          "height": 295
        },
        "id": "e0Im8dGZoh2i",
        "outputId": "8bab26bf-5de5-46cb-851b-7377616bb2c4"
      },
      "source": [
        "# Plotting Residuals vs y_predicted\n",
        "plt.title(\"Residuals vs y__train_pred\")\n",
        "sns.regplot(x=y_train_pred, y=res)\n",
        "plt.xlabel(\"Residual\")\n",
        "plt.ylabel(\"y_train_pred\")\n",
        "plt.show()"
      ],
      "execution_count": 67,
      "outputs": [
        {
          "output_type": "display_data",
          "data": {
            "image/png": "[encoded data removed]",
            "text/plain": [
              "<Figure size 432x288 with 1 Axes>"
            ]
          },
          "metadata": {
            "tags": [],
            "needs_background": "light"
          }
        }
      ]
    },
    {
      "cell_type": "code",
      "metadata": {
        "colab": {
          "base_uri": "https://localhost:8080/",
          "height": 295
        },
        "id": "LNzNee9qaTs1",
        "outputId": "187f7f0d-22ff-45b6-b966-2d1a1608484c"
      },
      "source": [
        "# Checking the Homoscedasticity property by plotting the predicted points vs Actual points\n",
        "plt.title(\"Actual points vs Predicted points\")\n",
        "plt.scatter(x=y_train,y=y_train_pred, alpha=0.5)\n",
        "plt.xlabel(\"Actual Points\")\n",
        "plt.xlabel(\"Predicted Points\")\n",
        "plt.show()"
      ],
      "execution_count": 68,
      "outputs": [
        {
          "output_type": "display_data",
          "data": {
            "image/png": "[encoded data removed]",
            "text/plain": [
              "<Figure size 432x288 with 1 Axes>"
            ]
          },
          "metadata": {
            "tags": [],
            "needs_background": "light"
          }
        }
      ]
    },
    {
      "cell_type": "markdown",
      "metadata": {
        "id": "2lPEK6C5pEm_"
      },
      "source": [
        "Inference \n",
        "\n",
        "\n",
        "*   There is no specific pattern between Residual and y_train_pred, no specific pattern formed.\n",
        "\n"
      ]
    },
    {
      "cell_type": "markdown",
      "metadata": {
        "id": "xkqT_uyBqWNj"
      },
      "source": [
        "###Testing the Model"
      ]
    },
    {
      "cell_type": "code",
      "metadata": {
        "id": "K3sMPW1Sqck6"
      },
      "source": [
        "#Scaling the test dataset\n",
        "df_test[scale]=sc_X.fit_transform(df_test[scale])"
      ],
      "execution_count": 69,
      "outputs": []
    },
    {
      "cell_type": "code",
      "metadata": {
        "colab": {
          "base_uri": "https://localhost:8080/",
          "height": 220
        },
        "id": "qTQgHT9TroQM",
        "outputId": "53aa7b3e-a987-4ecd-fe14-5c79224b7b87"
      },
      "source": [
        "df_test.head()"
      ],
      "execution_count": 70,
      "outputs": [
        {
          "output_type": "execute_result",
          "data": {
            "text/html": [
              "<div>\n",
              "<style scoped>\n",
              "    .dataframe tbody tr th:only-of-type {\n",
              "        vertical-align: middle;\n",
              "    }\n",
              "\n",
              "    .dataframe tbody tr th {\n",
              "        vertical-align: top;\n",
              "    }\n",
              "\n",
              "    .dataframe thead th {\n",
              "        text-align: right;\n",
              "    }\n",
              "</style>\n",
              "<table border=\"1\" class=\"dataframe\">\n",
              "  <thead>\n",
              "    <tr style=\"text-align: right;\">\n",
              "      <th></th>\n",
              "      <th>yr</th>\n",
              "      <th>holiday</th>\n",
              "      <th>workingday</th>\n",
              "      <th>temp</th>\n",
              "      <th>hum</th>\n",
              "      <th>windspeed</th>\n",
              "      <th>cnt</th>\n",
              "      <th>mnth_February</th>\n",
              "      <th>mnth_March</th>\n",
              "      <th>mnth_April</th>\n",
              "      <th>mnth_May</th>\n",
              "      <th>mnth_June</th>\n",
              "      <th>mnth_July</th>\n",
              "      <th>mnth_August</th>\n",
              "      <th>mnth_September</th>\n",
              "      <th>mnth_October</th>\n",
              "      <th>mnth_November</th>\n",
              "      <th>mnth_December</th>\n",
              "      <th>weathersit_2</th>\n",
              "      <th>weathersit_3</th>\n",
              "      <th>weekday_monday</th>\n",
              "      <th>weekday_tuesday</th>\n",
              "      <th>weekday_wednesday</th>\n",
              "      <th>weekday_thursday</th>\n",
              "      <th>weekday_friday</th>\n",
              "      <th>weekday_saturday</th>\n",
              "      <th>season_Summer</th>\n",
              "      <th>season_Fall</th>\n",
              "      <th>season_Winter</th>\n",
              "    </tr>\n",
              "  </thead>\n",
              "  <tbody>\n",
              "    <tr>\n",
              "      <th>559</th>\n",
              "      <td>1</td>\n",
              "      <td>0</td>\n",
              "      <td>0</td>\n",
              "      <td>0.831190</td>\n",
              "      <td>0.653355</td>\n",
              "      <td>0.250040</td>\n",
              "      <td>0.824360</td>\n",
              "      <td>0</td>\n",
              "      <td>0</td>\n",
              "      <td>0</td>\n",
              "      <td>0</td>\n",
              "      <td>0</td>\n",
              "      <td>1</td>\n",
              "      <td>0</td>\n",
              "      <td>0</td>\n",
              "      <td>0</td>\n",
              "      <td>0</td>\n",
              "      <td>0</td>\n",
              "      <td>1</td>\n",
              "      <td>0</td>\n",
              "      <td>0</td>\n",
              "      <td>0</td>\n",
              "      <td>0</td>\n",
              "      <td>0</td>\n",
              "      <td>0</td>\n",
              "      <td>0</td>\n",
              "      <td>0</td>\n",
              "      <td>1</td>\n",
              "      <td>0</td>\n",
              "    </tr>\n",
              "    <tr>\n",
              "      <th>160</th>\n",
              "      <td>0</td>\n",
              "      <td>0</td>\n",
              "      <td>0</td>\n",
              "      <td>0.897854</td>\n",
              "      <td>0.533013</td>\n",
              "      <td>0.243598</td>\n",
              "      <td>0.523894</td>\n",
              "      <td>0</td>\n",
              "      <td>0</td>\n",
              "      <td>0</td>\n",
              "      <td>0</td>\n",
              "      <td>1</td>\n",
              "      <td>0</td>\n",
              "      <td>0</td>\n",
              "      <td>0</td>\n",
              "      <td>0</td>\n",
              "      <td>0</td>\n",
              "      <td>0</td>\n",
              "      <td>0</td>\n",
              "      <td>0</td>\n",
              "      <td>0</td>\n",
              "      <td>0</td>\n",
              "      <td>0</td>\n",
              "      <td>0</td>\n",
              "      <td>0</td>\n",
              "      <td>0</td>\n",
              "      <td>1</td>\n",
              "      <td>0</td>\n",
              "      <td>0</td>\n",
              "    </tr>\n",
              "    <tr>\n",
              "      <th>717</th>\n",
              "      <td>1</td>\n",
              "      <td>0</td>\n",
              "      <td>1</td>\n",
              "      <td>0.352718</td>\n",
              "      <td>0.559105</td>\n",
              "      <td>0.333354</td>\n",
              "      <td>0.609759</td>\n",
              "      <td>0</td>\n",
              "      <td>0</td>\n",
              "      <td>0</td>\n",
              "      <td>0</td>\n",
              "      <td>0</td>\n",
              "      <td>0</td>\n",
              "      <td>0</td>\n",
              "      <td>0</td>\n",
              "      <td>0</td>\n",
              "      <td>0</td>\n",
              "      <td>1</td>\n",
              "      <td>0</td>\n",
              "      <td>0</td>\n",
              "      <td>0</td>\n",
              "      <td>0</td>\n",
              "      <td>0</td>\n",
              "      <td>1</td>\n",
              "      <td>0</td>\n",
              "      <td>0</td>\n",
              "      <td>0</td>\n",
              "      <td>0</td>\n",
              "      <td>1</td>\n",
              "    </tr>\n",
              "    <tr>\n",
              "      <th>34</th>\n",
              "      <td>0</td>\n",
              "      <td>0</td>\n",
              "      <td>0</td>\n",
              "      <td>0.196344</td>\n",
              "      <td>0.507732</td>\n",
              "      <td>0.217385</td>\n",
              "      <td>0.161014</td>\n",
              "      <td>1</td>\n",
              "      <td>0</td>\n",
              "      <td>0</td>\n",
              "      <td>0</td>\n",
              "      <td>0</td>\n",
              "      <td>0</td>\n",
              "      <td>0</td>\n",
              "      <td>0</td>\n",
              "      <td>0</td>\n",
              "      <td>0</td>\n",
              "      <td>0</td>\n",
              "      <td>1</td>\n",
              "      <td>0</td>\n",
              "      <td>0</td>\n",
              "      <td>0</td>\n",
              "      <td>0</td>\n",
              "      <td>0</td>\n",
              "      <td>0</td>\n",
              "      <td>0</td>\n",
              "      <td>0</td>\n",
              "      <td>0</td>\n",
              "      <td>0</td>\n",
              "    </tr>\n",
              "    <tr>\n",
              "      <th>318</th>\n",
              "      <td>0</td>\n",
              "      <td>0</td>\n",
              "      <td>1</td>\n",
              "      <td>0.607545</td>\n",
              "      <td>0.640042</td>\n",
              "      <td>0.365392</td>\n",
              "      <td>0.474593</td>\n",
              "      <td>0</td>\n",
              "      <td>0</td>\n",
              "      <td>0</td>\n",
              "      <td>0</td>\n",
              "      <td>0</td>\n",
              "      <td>0</td>\n",
              "      <td>0</td>\n",
              "      <td>0</td>\n",
              "      <td>0</td>\n",
              "      <td>1</td>\n",
              "      <td>0</td>\n",
              "      <td>1</td>\n",
              "      <td>0</td>\n",
              "      <td>0</td>\n",
              "      <td>0</td>\n",
              "      <td>0</td>\n",
              "      <td>1</td>\n",
              "      <td>0</td>\n",
              "      <td>0</td>\n",
              "      <td>0</td>\n",
              "      <td>0</td>\n",
              "      <td>1</td>\n",
              "    </tr>\n",
              "  </tbody>\n",
              "</table>\n",
              "</div>"
            ],
            "text/plain": [
              "     yr  holiday  workingday  ...  season_Summer  season_Fall  season_Winter\n",
              "559   1        0           0  ...              0            1              0\n",
              "160   0        0           0  ...              1            0              0\n",
              "717   1        0           1  ...              0            0              1\n",
              "34    0        0           0  ...              0            0              0\n",
              "318   0        0           1  ...              0            0              1\n",
              "\n",
              "[5 rows x 29 columns]"
            ]
          },
          "metadata": {
            "tags": []
          },
          "execution_count": 70
        }
      ]
    },
    {
      "cell_type": "code",
      "metadata": {
        "colab": {
          "base_uri": "https://localhost:8080/",
          "height": 311
        },
        "id": "EYxM5p1Kry8h",
        "outputId": "5d276c44-fef1-4661-e921-8df0452a5a8f"
      },
      "source": [
        "df_test.describe()"
      ],
      "execution_count": 71,
      "outputs": [
        {
          "output_type": "execute_result",
          "data": {
            "text/html": [
              "<div>\n",
              "<style scoped>\n",
              "    .dataframe tbody tr th:only-of-type {\n",
              "        vertical-align: middle;\n",
              "    }\n",
              "\n",
              "    .dataframe tbody tr th {\n",
              "        vertical-align: top;\n",
              "    }\n",
              "\n",
              "    .dataframe thead th {\n",
              "        text-align: right;\n",
              "    }\n",
              "</style>\n",
              "<table border=\"1\" class=\"dataframe\">\n",
              "  <thead>\n",
              "    <tr style=\"text-align: right;\">\n",
              "      <th></th>\n",
              "      <th>yr</th>\n",
              "      <th>holiday</th>\n",
              "      <th>workingday</th>\n",
              "      <th>temp</th>\n",
              "      <th>hum</th>\n",
              "      <th>windspeed</th>\n",
              "      <th>cnt</th>\n",
              "      <th>mnth_February</th>\n",
              "      <th>mnth_March</th>\n",
              "      <th>mnth_April</th>\n",
              "      <th>mnth_May</th>\n",
              "      <th>mnth_June</th>\n",
              "      <th>mnth_July</th>\n",
              "      <th>mnth_August</th>\n",
              "      <th>mnth_September</th>\n",
              "      <th>mnth_October</th>\n",
              "      <th>mnth_November</th>\n",
              "      <th>mnth_December</th>\n",
              "      <th>weathersit_2</th>\n",
              "      <th>weathersit_3</th>\n",
              "      <th>weekday_monday</th>\n",
              "      <th>weekday_tuesday</th>\n",
              "      <th>weekday_wednesday</th>\n",
              "      <th>weekday_thursday</th>\n",
              "      <th>weekday_friday</th>\n",
              "      <th>weekday_saturday</th>\n",
              "      <th>season_Summer</th>\n",
              "      <th>season_Fall</th>\n",
              "      <th>season_Winter</th>\n",
              "    </tr>\n",
              "  </thead>\n",
              "  <tbody>\n",
              "    <tr>\n",
              "      <th>count</th>\n",
              "      <td>220.000000</td>\n",
              "      <td>220.000000</td>\n",
              "      <td>220.000000</td>\n",
              "      <td>220.000000</td>\n",
              "      <td>220.000000</td>\n",
              "      <td>220.000000</td>\n",
              "      <td>220.000000</td>\n",
              "      <td>220.000000</td>\n",
              "      <td>220.000000</td>\n",
              "      <td>220.000000</td>\n",
              "      <td>220.000000</td>\n",
              "      <td>220.000000</td>\n",
              "      <td>220.000000</td>\n",
              "      <td>220.000000</td>\n",
              "      <td>220.000000</td>\n",
              "      <td>220.000000</td>\n",
              "      <td>220.000000</td>\n",
              "      <td>220.000000</td>\n",
              "      <td>220.000000</td>\n",
              "      <td>220.000000</td>\n",
              "      <td>220.000000</td>\n",
              "      <td>220.000000</td>\n",
              "      <td>220.000000</td>\n",
              "      <td>220.000000</td>\n",
              "      <td>220.000000</td>\n",
              "      <td>220.000000</td>\n",
              "      <td>220.000</td>\n",
              "      <td>220.000000</td>\n",
              "      <td>220.000000</td>\n",
              "    </tr>\n",
              "    <tr>\n",
              "      <th>mean</th>\n",
              "      <td>0.495455</td>\n",
              "      <td>0.040909</td>\n",
              "      <td>0.636364</td>\n",
              "      <td>0.545005</td>\n",
              "      <td>0.565170</td>\n",
              "      <td>0.342353</td>\n",
              "      <td>0.509720</td>\n",
              "      <td>0.063636</td>\n",
              "      <td>0.104545</td>\n",
              "      <td>0.081818</td>\n",
              "      <td>0.081818</td>\n",
              "      <td>0.086364</td>\n",
              "      <td>0.059091</td>\n",
              "      <td>0.068182</td>\n",
              "      <td>0.068182</td>\n",
              "      <td>0.104545</td>\n",
              "      <td>0.100000</td>\n",
              "      <td>0.090909</td>\n",
              "      <td>0.340909</td>\n",
              "      <td>0.027273</td>\n",
              "      <td>0.090909</td>\n",
              "      <td>0.150000</td>\n",
              "      <td>0.136364</td>\n",
              "      <td>0.168182</td>\n",
              "      <td>0.122727</td>\n",
              "      <td>0.159091</td>\n",
              "      <td>0.250</td>\n",
              "      <td>0.222727</td>\n",
              "      <td>0.268182</td>\n",
              "    </tr>\n",
              "    <tr>\n",
              "      <th>std</th>\n",
              "      <td>0.501120</td>\n",
              "      <td>0.198531</td>\n",
              "      <td>0.482143</td>\n",
              "      <td>0.234049</td>\n",
              "      <td>0.172849</td>\n",
              "      <td>0.166935</td>\n",
              "      <td>0.246101</td>\n",
              "      <td>0.244661</td>\n",
              "      <td>0.306665</td>\n",
              "      <td>0.274713</td>\n",
              "      <td>0.274713</td>\n",
              "      <td>0.281541</td>\n",
              "      <td>0.236333</td>\n",
              "      <td>0.252632</td>\n",
              "      <td>0.252632</td>\n",
              "      <td>0.306665</td>\n",
              "      <td>0.300684</td>\n",
              "      <td>0.288135</td>\n",
              "      <td>0.475096</td>\n",
              "      <td>0.163248</td>\n",
              "      <td>0.288135</td>\n",
              "      <td>0.357886</td>\n",
              "      <td>0.343957</td>\n",
              "      <td>0.374881</td>\n",
              "      <td>0.328872</td>\n",
              "      <td>0.366595</td>\n",
              "      <td>0.434</td>\n",
              "      <td>0.417026</td>\n",
              "      <td>0.444023</td>\n",
              "    </tr>\n",
              "    <tr>\n",
              "      <th>min</th>\n",
              "      <td>0.000000</td>\n",
              "      <td>0.000000</td>\n",
              "      <td>0.000000</td>\n",
              "      <td>0.000000</td>\n",
              "      <td>0.000000</td>\n",
              "      <td>0.000000</td>\n",
              "      <td>0.000000</td>\n",
              "      <td>0.000000</td>\n",
              "      <td>0.000000</td>\n",
              "      <td>0.000000</td>\n",
              "      <td>0.000000</td>\n",
              "      <td>0.000000</td>\n",
              "      <td>0.000000</td>\n",
              "      <td>0.000000</td>\n",
              "      <td>0.000000</td>\n",
              "      <td>0.000000</td>\n",
              "      <td>0.000000</td>\n",
              "      <td>0.000000</td>\n",
              "      <td>0.000000</td>\n",
              "      <td>0.000000</td>\n",
              "      <td>0.000000</td>\n",
              "      <td>0.000000</td>\n",
              "      <td>0.000000</td>\n",
              "      <td>0.000000</td>\n",
              "      <td>0.000000</td>\n",
              "      <td>0.000000</td>\n",
              "      <td>0.000</td>\n",
              "      <td>0.000000</td>\n",
              "      <td>0.000000</td>\n",
              "    </tr>\n",
              "    <tr>\n",
              "      <th>25%</th>\n",
              "      <td>0.000000</td>\n",
              "      <td>0.000000</td>\n",
              "      <td>0.000000</td>\n",
              "      <td>0.338472</td>\n",
              "      <td>0.442092</td>\n",
              "      <td>0.221167</td>\n",
              "      <td>0.340090</td>\n",
              "      <td>0.000000</td>\n",
              "      <td>0.000000</td>\n",
              "      <td>0.000000</td>\n",
              "      <td>0.000000</td>\n",
              "      <td>0.000000</td>\n",
              "      <td>0.000000</td>\n",
              "      <td>0.000000</td>\n",
              "      <td>0.000000</td>\n",
              "      <td>0.000000</td>\n",
              "      <td>0.000000</td>\n",
              "      <td>0.000000</td>\n",
              "      <td>0.000000</td>\n",
              "      <td>0.000000</td>\n",
              "      <td>0.000000</td>\n",
              "      <td>0.000000</td>\n",
              "      <td>0.000000</td>\n",
              "      <td>0.000000</td>\n",
              "      <td>0.000000</td>\n",
              "      <td>0.000000</td>\n",
              "      <td>0.000</td>\n",
              "      <td>0.000000</td>\n",
              "      <td>0.000000</td>\n",
              "    </tr>\n",
              "    <tr>\n",
              "      <th>50%</th>\n",
              "      <td>0.000000</td>\n",
              "      <td>0.000000</td>\n",
              "      <td>1.000000</td>\n",
              "      <td>0.522065</td>\n",
              "      <td>0.571619</td>\n",
              "      <td>0.308030</td>\n",
              "      <td>0.524146</td>\n",
              "      <td>0.000000</td>\n",
              "      <td>0.000000</td>\n",
              "      <td>0.000000</td>\n",
              "      <td>0.000000</td>\n",
              "      <td>0.000000</td>\n",
              "      <td>0.000000</td>\n",
              "      <td>0.000000</td>\n",
              "      <td>0.000000</td>\n",
              "      <td>0.000000</td>\n",
              "      <td>0.000000</td>\n",
              "      <td>0.000000</td>\n",
              "      <td>0.000000</td>\n",
              "      <td>0.000000</td>\n",
              "      <td>0.000000</td>\n",
              "      <td>0.000000</td>\n",
              "      <td>0.000000</td>\n",
              "      <td>0.000000</td>\n",
              "      <td>0.000000</td>\n",
              "      <td>0.000000</td>\n",
              "      <td>0.000</td>\n",
              "      <td>0.000000</td>\n",
              "      <td>0.000000</td>\n",
              "    </tr>\n",
              "    <tr>\n",
              "      <th>75%</th>\n",
              "      <td>1.000000</td>\n",
              "      <td>0.000000</td>\n",
              "      <td>1.000000</td>\n",
              "      <td>0.751355</td>\n",
              "      <td>0.681073</td>\n",
              "      <td>0.435567</td>\n",
              "      <td>0.678162</td>\n",
              "      <td>0.000000</td>\n",
              "      <td>0.000000</td>\n",
              "      <td>0.000000</td>\n",
              "      <td>0.000000</td>\n",
              "      <td>0.000000</td>\n",
              "      <td>0.000000</td>\n",
              "      <td>0.000000</td>\n",
              "      <td>0.000000</td>\n",
              "      <td>0.000000</td>\n",
              "      <td>0.000000</td>\n",
              "      <td>0.000000</td>\n",
              "      <td>1.000000</td>\n",
              "      <td>0.000000</td>\n",
              "      <td>0.000000</td>\n",
              "      <td>0.000000</td>\n",
              "      <td>0.000000</td>\n",
              "      <td>0.000000</td>\n",
              "      <td>0.000000</td>\n",
              "      <td>0.000000</td>\n",
              "      <td>0.250</td>\n",
              "      <td>0.000000</td>\n",
              "      <td>1.000000</td>\n",
              "    </tr>\n",
              "    <tr>\n",
              "      <th>max</th>\n",
              "      <td>1.000000</td>\n",
              "      <td>1.000000</td>\n",
              "      <td>1.000000</td>\n",
              "      <td>1.000000</td>\n",
              "      <td>1.000000</td>\n",
              "      <td>1.000000</td>\n",
              "      <td>1.000000</td>\n",
              "      <td>1.000000</td>\n",
              "      <td>1.000000</td>\n",
              "      <td>1.000000</td>\n",
              "      <td>1.000000</td>\n",
              "      <td>1.000000</td>\n",
              "      <td>1.000000</td>\n",
              "      <td>1.000000</td>\n",
              "      <td>1.000000</td>\n",
              "      <td>1.000000</td>\n",
              "      <td>1.000000</td>\n",
              "      <td>1.000000</td>\n",
              "      <td>1.000000</td>\n",
              "      <td>1.000000</td>\n",
              "      <td>1.000000</td>\n",
              "      <td>1.000000</td>\n",
              "      <td>1.000000</td>\n",
              "      <td>1.000000</td>\n",
              "      <td>1.000000</td>\n",
              "      <td>1.000000</td>\n",
              "      <td>1.000</td>\n",
              "      <td>1.000000</td>\n",
              "      <td>1.000000</td>\n",
              "    </tr>\n",
              "  </tbody>\n",
              "</table>\n",
              "</div>"
            ],
            "text/plain": [
              "               yr     holiday  ...  season_Fall  season_Winter\n",
              "count  220.000000  220.000000  ...   220.000000     220.000000\n",
              "mean     0.495455    0.040909  ...     0.222727       0.268182\n",
              "std      0.501120    0.198531  ...     0.417026       0.444023\n",
              "min      0.000000    0.000000  ...     0.000000       0.000000\n",
              "25%      0.000000    0.000000  ...     0.000000       0.000000\n",
              "50%      0.000000    0.000000  ...     0.000000       0.000000\n",
              "75%      1.000000    0.000000  ...     0.000000       1.000000\n",
              "max      1.000000    1.000000  ...     1.000000       1.000000\n",
              "\n",
              "[8 rows x 29 columns]"
            ]
          },
          "metadata": {
            "tags": []
          },
          "execution_count": 71
        }
      ]
    },
    {
      "cell_type": "code",
      "metadata": {
        "id": "qT4Y_ndpsXQU"
      },
      "source": [
        "#Split the target variable from other variables\n",
        "y_test=df_test.pop('cnt')\n",
        "X_test=df_test"
      ],
      "execution_count": 72,
      "outputs": []
    },
    {
      "cell_type": "code",
      "metadata": {
        "colab": {
          "base_uri": "https://localhost:8080/"
        },
        "id": "e3PA15y-srpT",
        "outputId": "135124b9-8076-4ba4-81aa-855788b73bdb"
      },
      "source": [
        "X_test.shape"
      ],
      "execution_count": 73,
      "outputs": [
        {
          "output_type": "execute_result",
          "data": {
            "text/plain": [
              "(220, 28)"
            ]
          },
          "metadata": {
            "tags": []
          },
          "execution_count": 73
        }
      ]
    },
    {
      "cell_type": "code",
      "metadata": {
        "colab": {
          "base_uri": "https://localhost:8080/"
        },
        "id": "Vx4I4szTtCfD",
        "outputId": "ead64be2-2571-4b56-98a4-09c23785d968"
      },
      "source": [
        "y_test.shape"
      ],
      "execution_count": 74,
      "outputs": [
        {
          "output_type": "execute_result",
          "data": {
            "text/plain": [
              "(220,)"
            ]
          },
          "metadata": {
            "tags": []
          },
          "execution_count": 74
        }
      ]
    },
    {
      "cell_type": "code",
      "metadata": {
        "id": "7bGuVoeNt0qk"
      },
      "source": [
        "#Filtering columns from the last model\n",
        "col=['windspeed','yr','mnth_October','season_Fall','season_Winter','weathersit_3','mnth_June','mnth_May','mnth_April','mnth_September','holiday','mnth_March']"
      ],
      "execution_count": 75,
      "outputs": []
    },
    {
      "cell_type": "code",
      "metadata": {
        "id": "bdFlbpwFvuX7"
      },
      "source": [
        "# Filtering the test data on the basis of columns used in model 4\n",
        "X_test=X_test[col]\n",
        "X_test_cnsnt=sm.add_constant(X_test)"
      ],
      "execution_count": 76,
      "outputs": []
    },
    {
      "cell_type": "code",
      "metadata": {
        "colab": {
          "base_uri": "https://localhost:8080/",
          "height": 411
        },
        "id": "awWO1Tj6v3fJ",
        "outputId": "d506cd0e-5006-40a1-be4e-b332da1e3a86"
      },
      "source": [
        "X_test"
      ],
      "execution_count": 77,
      "outputs": [
        {
          "output_type": "execute_result",
          "data": {
            "text/html": [
              "<div>\n",
              "<style scoped>\n",
              "    .dataframe tbody tr th:only-of-type {\n",
              "        vertical-align: middle;\n",
              "    }\n",
              "\n",
              "    .dataframe tbody tr th {\n",
              "        vertical-align: top;\n",
              "    }\n",
              "\n",
              "    .dataframe thead th {\n",
              "        text-align: right;\n",
              "    }\n",
              "</style>\n",
              "<table border=\"1\" class=\"dataframe\">\n",
              "  <thead>\n",
              "    <tr style=\"text-align: right;\">\n",
              "      <th></th>\n",
              "      <th>windspeed</th>\n",
              "      <th>yr</th>\n",
              "      <th>mnth_October</th>\n",
              "      <th>season_Fall</th>\n",
              "      <th>season_Winter</th>\n",
              "      <th>weathersit_3</th>\n",
              "      <th>mnth_June</th>\n",
              "      <th>mnth_May</th>\n",
              "      <th>mnth_April</th>\n",
              "      <th>mnth_September</th>\n",
              "      <th>holiday</th>\n",
              "      <th>mnth_March</th>\n",
              "    </tr>\n",
              "  </thead>\n",
              "  <tbody>\n",
              "    <tr>\n",
              "      <th>559</th>\n",
              "      <td>0.250040</td>\n",
              "      <td>1</td>\n",
              "      <td>0</td>\n",
              "      <td>1</td>\n",
              "      <td>0</td>\n",
              "      <td>0</td>\n",
              "      <td>0</td>\n",
              "      <td>0</td>\n",
              "      <td>0</td>\n",
              "      <td>0</td>\n",
              "      <td>0</td>\n",
              "      <td>0</td>\n",
              "    </tr>\n",
              "    <tr>\n",
              "      <th>160</th>\n",
              "      <td>0.243598</td>\n",
              "      <td>0</td>\n",
              "      <td>0</td>\n",
              "      <td>0</td>\n",
              "      <td>0</td>\n",
              "      <td>0</td>\n",
              "      <td>1</td>\n",
              "      <td>0</td>\n",
              "      <td>0</td>\n",
              "      <td>0</td>\n",
              "      <td>0</td>\n",
              "      <td>0</td>\n",
              "    </tr>\n",
              "    <tr>\n",
              "      <th>717</th>\n",
              "      <td>0.333354</td>\n",
              "      <td>1</td>\n",
              "      <td>0</td>\n",
              "      <td>0</td>\n",
              "      <td>1</td>\n",
              "      <td>0</td>\n",
              "      <td>0</td>\n",
              "      <td>0</td>\n",
              "      <td>0</td>\n",
              "      <td>0</td>\n",
              "      <td>0</td>\n",
              "      <td>0</td>\n",
              "    </tr>\n",
              "    <tr>\n",
              "      <th>34</th>\n",
              "      <td>0.217385</td>\n",
              "      <td>0</td>\n",
              "      <td>0</td>\n",
              "      <td>0</td>\n",
              "      <td>0</td>\n",
              "      <td>0</td>\n",
              "      <td>0</td>\n",
              "      <td>0</td>\n",
              "      <td>0</td>\n",
              "      <td>0</td>\n",
              "      <td>0</td>\n",
              "      <td>0</td>\n",
              "    </tr>\n",
              "    <tr>\n",
              "      <th>318</th>\n",
              "      <td>0.365392</td>\n",
              "      <td>0</td>\n",
              "      <td>0</td>\n",
              "      <td>0</td>\n",
              "      <td>1</td>\n",
              "      <td>0</td>\n",
              "      <td>0</td>\n",
              "      <td>0</td>\n",
              "      <td>0</td>\n",
              "      <td>0</td>\n",
              "      <td>0</td>\n",
              "      <td>0</td>\n",
              "    </tr>\n",
              "    <tr>\n",
              "      <th>...</th>\n",
              "      <td>...</td>\n",
              "      <td>...</td>\n",
              "      <td>...</td>\n",
              "      <td>...</td>\n",
              "      <td>...</td>\n",
              "      <td>...</td>\n",
              "      <td>...</td>\n",
              "      <td>...</td>\n",
              "      <td>...</td>\n",
              "      <td>...</td>\n",
              "      <td>...</td>\n",
              "      <td>...</td>\n",
              "    </tr>\n",
              "    <tr>\n",
              "      <th>294</th>\n",
              "      <td>0.144876</td>\n",
              "      <td>0</td>\n",
              "      <td>1</td>\n",
              "      <td>0</td>\n",
              "      <td>1</td>\n",
              "      <td>0</td>\n",
              "      <td>0</td>\n",
              "      <td>0</td>\n",
              "      <td>0</td>\n",
              "      <td>0</td>\n",
              "      <td>0</td>\n",
              "      <td>0</td>\n",
              "    </tr>\n",
              "    <tr>\n",
              "      <th>175</th>\n",
              "      <td>0.385880</td>\n",
              "      <td>0</td>\n",
              "      <td>0</td>\n",
              "      <td>1</td>\n",
              "      <td>0</td>\n",
              "      <td>0</td>\n",
              "      <td>1</td>\n",
              "      <td>0</td>\n",
              "      <td>0</td>\n",
              "      <td>0</td>\n",
              "      <td>0</td>\n",
              "      <td>0</td>\n",
              "    </tr>\n",
              "    <tr>\n",
              "      <th>29</th>\n",
              "      <td>0.106357</td>\n",
              "      <td>0</td>\n",
              "      <td>0</td>\n",
              "      <td>0</td>\n",
              "      <td>0</td>\n",
              "      <td>0</td>\n",
              "      <td>0</td>\n",
              "      <td>0</td>\n",
              "      <td>0</td>\n",
              "      <td>0</td>\n",
              "      <td>0</td>\n",
              "      <td>0</td>\n",
              "    </tr>\n",
              "    <tr>\n",
              "      <th>74</th>\n",
              "      <td>0.372575</td>\n",
              "      <td>0</td>\n",
              "      <td>0</td>\n",
              "      <td>0</td>\n",
              "      <td>0</td>\n",
              "      <td>0</td>\n",
              "      <td>0</td>\n",
              "      <td>0</td>\n",
              "      <td>0</td>\n",
              "      <td>0</td>\n",
              "      <td>0</td>\n",
              "      <td>1</td>\n",
              "    </tr>\n",
              "    <tr>\n",
              "      <th>206</th>\n",
              "      <td>0.366681</td>\n",
              "      <td>0</td>\n",
              "      <td>0</td>\n",
              "      <td>1</td>\n",
              "      <td>0</td>\n",
              "      <td>0</td>\n",
              "      <td>0</td>\n",
              "      <td>0</td>\n",
              "      <td>0</td>\n",
              "      <td>0</td>\n",
              "      <td>0</td>\n",
              "      <td>0</td>\n",
              "    </tr>\n",
              "  </tbody>\n",
              "</table>\n",
              "<p>220 rows × 12 columns</p>\n",
              "</div>"
            ],
            "text/plain": [
              "     windspeed  yr  mnth_October  ...  mnth_September  holiday  mnth_March\n",
              "559   0.250040   1             0  ...               0        0           0\n",
              "160   0.243598   0             0  ...               0        0           0\n",
              "717   0.333354   1             0  ...               0        0           0\n",
              "34    0.217385   0             0  ...               0        0           0\n",
              "318   0.365392   0             0  ...               0        0           0\n",
              "..         ...  ..           ...  ...             ...      ...         ...\n",
              "294   0.144876   0             1  ...               0        0           0\n",
              "175   0.385880   0             0  ...               0        0           0\n",
              "29    0.106357   0             0  ...               0        0           0\n",
              "74    0.372575   0             0  ...               0        0           1\n",
              "206   0.366681   0             0  ...               0        0           0\n",
              "\n",
              "[220 rows x 12 columns]"
            ]
          },
          "metadata": {
            "tags": []
          },
          "execution_count": 77
        }
      ]
    },
    {
      "cell_type": "code",
      "metadata": {
        "id": "KirlrlL5wDKe"
      },
      "source": [
        "#Predicting Test data\n",
        "y_test_pred=lm4.predict(X_test_cnsnt)"
      ],
      "execution_count": 78,
      "outputs": []
    },
    {
      "cell_type": "code",
      "metadata": {
        "colab": {
          "base_uri": "https://localhost:8080/",
          "height": 295
        },
        "id": "a4RJMpjMwtU-",
        "outputId": "a9e4f01d-d85d-412e-b0b9-76c56d8e269f"
      },
      "source": [
        "# Plotting the predicted test points with the actual test points\n",
        "plt.title(\"Actual Test points vs Predicted Test points\")\n",
        "sns.regplot(y_test, y_test_pred)\n",
        "plt.xlabel(\"Actual Test points\")\n",
        "plt.ylabel(\"Predicted Test points\")\n",
        "plt.show()"
      ],
      "execution_count": 79,
      "outputs": [
        {
          "output_type": "display_data",
          "data": {
            "image/png": "[encoded data removed]",
            "text/plain": [
              "<Figure size 432x288 with 1 Axes>"
            ]
          },
          "metadata": {
            "tags": [],
            "needs_background": "light"
          }
        }
      ]
    },
    {
      "cell_type": "code",
      "metadata": {
        "colab": {
          "base_uri": "https://localhost:8080/"
        },
        "id": "4pdERjlww2he",
        "outputId": "c12f86f6-e720-4a79-fb79-249ede5e3d00"
      },
      "source": [
        "# Generating r2_score\n",
        "r2_score(y_true=y_test,y_pred=y_test_pred)"
      ],
      "execution_count": 80,
      "outputs": [
        {
          "output_type": "execute_result",
          "data": {
            "text/plain": [
              "-0.9569736637415218"
            ]
          },
          "metadata": {
            "tags": []
          },
          "execution_count": 80
        }
      ]
    },
    {
      "cell_type": "markdown",
      "metadata": {
        "id": "Y0gkxVJTxbsO"
      },
      "source": [
        "###Final Inferences\n",
        "\n",
        "\n",
        "\n",
        "*   season_Fall has the highest coefficient of 0.280445 , i.e. for an increase in the temperature , the bike renting count goes up by 0.280445 times\n",
        "*   yr has a coefficient of 0.248678, indicating that for an increase in unit year, the bike renting count increases by 0.248678 times\n",
        "*   During the month of May, the bike hire increases.\n",
        "\n",
        "\n"
      ]
    }
  ]
}